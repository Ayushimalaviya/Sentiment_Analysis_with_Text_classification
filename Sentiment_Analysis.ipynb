{
  "nbformat": 4,
  "nbformat_minor": 0,
  "metadata": {
    "colab": {
      "provenance": []
    },
    "kernelspec": {
      "name": "python3",
      "display_name": "Python 3"
    },
    "language_info": {
      "name": "python"
    }
  },
  "cells": [
    {
      "cell_type": "code",
      "execution_count": 47,
      "metadata": {
        "id": "W74rmbvrsZRm"
      },
      "outputs": [],
      "source": [
        "import pandas as pd\n",
        "import numpy as np\n",
        "import re\n",
        "from sklearn.model_selection import train_test_split\n",
        "from sklearn.decomposition import TruncatedSVD"
      ]
    },
    {
      "cell_type": "code",
      "source": [
        "df = pd.read_csv('/content/sample_data/amazon_reviews.csv', na_values='?')"
      ],
      "metadata": {
        "id": "qZqQ_hrpskAL"
      },
      "execution_count": 2,
      "outputs": []
    },
    {
      "cell_type": "code",
      "source": [
        "df.info()"
      ],
      "metadata": {
        "id": "lkbUwKYp5m3A",
        "colab": {
          "base_uri": "https://localhost:8080/"
        },
        "outputId": "7594f289-5817-44f6-dd4f-74402a4d27c2"
      },
      "execution_count": 3,
      "outputs": [
        {
          "output_type": "stream",
          "name": "stdout",
          "text": [
            "<class 'pandas.core.frame.DataFrame'>\n",
            "RangeIndex: 4915 entries, 0 to 4914\n",
            "Data columns (total 2 columns):\n",
            " #   Column      Non-Null Count  Dtype \n",
            "---  ------      --------------  ----- \n",
            " 0   overall     4915 non-null   int64 \n",
            " 1   reviewText  4914 non-null   object\n",
            "dtypes: int64(1), object(1)\n",
            "memory usage: 76.9+ KB\n"
          ]
        }
      ]
    },
    {
      "cell_type": "markdown",
      "source": [
        "### Missing Values"
      ],
      "metadata": {
        "id": "C_ucE6D_0ooo"
      }
    },
    {
      "cell_type": "code",
      "source": [
        "df.isna().sum()"
      ],
      "metadata": {
        "id": "82O8vbRmjFJk",
        "colab": {
          "base_uri": "https://localhost:8080/"
        },
        "outputId": "44a452f9-3049-4acf-c62c-a4372cec64ae"
      },
      "execution_count": 4,
      "outputs": [
        {
          "output_type": "execute_result",
          "data": {
            "text/plain": [
              "overall       0\n",
              "reviewText    1\n",
              "dtype: int64"
            ]
          },
          "metadata": {},
          "execution_count": 4
        }
      ]
    },
    {
      "cell_type": "code",
      "source": [
        "df.dropna(inplace=True)"
      ],
      "metadata": {
        "id": "AAuST_PwjK4z"
      },
      "execution_count": 5,
      "outputs": []
    },
    {
      "cell_type": "code",
      "source": [
        "df.head(5)"
      ],
      "metadata": {
        "id": "5JdggvocsrJO",
        "colab": {
          "base_uri": "https://localhost:8080/",
          "height": 206
        },
        "outputId": "1f99ed79-2c32-49d5-fe42-4270415c9e86"
      },
      "execution_count": 6,
      "outputs": [
        {
          "output_type": "execute_result",
          "data": {
            "text/plain": [
              "   overall                                         reviewText\n",
              "0        4                                         No issues.\n",
              "1        5  Purchased this for my device, it worked as adv...\n",
              "2        4  it works as expected. I should have sprung for...\n",
              "3        5  This think has worked out great.Had a diff. br...\n",
              "4        5  Bought it with Retail Packaging, arrived legit..."
            ],
            "text/html": [
              "\n",
              "  <div id=\"df-5fcd3c95-0f11-49f4-ac3d-6be74d40741b\" class=\"colab-df-container\">\n",
              "    <div>\n",
              "<style scoped>\n",
              "    .dataframe tbody tr th:only-of-type {\n",
              "        vertical-align: middle;\n",
              "    }\n",
              "\n",
              "    .dataframe tbody tr th {\n",
              "        vertical-align: top;\n",
              "    }\n",
              "\n",
              "    .dataframe thead th {\n",
              "        text-align: right;\n",
              "    }\n",
              "</style>\n",
              "<table border=\"1\" class=\"dataframe\">\n",
              "  <thead>\n",
              "    <tr style=\"text-align: right;\">\n",
              "      <th></th>\n",
              "      <th>overall</th>\n",
              "      <th>reviewText</th>\n",
              "    </tr>\n",
              "  </thead>\n",
              "  <tbody>\n",
              "    <tr>\n",
              "      <th>0</th>\n",
              "      <td>4</td>\n",
              "      <td>No issues.</td>\n",
              "    </tr>\n",
              "    <tr>\n",
              "      <th>1</th>\n",
              "      <td>5</td>\n",
              "      <td>Purchased this for my device, it worked as adv...</td>\n",
              "    </tr>\n",
              "    <tr>\n",
              "      <th>2</th>\n",
              "      <td>4</td>\n",
              "      <td>it works as expected. I should have sprung for...</td>\n",
              "    </tr>\n",
              "    <tr>\n",
              "      <th>3</th>\n",
              "      <td>5</td>\n",
              "      <td>This think has worked out great.Had a diff. br...</td>\n",
              "    </tr>\n",
              "    <tr>\n",
              "      <th>4</th>\n",
              "      <td>5</td>\n",
              "      <td>Bought it with Retail Packaging, arrived legit...</td>\n",
              "    </tr>\n",
              "  </tbody>\n",
              "</table>\n",
              "</div>\n",
              "    <div class=\"colab-df-buttons\">\n",
              "\n",
              "  <div class=\"colab-df-container\">\n",
              "    <button class=\"colab-df-convert\" onclick=\"convertToInteractive('df-5fcd3c95-0f11-49f4-ac3d-6be74d40741b')\"\n",
              "            title=\"Convert this dataframe to an interactive table.\"\n",
              "            style=\"display:none;\">\n",
              "\n",
              "  <svg xmlns=\"http://www.w3.org/2000/svg\" height=\"24px\" viewBox=\"0 -960 960 960\">\n",
              "    <path d=\"M120-120v-720h720v720H120Zm60-500h600v-160H180v160Zm220 220h160v-160H400v160Zm0 220h160v-160H400v160ZM180-400h160v-160H180v160Zm440 0h160v-160H620v160ZM180-180h160v-160H180v160Zm440 0h160v-160H620v160Z\"/>\n",
              "  </svg>\n",
              "    </button>\n",
              "\n",
              "  <style>\n",
              "    .colab-df-container {\n",
              "      display:flex;\n",
              "      gap: 12px;\n",
              "    }\n",
              "\n",
              "    .colab-df-convert {\n",
              "      background-color: #E8F0FE;\n",
              "      border: none;\n",
              "      border-radius: 50%;\n",
              "      cursor: pointer;\n",
              "      display: none;\n",
              "      fill: #1967D2;\n",
              "      height: 32px;\n",
              "      padding: 0 0 0 0;\n",
              "      width: 32px;\n",
              "    }\n",
              "\n",
              "    .colab-df-convert:hover {\n",
              "      background-color: #E2EBFA;\n",
              "      box-shadow: 0px 1px 2px rgba(60, 64, 67, 0.3), 0px 1px 3px 1px rgba(60, 64, 67, 0.15);\n",
              "      fill: #174EA6;\n",
              "    }\n",
              "\n",
              "    .colab-df-buttons div {\n",
              "      margin-bottom: 4px;\n",
              "    }\n",
              "\n",
              "    [theme=dark] .colab-df-convert {\n",
              "      background-color: #3B4455;\n",
              "      fill: #D2E3FC;\n",
              "    }\n",
              "\n",
              "    [theme=dark] .colab-df-convert:hover {\n",
              "      background-color: #434B5C;\n",
              "      box-shadow: 0px 1px 3px 1px rgba(0, 0, 0, 0.15);\n",
              "      filter: drop-shadow(0px 1px 2px rgba(0, 0, 0, 0.3));\n",
              "      fill: #FFFFFF;\n",
              "    }\n",
              "  </style>\n",
              "\n",
              "    <script>\n",
              "      const buttonEl =\n",
              "        document.querySelector('#df-5fcd3c95-0f11-49f4-ac3d-6be74d40741b button.colab-df-convert');\n",
              "      buttonEl.style.display =\n",
              "        google.colab.kernel.accessAllowed ? 'block' : 'none';\n",
              "\n",
              "      async function convertToInteractive(key) {\n",
              "        const element = document.querySelector('#df-5fcd3c95-0f11-49f4-ac3d-6be74d40741b');\n",
              "        const dataTable =\n",
              "          await google.colab.kernel.invokeFunction('convertToInteractive',\n",
              "                                                    [key], {});\n",
              "        if (!dataTable) return;\n",
              "\n",
              "        const docLinkHtml = 'Like what you see? Visit the ' +\n",
              "          '<a target=\"_blank\" href=https://colab.research.google.com/notebooks/data_table.ipynb>data table notebook</a>'\n",
              "          + ' to learn more about interactive tables.';\n",
              "        element.innerHTML = '';\n",
              "        dataTable['output_type'] = 'display_data';\n",
              "        await google.colab.output.renderOutput(dataTable, element);\n",
              "        const docLink = document.createElement('div');\n",
              "        docLink.innerHTML = docLinkHtml;\n",
              "        element.appendChild(docLink);\n",
              "      }\n",
              "    </script>\n",
              "  </div>\n",
              "\n",
              "\n",
              "<div id=\"df-3e29033d-c782-4c2d-abd5-16731d6dff32\">\n",
              "  <button class=\"colab-df-quickchart\" onclick=\"quickchart('df-3e29033d-c782-4c2d-abd5-16731d6dff32')\"\n",
              "            title=\"Suggest charts.\"\n",
              "            style=\"display:none;\">\n",
              "\n",
              "<svg xmlns=\"http://www.w3.org/2000/svg\" height=\"24px\"viewBox=\"0 0 24 24\"\n",
              "     width=\"24px\">\n",
              "    <g>\n",
              "        <path d=\"M19 3H5c-1.1 0-2 .9-2 2v14c0 1.1.9 2 2 2h14c1.1 0 2-.9 2-2V5c0-1.1-.9-2-2-2zM9 17H7v-7h2v7zm4 0h-2V7h2v10zm4 0h-2v-4h2v4z\"/>\n",
              "    </g>\n",
              "</svg>\n",
              "  </button>\n",
              "\n",
              "<style>\n",
              "  .colab-df-quickchart {\n",
              "      --bg-color: #E8F0FE;\n",
              "      --fill-color: #1967D2;\n",
              "      --hover-bg-color: #E2EBFA;\n",
              "      --hover-fill-color: #174EA6;\n",
              "      --disabled-fill-color: #AAA;\n",
              "      --disabled-bg-color: #DDD;\n",
              "  }\n",
              "\n",
              "  [theme=dark] .colab-df-quickchart {\n",
              "      --bg-color: #3B4455;\n",
              "      --fill-color: #D2E3FC;\n",
              "      --hover-bg-color: #434B5C;\n",
              "      --hover-fill-color: #FFFFFF;\n",
              "      --disabled-bg-color: #3B4455;\n",
              "      --disabled-fill-color: #666;\n",
              "  }\n",
              "\n",
              "  .colab-df-quickchart {\n",
              "    background-color: var(--bg-color);\n",
              "    border: none;\n",
              "    border-radius: 50%;\n",
              "    cursor: pointer;\n",
              "    display: none;\n",
              "    fill: var(--fill-color);\n",
              "    height: 32px;\n",
              "    padding: 0;\n",
              "    width: 32px;\n",
              "  }\n",
              "\n",
              "  .colab-df-quickchart:hover {\n",
              "    background-color: var(--hover-bg-color);\n",
              "    box-shadow: 0 1px 2px rgba(60, 64, 67, 0.3), 0 1px 3px 1px rgba(60, 64, 67, 0.15);\n",
              "    fill: var(--button-hover-fill-color);\n",
              "  }\n",
              "\n",
              "  .colab-df-quickchart-complete:disabled,\n",
              "  .colab-df-quickchart-complete:disabled:hover {\n",
              "    background-color: var(--disabled-bg-color);\n",
              "    fill: var(--disabled-fill-color);\n",
              "    box-shadow: none;\n",
              "  }\n",
              "\n",
              "  .colab-df-spinner {\n",
              "    border: 2px solid var(--fill-color);\n",
              "    border-color: transparent;\n",
              "    border-bottom-color: var(--fill-color);\n",
              "    animation:\n",
              "      spin 1s steps(1) infinite;\n",
              "  }\n",
              "\n",
              "  @keyframes spin {\n",
              "    0% {\n",
              "      border-color: transparent;\n",
              "      border-bottom-color: var(--fill-color);\n",
              "      border-left-color: var(--fill-color);\n",
              "    }\n",
              "    20% {\n",
              "      border-color: transparent;\n",
              "      border-left-color: var(--fill-color);\n",
              "      border-top-color: var(--fill-color);\n",
              "    }\n",
              "    30% {\n",
              "      border-color: transparent;\n",
              "      border-left-color: var(--fill-color);\n",
              "      border-top-color: var(--fill-color);\n",
              "      border-right-color: var(--fill-color);\n",
              "    }\n",
              "    40% {\n",
              "      border-color: transparent;\n",
              "      border-right-color: var(--fill-color);\n",
              "      border-top-color: var(--fill-color);\n",
              "    }\n",
              "    60% {\n",
              "      border-color: transparent;\n",
              "      border-right-color: var(--fill-color);\n",
              "    }\n",
              "    80% {\n",
              "      border-color: transparent;\n",
              "      border-right-color: var(--fill-color);\n",
              "      border-bottom-color: var(--fill-color);\n",
              "    }\n",
              "    90% {\n",
              "      border-color: transparent;\n",
              "      border-bottom-color: var(--fill-color);\n",
              "    }\n",
              "  }\n",
              "</style>\n",
              "\n",
              "  <script>\n",
              "    async function quickchart(key) {\n",
              "      const quickchartButtonEl =\n",
              "        document.querySelector('#' + key + ' button');\n",
              "      quickchartButtonEl.disabled = true;  // To prevent multiple clicks.\n",
              "      quickchartButtonEl.classList.add('colab-df-spinner');\n",
              "      try {\n",
              "        const charts = await google.colab.kernel.invokeFunction(\n",
              "            'suggestCharts', [key], {});\n",
              "      } catch (error) {\n",
              "        console.error('Error during call to suggestCharts:', error);\n",
              "      }\n",
              "      quickchartButtonEl.classList.remove('colab-df-spinner');\n",
              "      quickchartButtonEl.classList.add('colab-df-quickchart-complete');\n",
              "    }\n",
              "    (() => {\n",
              "      let quickchartButtonEl =\n",
              "        document.querySelector('#df-3e29033d-c782-4c2d-abd5-16731d6dff32 button');\n",
              "      quickchartButtonEl.style.display =\n",
              "        google.colab.kernel.accessAllowed ? 'block' : 'none';\n",
              "    })();\n",
              "  </script>\n",
              "</div>\n",
              "    </div>\n",
              "  </div>\n"
            ]
          },
          "metadata": {},
          "execution_count": 6
        }
      ]
    },
    {
      "cell_type": "markdown",
      "source": [
        "Dropped the records having overall ratings as 3."
      ],
      "metadata": {
        "id": "vTUMJj4SEoGn"
      }
    },
    {
      "cell_type": "code",
      "source": [
        "df = df[df['overall'] != 3]"
      ],
      "metadata": {
        "id": "uttbFi3aEu-V"
      },
      "execution_count": 7,
      "outputs": []
    },
    {
      "cell_type": "code",
      "source": [
        "df.shape"
      ],
      "metadata": {
        "id": "_bd0N_-DFghw",
        "colab": {
          "base_uri": "https://localhost:8080/"
        },
        "outputId": "1759f124-5aea-45ca-8a35-31cad0d4cef8"
      },
      "execution_count": 8,
      "outputs": [
        {
          "output_type": "execute_result",
          "data": {
            "text/plain": [
              "(4772, 2)"
            ]
          },
          "metadata": {},
          "execution_count": 8
        }
      ]
    },
    {
      "cell_type": "markdown",
      "source": [
        "# 1) Data preprocessing"
      ],
      "metadata": {
        "id": "aD41z_ZI5qkb"
      }
    },
    {
      "cell_type": "markdown",
      "source": [
        "#### i) converting all texts to lowercase to ensure uniformity.\n"
      ],
      "metadata": {
        "id": "xUj4q6jz509Y"
      }
    },
    {
      "cell_type": "code",
      "source": [
        "df['reviewText'] = df['reviewText'].str.lower()"
      ],
      "metadata": {
        "id": "dtm5OkHP5-G2"
      },
      "execution_count": 9,
      "outputs": []
    },
    {
      "cell_type": "code",
      "source": [
        "df.head(5)"
      ],
      "metadata": {
        "id": "Ppb4Q2vwes46",
        "colab": {
          "base_uri": "https://localhost:8080/",
          "height": 206
        },
        "outputId": "b9c4ad26-74ab-4a23-87e8-3006dfea3844"
      },
      "execution_count": 10,
      "outputs": [
        {
          "output_type": "execute_result",
          "data": {
            "text/plain": [
              "   overall                                         reviewText\n",
              "0        4                                         no issues.\n",
              "1        5  purchased this for my device, it worked as adv...\n",
              "2        4  it works as expected. i should have sprung for...\n",
              "3        5  this think has worked out great.had a diff. br...\n",
              "4        5  bought it with retail packaging, arrived legit..."
            ],
            "text/html": [
              "\n",
              "  <div id=\"df-52a37a7a-4623-4d08-ada8-3c8edcb3499e\" class=\"colab-df-container\">\n",
              "    <div>\n",
              "<style scoped>\n",
              "    .dataframe tbody tr th:only-of-type {\n",
              "        vertical-align: middle;\n",
              "    }\n",
              "\n",
              "    .dataframe tbody tr th {\n",
              "        vertical-align: top;\n",
              "    }\n",
              "\n",
              "    .dataframe thead th {\n",
              "        text-align: right;\n",
              "    }\n",
              "</style>\n",
              "<table border=\"1\" class=\"dataframe\">\n",
              "  <thead>\n",
              "    <tr style=\"text-align: right;\">\n",
              "      <th></th>\n",
              "      <th>overall</th>\n",
              "      <th>reviewText</th>\n",
              "    </tr>\n",
              "  </thead>\n",
              "  <tbody>\n",
              "    <tr>\n",
              "      <th>0</th>\n",
              "      <td>4</td>\n",
              "      <td>no issues.</td>\n",
              "    </tr>\n",
              "    <tr>\n",
              "      <th>1</th>\n",
              "      <td>5</td>\n",
              "      <td>purchased this for my device, it worked as adv...</td>\n",
              "    </tr>\n",
              "    <tr>\n",
              "      <th>2</th>\n",
              "      <td>4</td>\n",
              "      <td>it works as expected. i should have sprung for...</td>\n",
              "    </tr>\n",
              "    <tr>\n",
              "      <th>3</th>\n",
              "      <td>5</td>\n",
              "      <td>this think has worked out great.had a diff. br...</td>\n",
              "    </tr>\n",
              "    <tr>\n",
              "      <th>4</th>\n",
              "      <td>5</td>\n",
              "      <td>bought it with retail packaging, arrived legit...</td>\n",
              "    </tr>\n",
              "  </tbody>\n",
              "</table>\n",
              "</div>\n",
              "    <div class=\"colab-df-buttons\">\n",
              "\n",
              "  <div class=\"colab-df-container\">\n",
              "    <button class=\"colab-df-convert\" onclick=\"convertToInteractive('df-52a37a7a-4623-4d08-ada8-3c8edcb3499e')\"\n",
              "            title=\"Convert this dataframe to an interactive table.\"\n",
              "            style=\"display:none;\">\n",
              "\n",
              "  <svg xmlns=\"http://www.w3.org/2000/svg\" height=\"24px\" viewBox=\"0 -960 960 960\">\n",
              "    <path d=\"M120-120v-720h720v720H120Zm60-500h600v-160H180v160Zm220 220h160v-160H400v160Zm0 220h160v-160H400v160ZM180-400h160v-160H180v160Zm440 0h160v-160H620v160ZM180-180h160v-160H180v160Zm440 0h160v-160H620v160Z\"/>\n",
              "  </svg>\n",
              "    </button>\n",
              "\n",
              "  <style>\n",
              "    .colab-df-container {\n",
              "      display:flex;\n",
              "      gap: 12px;\n",
              "    }\n",
              "\n",
              "    .colab-df-convert {\n",
              "      background-color: #E8F0FE;\n",
              "      border: none;\n",
              "      border-radius: 50%;\n",
              "      cursor: pointer;\n",
              "      display: none;\n",
              "      fill: #1967D2;\n",
              "      height: 32px;\n",
              "      padding: 0 0 0 0;\n",
              "      width: 32px;\n",
              "    }\n",
              "\n",
              "    .colab-df-convert:hover {\n",
              "      background-color: #E2EBFA;\n",
              "      box-shadow: 0px 1px 2px rgba(60, 64, 67, 0.3), 0px 1px 3px 1px rgba(60, 64, 67, 0.15);\n",
              "      fill: #174EA6;\n",
              "    }\n",
              "\n",
              "    .colab-df-buttons div {\n",
              "      margin-bottom: 4px;\n",
              "    }\n",
              "\n",
              "    [theme=dark] .colab-df-convert {\n",
              "      background-color: #3B4455;\n",
              "      fill: #D2E3FC;\n",
              "    }\n",
              "\n",
              "    [theme=dark] .colab-df-convert:hover {\n",
              "      background-color: #434B5C;\n",
              "      box-shadow: 0px 1px 3px 1px rgba(0, 0, 0, 0.15);\n",
              "      filter: drop-shadow(0px 1px 2px rgba(0, 0, 0, 0.3));\n",
              "      fill: #FFFFFF;\n",
              "    }\n",
              "  </style>\n",
              "\n",
              "    <script>\n",
              "      const buttonEl =\n",
              "        document.querySelector('#df-52a37a7a-4623-4d08-ada8-3c8edcb3499e button.colab-df-convert');\n",
              "      buttonEl.style.display =\n",
              "        google.colab.kernel.accessAllowed ? 'block' : 'none';\n",
              "\n",
              "      async function convertToInteractive(key) {\n",
              "        const element = document.querySelector('#df-52a37a7a-4623-4d08-ada8-3c8edcb3499e');\n",
              "        const dataTable =\n",
              "          await google.colab.kernel.invokeFunction('convertToInteractive',\n",
              "                                                    [key], {});\n",
              "        if (!dataTable) return;\n",
              "\n",
              "        const docLinkHtml = 'Like what you see? Visit the ' +\n",
              "          '<a target=\"_blank\" href=https://colab.research.google.com/notebooks/data_table.ipynb>data table notebook</a>'\n",
              "          + ' to learn more about interactive tables.';\n",
              "        element.innerHTML = '';\n",
              "        dataTable['output_type'] = 'display_data';\n",
              "        await google.colab.output.renderOutput(dataTable, element);\n",
              "        const docLink = document.createElement('div');\n",
              "        docLink.innerHTML = docLinkHtml;\n",
              "        element.appendChild(docLink);\n",
              "      }\n",
              "    </script>\n",
              "  </div>\n",
              "\n",
              "\n",
              "<div id=\"df-d7b4022a-4683-4c5d-8e9e-715843af1355\">\n",
              "  <button class=\"colab-df-quickchart\" onclick=\"quickchart('df-d7b4022a-4683-4c5d-8e9e-715843af1355')\"\n",
              "            title=\"Suggest charts.\"\n",
              "            style=\"display:none;\">\n",
              "\n",
              "<svg xmlns=\"http://www.w3.org/2000/svg\" height=\"24px\"viewBox=\"0 0 24 24\"\n",
              "     width=\"24px\">\n",
              "    <g>\n",
              "        <path d=\"M19 3H5c-1.1 0-2 .9-2 2v14c0 1.1.9 2 2 2h14c1.1 0 2-.9 2-2V5c0-1.1-.9-2-2-2zM9 17H7v-7h2v7zm4 0h-2V7h2v10zm4 0h-2v-4h2v4z\"/>\n",
              "    </g>\n",
              "</svg>\n",
              "  </button>\n",
              "\n",
              "<style>\n",
              "  .colab-df-quickchart {\n",
              "      --bg-color: #E8F0FE;\n",
              "      --fill-color: #1967D2;\n",
              "      --hover-bg-color: #E2EBFA;\n",
              "      --hover-fill-color: #174EA6;\n",
              "      --disabled-fill-color: #AAA;\n",
              "      --disabled-bg-color: #DDD;\n",
              "  }\n",
              "\n",
              "  [theme=dark] .colab-df-quickchart {\n",
              "      --bg-color: #3B4455;\n",
              "      --fill-color: #D2E3FC;\n",
              "      --hover-bg-color: #434B5C;\n",
              "      --hover-fill-color: #FFFFFF;\n",
              "      --disabled-bg-color: #3B4455;\n",
              "      --disabled-fill-color: #666;\n",
              "  }\n",
              "\n",
              "  .colab-df-quickchart {\n",
              "    background-color: var(--bg-color);\n",
              "    border: none;\n",
              "    border-radius: 50%;\n",
              "    cursor: pointer;\n",
              "    display: none;\n",
              "    fill: var(--fill-color);\n",
              "    height: 32px;\n",
              "    padding: 0;\n",
              "    width: 32px;\n",
              "  }\n",
              "\n",
              "  .colab-df-quickchart:hover {\n",
              "    background-color: var(--hover-bg-color);\n",
              "    box-shadow: 0 1px 2px rgba(60, 64, 67, 0.3), 0 1px 3px 1px rgba(60, 64, 67, 0.15);\n",
              "    fill: var(--button-hover-fill-color);\n",
              "  }\n",
              "\n",
              "  .colab-df-quickchart-complete:disabled,\n",
              "  .colab-df-quickchart-complete:disabled:hover {\n",
              "    background-color: var(--disabled-bg-color);\n",
              "    fill: var(--disabled-fill-color);\n",
              "    box-shadow: none;\n",
              "  }\n",
              "\n",
              "  .colab-df-spinner {\n",
              "    border: 2px solid var(--fill-color);\n",
              "    border-color: transparent;\n",
              "    border-bottom-color: var(--fill-color);\n",
              "    animation:\n",
              "      spin 1s steps(1) infinite;\n",
              "  }\n",
              "\n",
              "  @keyframes spin {\n",
              "    0% {\n",
              "      border-color: transparent;\n",
              "      border-bottom-color: var(--fill-color);\n",
              "      border-left-color: var(--fill-color);\n",
              "    }\n",
              "    20% {\n",
              "      border-color: transparent;\n",
              "      border-left-color: var(--fill-color);\n",
              "      border-top-color: var(--fill-color);\n",
              "    }\n",
              "    30% {\n",
              "      border-color: transparent;\n",
              "      border-left-color: var(--fill-color);\n",
              "      border-top-color: var(--fill-color);\n",
              "      border-right-color: var(--fill-color);\n",
              "    }\n",
              "    40% {\n",
              "      border-color: transparent;\n",
              "      border-right-color: var(--fill-color);\n",
              "      border-top-color: var(--fill-color);\n",
              "    }\n",
              "    60% {\n",
              "      border-color: transparent;\n",
              "      border-right-color: var(--fill-color);\n",
              "    }\n",
              "    80% {\n",
              "      border-color: transparent;\n",
              "      border-right-color: var(--fill-color);\n",
              "      border-bottom-color: var(--fill-color);\n",
              "    }\n",
              "    90% {\n",
              "      border-color: transparent;\n",
              "      border-bottom-color: var(--fill-color);\n",
              "    }\n",
              "  }\n",
              "</style>\n",
              "\n",
              "  <script>\n",
              "    async function quickchart(key) {\n",
              "      const quickchartButtonEl =\n",
              "        document.querySelector('#' + key + ' button');\n",
              "      quickchartButtonEl.disabled = true;  // To prevent multiple clicks.\n",
              "      quickchartButtonEl.classList.add('colab-df-spinner');\n",
              "      try {\n",
              "        const charts = await google.colab.kernel.invokeFunction(\n",
              "            'suggestCharts', [key], {});\n",
              "      } catch (error) {\n",
              "        console.error('Error during call to suggestCharts:', error);\n",
              "      }\n",
              "      quickchartButtonEl.classList.remove('colab-df-spinner');\n",
              "      quickchartButtonEl.classList.add('colab-df-quickchart-complete');\n",
              "    }\n",
              "    (() => {\n",
              "      let quickchartButtonEl =\n",
              "        document.querySelector('#df-d7b4022a-4683-4c5d-8e9e-715843af1355 button');\n",
              "      quickchartButtonEl.style.display =\n",
              "        google.colab.kernel.accessAllowed ? 'block' : 'none';\n",
              "    })();\n",
              "  </script>\n",
              "</div>\n",
              "    </div>\n",
              "  </div>\n"
            ]
          },
          "metadata": {},
          "execution_count": 10
        }
      ]
    },
    {
      "cell_type": "code",
      "source": [
        "df['reviewText'][1]"
      ],
      "metadata": {
        "id": "wDpD84bQbDkC",
        "colab": {
          "base_uri": "https://localhost:8080/",
          "height": 53
        },
        "outputId": "03787303-a941-4a7f-d192-ebe0daa102f2"
      },
      "execution_count": 11,
      "outputs": [
        {
          "output_type": "execute_result",
          "data": {
            "text/plain": [
              "'purchased this for my device, it worked as advertised. you can never have too much phone memory, since i download a lot of stuff this was a no brainer for me.'"
            ],
            "application/vnd.google.colaboratory.intrinsic+json": {
              "type": "string"
            }
          },
          "metadata": {},
          "execution_count": 11
        }
      ]
    },
    {
      "cell_type": "markdown",
      "source": [
        "#### ii) Removing punctuations, numbers, stopwords from dataset."
      ],
      "metadata": {
        "id": "pTKEuPg-e312"
      }
    },
    {
      "cell_type": "code",
      "source": [
        "import nltk\n",
        "import string\n",
        "nltk.download('stopwords')\n",
        "nltk.download('punkt')\n",
        "from nltk.corpus import stopwords\n",
        "STOPWORDS = set(stopwords.words('english'))\n",
        "def preprocess_text(text):\n",
        "    text = text.translate(str.maketrans('', '', string.punctuation))\n",
        "    text = ''.join(word for word in text if not word.isdigit())\n",
        "    words = nltk.word_tokenize(text)\n",
        "    words = [word for word in words if word.lower() not in STOPWORDS]  # Use the STOPWORDS set you defined\n",
        "    clean_text = ' '.join(words)\n",
        "    return clean_text\n",
        "df['reviewText'] = df['reviewText'].apply(preprocess_text)"
      ],
      "metadata": {
        "id": "DyvOckEuVB-g",
        "colab": {
          "base_uri": "https://localhost:8080/"
        },
        "outputId": "0b467792-0d3d-4ca5-f8fd-07e41db6678d"
      },
      "execution_count": 12,
      "outputs": [
        {
          "output_type": "stream",
          "name": "stderr",
          "text": [
            "[nltk_data] Downloading package stopwords to /root/nltk_data...\n",
            "[nltk_data]   Package stopwords is already up-to-date!\n",
            "[nltk_data] Downloading package punkt to /root/nltk_data...\n",
            "[nltk_data]   Package punkt is already up-to-date!\n"
          ]
        }
      ]
    },
    {
      "cell_type": "code",
      "source": [
        "df['reviewText'].head(5)"
      ],
      "metadata": {
        "id": "nfg35Y82Hklt",
        "colab": {
          "base_uri": "https://localhost:8080/"
        },
        "outputId": "61f544ec-4d4e-4800-d6c9-e9b5501adb1c"
      },
      "execution_count": 13,
      "outputs": [
        {
          "output_type": "execute_result",
          "data": {
            "text/plain": [
              "0                                               issues\n",
              "1    purchased device worked advertised never much ...\n",
              "2    works expected sprung higher capacity think ma...\n",
              "3    think worked greathad diff bran gb card went s...\n",
              "4    bought retail packaging arrived legit orange e...\n",
              "Name: reviewText, dtype: object"
            ]
          },
          "metadata": {},
          "execution_count": 13
        }
      ]
    },
    {
      "cell_type": "markdown",
      "source": [
        "#### Tokenization of the words for Text"
      ],
      "metadata": {
        "id": "oo3M6RztPPLV"
      }
    },
    {
      "cell_type": "code",
      "source": [
        "def tokenize_text(text):\n",
        "    tokens = nltk.word_tokenize(text)\n",
        "    return tokens\n",
        "df['reviewText'] = df['reviewText'].apply(tokenize_text)"
      ],
      "metadata": {
        "id": "3f2RoXHHPaYe"
      },
      "execution_count": 14,
      "outputs": []
    },
    {
      "cell_type": "code",
      "source": [
        "df['reviewText']"
      ],
      "metadata": {
        "id": "Js_yIkTrdpY4",
        "colab": {
          "base_uri": "https://localhost:8080/"
        },
        "outputId": "8f75e108-6464-4e92-93bd-79d03a353139"
      },
      "execution_count": 15,
      "outputs": [
        {
          "output_type": "execute_result",
          "data": {
            "text/plain": [
              "0                                                [issues]\n",
              "1       [purchased, device, worked, advertised, never,...\n",
              "2       [works, expected, sprung, higher, capacity, th...\n",
              "3       [think, worked, greathad, diff, bran, gb, card...\n",
              "4       [bought, retail, packaging, arrived, legit, or...\n",
              "                              ...                        \n",
              "4910    [bought, sandisk, gb, class, use, htc, inspire...\n",
              "4911    [used, extending, capabilities, samsung, galax...\n",
              "4912    [great, card, fast, reliable, comes, optional,...\n",
              "4913    [good, amount, space, stuff, want, fits, gopro...\n",
              "4914    [ive, heard, bad, things, gb, micro, sd, card,...\n",
              "Name: reviewText, Length: 4772, dtype: object"
            ]
          },
          "metadata": {},
          "execution_count": 15
        }
      ]
    },
    {
      "cell_type": "markdown",
      "source": [
        "### The dataset is divided into binary classification problem where rating less than 4 is **negative [0]** and more than 3 is **positive [1]**."
      ],
      "metadata": {
        "id": "_Mfj0BiGwLoy"
      }
    },
    {
      "cell_type": "code",
      "source": [
        "df['targetVariable'] = [0 if i < 4 else 1 for i in df['overall']]\n",
        "df = df.drop(columns=['overall'])"
      ],
      "metadata": {
        "id": "CdLk7TnEuKmP"
      },
      "execution_count": 16,
      "outputs": []
    },
    {
      "cell_type": "code",
      "source": [
        "df.head()"
      ],
      "metadata": {
        "id": "U_VrXeVHuxZB",
        "colab": {
          "base_uri": "https://localhost:8080/",
          "height": 206
        },
        "outputId": "3e15e0e7-0e45-43fb-f27a-0b09892b5346"
      },
      "execution_count": 17,
      "outputs": [
        {
          "output_type": "execute_result",
          "data": {
            "text/plain": [
              "                                          reviewText  targetVariable\n",
              "0                                           [issues]               1\n",
              "1  [purchased, device, worked, advertised, never,...               1\n",
              "2  [works, expected, sprung, higher, capacity, th...               1\n",
              "3  [think, worked, greathad, diff, bran, gb, card...               1\n",
              "4  [bought, retail, packaging, arrived, legit, or...               1"
            ],
            "text/html": [
              "\n",
              "  <div id=\"df-0535168a-85d0-442a-ac07-2817622dc863\" class=\"colab-df-container\">\n",
              "    <div>\n",
              "<style scoped>\n",
              "    .dataframe tbody tr th:only-of-type {\n",
              "        vertical-align: middle;\n",
              "    }\n",
              "\n",
              "    .dataframe tbody tr th {\n",
              "        vertical-align: top;\n",
              "    }\n",
              "\n",
              "    .dataframe thead th {\n",
              "        text-align: right;\n",
              "    }\n",
              "</style>\n",
              "<table border=\"1\" class=\"dataframe\">\n",
              "  <thead>\n",
              "    <tr style=\"text-align: right;\">\n",
              "      <th></th>\n",
              "      <th>reviewText</th>\n",
              "      <th>targetVariable</th>\n",
              "    </tr>\n",
              "  </thead>\n",
              "  <tbody>\n",
              "    <tr>\n",
              "      <th>0</th>\n",
              "      <td>[issues]</td>\n",
              "      <td>1</td>\n",
              "    </tr>\n",
              "    <tr>\n",
              "      <th>1</th>\n",
              "      <td>[purchased, device, worked, advertised, never,...</td>\n",
              "      <td>1</td>\n",
              "    </tr>\n",
              "    <tr>\n",
              "      <th>2</th>\n",
              "      <td>[works, expected, sprung, higher, capacity, th...</td>\n",
              "      <td>1</td>\n",
              "    </tr>\n",
              "    <tr>\n",
              "      <th>3</th>\n",
              "      <td>[think, worked, greathad, diff, bran, gb, card...</td>\n",
              "      <td>1</td>\n",
              "    </tr>\n",
              "    <tr>\n",
              "      <th>4</th>\n",
              "      <td>[bought, retail, packaging, arrived, legit, or...</td>\n",
              "      <td>1</td>\n",
              "    </tr>\n",
              "  </tbody>\n",
              "</table>\n",
              "</div>\n",
              "    <div class=\"colab-df-buttons\">\n",
              "\n",
              "  <div class=\"colab-df-container\">\n",
              "    <button class=\"colab-df-convert\" onclick=\"convertToInteractive('df-0535168a-85d0-442a-ac07-2817622dc863')\"\n",
              "            title=\"Convert this dataframe to an interactive table.\"\n",
              "            style=\"display:none;\">\n",
              "\n",
              "  <svg xmlns=\"http://www.w3.org/2000/svg\" height=\"24px\" viewBox=\"0 -960 960 960\">\n",
              "    <path d=\"M120-120v-720h720v720H120Zm60-500h600v-160H180v160Zm220 220h160v-160H400v160Zm0 220h160v-160H400v160ZM180-400h160v-160H180v160Zm440 0h160v-160H620v160ZM180-180h160v-160H180v160Zm440 0h160v-160H620v160Z\"/>\n",
              "  </svg>\n",
              "    </button>\n",
              "\n",
              "  <style>\n",
              "    .colab-df-container {\n",
              "      display:flex;\n",
              "      gap: 12px;\n",
              "    }\n",
              "\n",
              "    .colab-df-convert {\n",
              "      background-color: #E8F0FE;\n",
              "      border: none;\n",
              "      border-radius: 50%;\n",
              "      cursor: pointer;\n",
              "      display: none;\n",
              "      fill: #1967D2;\n",
              "      height: 32px;\n",
              "      padding: 0 0 0 0;\n",
              "      width: 32px;\n",
              "    }\n",
              "\n",
              "    .colab-df-convert:hover {\n",
              "      background-color: #E2EBFA;\n",
              "      box-shadow: 0px 1px 2px rgba(60, 64, 67, 0.3), 0px 1px 3px 1px rgba(60, 64, 67, 0.15);\n",
              "      fill: #174EA6;\n",
              "    }\n",
              "\n",
              "    .colab-df-buttons div {\n",
              "      margin-bottom: 4px;\n",
              "    }\n",
              "\n",
              "    [theme=dark] .colab-df-convert {\n",
              "      background-color: #3B4455;\n",
              "      fill: #D2E3FC;\n",
              "    }\n",
              "\n",
              "    [theme=dark] .colab-df-convert:hover {\n",
              "      background-color: #434B5C;\n",
              "      box-shadow: 0px 1px 3px 1px rgba(0, 0, 0, 0.15);\n",
              "      filter: drop-shadow(0px 1px 2px rgba(0, 0, 0, 0.3));\n",
              "      fill: #FFFFFF;\n",
              "    }\n",
              "  </style>\n",
              "\n",
              "    <script>\n",
              "      const buttonEl =\n",
              "        document.querySelector('#df-0535168a-85d0-442a-ac07-2817622dc863 button.colab-df-convert');\n",
              "      buttonEl.style.display =\n",
              "        google.colab.kernel.accessAllowed ? 'block' : 'none';\n",
              "\n",
              "      async function convertToInteractive(key) {\n",
              "        const element = document.querySelector('#df-0535168a-85d0-442a-ac07-2817622dc863');\n",
              "        const dataTable =\n",
              "          await google.colab.kernel.invokeFunction('convertToInteractive',\n",
              "                                                    [key], {});\n",
              "        if (!dataTable) return;\n",
              "\n",
              "        const docLinkHtml = 'Like what you see? Visit the ' +\n",
              "          '<a target=\"_blank\" href=https://colab.research.google.com/notebooks/data_table.ipynb>data table notebook</a>'\n",
              "          + ' to learn more about interactive tables.';\n",
              "        element.innerHTML = '';\n",
              "        dataTable['output_type'] = 'display_data';\n",
              "        await google.colab.output.renderOutput(dataTable, element);\n",
              "        const docLink = document.createElement('div');\n",
              "        docLink.innerHTML = docLinkHtml;\n",
              "        element.appendChild(docLink);\n",
              "      }\n",
              "    </script>\n",
              "  </div>\n",
              "\n",
              "\n",
              "<div id=\"df-cf6d5d1c-eb6a-4138-bec7-ed11f045d353\">\n",
              "  <button class=\"colab-df-quickchart\" onclick=\"quickchart('df-cf6d5d1c-eb6a-4138-bec7-ed11f045d353')\"\n",
              "            title=\"Suggest charts.\"\n",
              "            style=\"display:none;\">\n",
              "\n",
              "<svg xmlns=\"http://www.w3.org/2000/svg\" height=\"24px\"viewBox=\"0 0 24 24\"\n",
              "     width=\"24px\">\n",
              "    <g>\n",
              "        <path d=\"M19 3H5c-1.1 0-2 .9-2 2v14c0 1.1.9 2 2 2h14c1.1 0 2-.9 2-2V5c0-1.1-.9-2-2-2zM9 17H7v-7h2v7zm4 0h-2V7h2v10zm4 0h-2v-4h2v4z\"/>\n",
              "    </g>\n",
              "</svg>\n",
              "  </button>\n",
              "\n",
              "<style>\n",
              "  .colab-df-quickchart {\n",
              "      --bg-color: #E8F0FE;\n",
              "      --fill-color: #1967D2;\n",
              "      --hover-bg-color: #E2EBFA;\n",
              "      --hover-fill-color: #174EA6;\n",
              "      --disabled-fill-color: #AAA;\n",
              "      --disabled-bg-color: #DDD;\n",
              "  }\n",
              "\n",
              "  [theme=dark] .colab-df-quickchart {\n",
              "      --bg-color: #3B4455;\n",
              "      --fill-color: #D2E3FC;\n",
              "      --hover-bg-color: #434B5C;\n",
              "      --hover-fill-color: #FFFFFF;\n",
              "      --disabled-bg-color: #3B4455;\n",
              "      --disabled-fill-color: #666;\n",
              "  }\n",
              "\n",
              "  .colab-df-quickchart {\n",
              "    background-color: var(--bg-color);\n",
              "    border: none;\n",
              "    border-radius: 50%;\n",
              "    cursor: pointer;\n",
              "    display: none;\n",
              "    fill: var(--fill-color);\n",
              "    height: 32px;\n",
              "    padding: 0;\n",
              "    width: 32px;\n",
              "  }\n",
              "\n",
              "  .colab-df-quickchart:hover {\n",
              "    background-color: var(--hover-bg-color);\n",
              "    box-shadow: 0 1px 2px rgba(60, 64, 67, 0.3), 0 1px 3px 1px rgba(60, 64, 67, 0.15);\n",
              "    fill: var(--button-hover-fill-color);\n",
              "  }\n",
              "\n",
              "  .colab-df-quickchart-complete:disabled,\n",
              "  .colab-df-quickchart-complete:disabled:hover {\n",
              "    background-color: var(--disabled-bg-color);\n",
              "    fill: var(--disabled-fill-color);\n",
              "    box-shadow: none;\n",
              "  }\n",
              "\n",
              "  .colab-df-spinner {\n",
              "    border: 2px solid var(--fill-color);\n",
              "    border-color: transparent;\n",
              "    border-bottom-color: var(--fill-color);\n",
              "    animation:\n",
              "      spin 1s steps(1) infinite;\n",
              "  }\n",
              "\n",
              "  @keyframes spin {\n",
              "    0% {\n",
              "      border-color: transparent;\n",
              "      border-bottom-color: var(--fill-color);\n",
              "      border-left-color: var(--fill-color);\n",
              "    }\n",
              "    20% {\n",
              "      border-color: transparent;\n",
              "      border-left-color: var(--fill-color);\n",
              "      border-top-color: var(--fill-color);\n",
              "    }\n",
              "    30% {\n",
              "      border-color: transparent;\n",
              "      border-left-color: var(--fill-color);\n",
              "      border-top-color: var(--fill-color);\n",
              "      border-right-color: var(--fill-color);\n",
              "    }\n",
              "    40% {\n",
              "      border-color: transparent;\n",
              "      border-right-color: var(--fill-color);\n",
              "      border-top-color: var(--fill-color);\n",
              "    }\n",
              "    60% {\n",
              "      border-color: transparent;\n",
              "      border-right-color: var(--fill-color);\n",
              "    }\n",
              "    80% {\n",
              "      border-color: transparent;\n",
              "      border-right-color: var(--fill-color);\n",
              "      border-bottom-color: var(--fill-color);\n",
              "    }\n",
              "    90% {\n",
              "      border-color: transparent;\n",
              "      border-bottom-color: var(--fill-color);\n",
              "    }\n",
              "  }\n",
              "</style>\n",
              "\n",
              "  <script>\n",
              "    async function quickchart(key) {\n",
              "      const quickchartButtonEl =\n",
              "        document.querySelector('#' + key + ' button');\n",
              "      quickchartButtonEl.disabled = true;  // To prevent multiple clicks.\n",
              "      quickchartButtonEl.classList.add('colab-df-spinner');\n",
              "      try {\n",
              "        const charts = await google.colab.kernel.invokeFunction(\n",
              "            'suggestCharts', [key], {});\n",
              "      } catch (error) {\n",
              "        console.error('Error during call to suggestCharts:', error);\n",
              "      }\n",
              "      quickchartButtonEl.classList.remove('colab-df-spinner');\n",
              "      quickchartButtonEl.classList.add('colab-df-quickchart-complete');\n",
              "    }\n",
              "    (() => {\n",
              "      let quickchartButtonEl =\n",
              "        document.querySelector('#df-cf6d5d1c-eb6a-4138-bec7-ed11f045d353 button');\n",
              "      quickchartButtonEl.style.display =\n",
              "        google.colab.kernel.accessAllowed ? 'block' : 'none';\n",
              "    })();\n",
              "  </script>\n",
              "</div>\n",
              "    </div>\n",
              "  </div>\n"
            ]
          },
          "metadata": {},
          "execution_count": 17
        }
      ]
    },
    {
      "cell_type": "markdown",
      "source": [
        "### 2). Data split into 80%, 10% and 10% that is training, validation and test"
      ],
      "metadata": {
        "id": "hRcF0JXwy5cx"
      }
    },
    {
      "cell_type": "code",
      "source": [
        "features = df.drop(columns=['targetVariable'])\n",
        "features = features.reset_index(drop=True)\n",
        "target = df['targetVariable']"
      ],
      "metadata": {
        "id": "MmPkmyg40IeK"
      },
      "execution_count": 18,
      "outputs": []
    },
    {
      "cell_type": "code",
      "source": [
        "x_train, temp_data, y_train, temp_target = train_test_split(features, target, test_size=0.2, random_state=42)\n",
        "x_val, x_test, y_val, y_test = train_test_split(temp_data, temp_target, test_size=0.5, random_state=42)"
      ],
      "metadata": {
        "id": "iqDg6pYuzTQR"
      },
      "execution_count": 19,
      "outputs": []
    },
    {
      "cell_type": "markdown",
      "source": [
        "The Train data and validation dataset combination is used for creating distinct word dictionary and developing all other functionalities."
      ],
      "metadata": {
        "id": "agjnyQcpvLEf"
      }
    },
    {
      "cell_type": "code",
      "source": [
        "train = pd.DataFrame(np.concatenate((x_train, x_val), axis=0), columns=['reviews'])\n",
        "print(train)"
      ],
      "metadata": {
        "colab": {
          "base_uri": "https://localhost:8080/"
        },
        "id": "-88NsB-iGggg",
        "outputId": "6a5709d6-2879-4b3d-8ce5-fc3322d319c5"
      },
      "execution_count": 20,
      "outputs": [
        {
          "output_type": "stream",
          "name": "stdout",
          "text": [
            "                                                reviews\n",
            "0                                   [say, memory, card]\n",
            "1     [installed, samsung, tablet, tab, definitely, ...\n",
            "2     [using, fiio, x, current, gb, sd, card, full, ...\n",
            "3     [micro, cards, highest, quality, cant, beat, p...\n",
            "4     [bought, store, music, phone, works, flawlessl...\n",
            "...                                                 ...\n",
            "4289  [works, perfectly, verizon, wireless, samsung,...\n",
            "4290  [love, micro, sd, card, im, glad, bought, use,...\n",
            "4291  [worked, great, galaxy, died, months, later, w...\n",
            "4292  [im, using, nook, hd, customized, android, os,...\n",
            "4293  [since, almost, three, thousands, reviews, alr...\n",
            "\n",
            "[4294 rows x 1 columns]\n"
          ]
        }
      ]
    },
    {
      "cell_type": "markdown",
      "source": [
        "### 3). Statistics Analysis"
      ],
      "metadata": {
        "id": "g1PbVad61RzB"
      }
    },
    {
      "cell_type": "markdown",
      "source": [
        "##### Number of data samples in training/development/testing"
      ],
      "metadata": {
        "id": "DsdEIRqf3neh"
      }
    },
    {
      "cell_type": "code",
      "source": [
        "print(f'The training data set: {x_train.shape},{y_train.shape}')\n",
        "print(f'The validation data set: {x_val.shape},{y_val.shape}')\n",
        "print(f'The test data set: {x_test.shape},{y_test.shape}')"
      ],
      "metadata": {
        "id": "II6JQtlB1gTk",
        "colab": {
          "base_uri": "https://localhost:8080/"
        },
        "outputId": "1b0c94f5-036a-4257-8709-ac05d744763b"
      },
      "execution_count": 21,
      "outputs": [
        {
          "output_type": "stream",
          "name": "stdout",
          "text": [
            "The training data set: (3817, 1),(3817,)\n",
            "The validation data set: (477, 1),(477,)\n",
            "The test data set: (478, 1),(478,)\n"
          ]
        }
      ]
    },
    {
      "cell_type": "markdown",
      "source": [
        "###### Number of tokens across all reviews"
      ],
      "metadata": {
        "id": "3Pw3Mm1j5Iky"
      }
    },
    {
      "cell_type": "code",
      "source": [
        "import matplotlib.pyplot as plt\n",
        "l1 = []\n",
        "for row in df['reviewText']:\n",
        "  length = len(row)\n",
        "  l1.append(length)\n",
        "l1 = sorted(l1)\n",
        "print(l1)\n",
        "maximum = max(l1)\n",
        "minimum = min(l1)\n",
        "average = sum(l1)/len(l1)\n",
        "print(f'The maximum value is:{maximum}')\n",
        "print(f'The maximum value is:{minimum}')\n",
        "print(f'The maximum value is: {round(average,0)} \\n')\n",
        "\n",
        "plt.figure(figsize=(8, 6))\n",
        "plt.hist(l1)\n",
        "plt.xlabel('Review Text Length')\n",
        "plt.ylabel('Frequency')\n",
        "plt.title('Distribution of Review Text Lengths')\n",
        "plt.show()"
      ],
      "metadata": {
        "id": "-4qkT7cZ6bZ-",
        "colab": {
          "base_uri": "https://localhost:8080/",
          "height": 673
        },
        "outputId": "0c536565-02bb-45bc-8d62-6fc872b776c5"
      },
      "execution_count": 22,
      "outputs": [
        {
          "output_type": "stream",
          "name": "stdout",
          "text": [
            "[1, 1, 1, 1, 1, 1, 1, 1, 1, 1, 1, 1, 1, 1, 2, 2, 2, 2, 2, 2, 2, 2, 2, 2, 2, 3, 3, 3, 3, 3, 3, 3, 3, 3, 3, 3, 3, 3, 3, 3, 4, 4, 4, 4, 4, 4, 4, 4, 4, 4, 4, 4, 4, 4, 4, 4, 4, 4, 4, 5, 5, 5, 5, 5, 5, 5, 5, 5, 5, 5, 5, 5, 5, 5, 5, 5, 6, 6, 6, 6, 6, 6, 6, 6, 6, 6, 6, 6, 6, 6, 6, 6, 6, 7, 7, 7, 7, 7, 7, 7, 7, 7, 7, 7, 7, 7, 7, 7, 7, 7, 7, 7, 7, 7, 7, 7, 7, 7, 7, 7, 7, 7, 7, 7, 7, 7, 7, 7, 7, 7, 7, 8, 8, 8, 8, 8, 8, 8, 8, 8, 8, 8, 8, 8, 8, 8, 8, 8, 8, 8, 8, 8, 8, 8, 8, 8, 8, 8, 8, 8, 8, 8, 8, 8, 8, 8, 8, 8, 8, 8, 8, 8, 8, 8, 8, 8, 8, 8, 8, 8, 8, 8, 8, 8, 8, 8, 8, 8, 8, 8, 8, 8, 8, 8, 8, 8, 8, 8, 8, 8, 8, 8, 8, 8, 8, 8, 8, 8, 8, 8, 8, 8, 8, 8, 8, 8, 8, 8, 8, 8, 8, 8, 8, 8, 9, 9, 9, 9, 9, 9, 9, 9, 9, 9, 9, 9, 9, 9, 9, 9, 9, 9, 9, 9, 9, 9, 9, 9, 9, 9, 9, 9, 9, 9, 9, 9, 9, 9, 9, 9, 9, 9, 9, 9, 9, 9, 9, 9, 9, 9, 9, 9, 9, 9, 9, 9, 9, 9, 9, 9, 9, 9, 9, 9, 9, 9, 9, 9, 9, 9, 9, 9, 9, 9, 9, 9, 9, 9, 9, 9, 9, 9, 9, 9, 9, 9, 9, 9, 9, 9, 9, 9, 9, 9, 9, 9, 9, 9, 9, 9, 9, 9, 9, 9, 9, 9, 9, 9, 9, 9, 9, 9, 9, 9, 9, 9, 9, 9, 9, 9, 9, 9, 9, 9, 9, 9, 9, 9, 9, 9, 9, 9, 9, 9, 9, 9, 9, 9, 9, 9, 9, 9, 9, 9, 9, 9, 9, 9, 9, 9, 9, 9, 9, 9, 9, 9, 9, 9, 9, 9, 9, 9, 9, 9, 9, 9, 9, 9, 9, 9, 10, 10, 10, 10, 10, 10, 10, 10, 10, 10, 10, 10, 10, 10, 10, 10, 10, 10, 10, 10, 10, 10, 10, 10, 10, 10, 10, 10, 10, 10, 10, 10, 10, 10, 10, 10, 10, 10, 10, 10, 10, 10, 10, 10, 10, 10, 10, 10, 10, 10, 10, 10, 10, 10, 10, 10, 10, 10, 10, 10, 10, 10, 10, 10, 10, 10, 10, 10, 10, 10, 10, 10, 10, 10, 10, 10, 10, 10, 10, 10, 10, 10, 10, 10, 10, 10, 10, 10, 10, 10, 10, 10, 10, 10, 10, 10, 10, 10, 10, 10, 10, 10, 10, 10, 10, 10, 10, 10, 10, 10, 10, 10, 10, 10, 10, 10, 10, 10, 10, 10, 10, 10, 10, 10, 10, 10, 10, 10, 10, 10, 10, 10, 10, 10, 10, 10, 10, 10, 10, 10, 10, 10, 10, 10, 10, 10, 10, 10, 10, 10, 10, 10, 10, 10, 10, 10, 10, 10, 10, 10, 10, 10, 10, 10, 10, 10, 10, 10, 10, 10, 10, 10, 10, 10, 10, 10, 10, 10, 10, 10, 10, 10, 10, 10, 10, 10, 10, 10, 10, 10, 10, 10, 10, 10, 10, 10, 10, 10, 10, 10, 10, 10, 10, 10, 10, 10, 10, 10, 10, 10, 10, 10, 10, 10, 10, 10, 10, 10, 10, 10, 10, 10, 10, 10, 10, 10, 10, 10, 10, 10, 10, 10, 10, 10, 10, 10, 10, 10, 10, 10, 10, 10, 10, 10, 10, 10, 10, 10, 10, 10, 10, 10, 11, 11, 11, 11, 11, 11, 11, 11, 11, 11, 11, 11, 11, 11, 11, 11, 11, 11, 11, 11, 11, 11, 11, 11, 11, 11, 11, 11, 11, 11, 11, 11, 11, 11, 11, 11, 11, 11, 11, 11, 11, 11, 11, 11, 11, 11, 11, 11, 11, 11, 11, 11, 11, 11, 11, 11, 11, 11, 11, 11, 11, 11, 11, 11, 11, 11, 11, 11, 11, 11, 11, 11, 11, 11, 11, 11, 11, 11, 11, 11, 11, 11, 11, 11, 11, 11, 11, 11, 11, 11, 11, 11, 11, 11, 11, 11, 11, 11, 11, 11, 11, 11, 11, 11, 11, 11, 11, 11, 11, 11, 11, 11, 11, 11, 11, 11, 11, 11, 11, 11, 11, 11, 11, 11, 11, 11, 11, 11, 11, 11, 11, 11, 11, 11, 11, 11, 11, 11, 11, 11, 11, 11, 11, 11, 11, 11, 11, 11, 11, 11, 11, 11, 11, 11, 11, 11, 11, 11, 11, 11, 11, 11, 11, 11, 11, 11, 11, 11, 11, 11, 11, 11, 11, 11, 11, 11, 11, 11, 11, 11, 11, 11, 11, 11, 11, 11, 11, 11, 11, 11, 11, 11, 11, 11, 11, 11, 11, 11, 11, 11, 11, 11, 11, 11, 11, 11, 11, 11, 11, 11, 11, 11, 11, 11, 11, 11, 11, 11, 11, 11, 11, 11, 11, 11, 11, 11, 11, 11, 11, 11, 11, 11, 11, 11, 11, 11, 11, 11, 11, 11, 11, 11, 11, 11, 11, 11, 11, 11, 11, 11, 11, 11, 11, 11, 11, 11, 11, 11, 11, 11, 11, 11, 11, 11, 11, 11, 11, 11, 11, 11, 11, 11, 11, 11, 11, 11, 11, 11, 11, 11, 11, 11, 11, 11, 11, 11, 11, 11, 11, 11, 11, 11, 11, 11, 11, 11, 11, 11, 11, 11, 11, 11, 11, 11, 11, 11, 11, 11, 11, 11, 11, 11, 11, 11, 11, 11, 11, 11, 11, 11, 11, 11, 11, 11, 11, 11, 11, 11, 11, 11, 11, 11, 11, 11, 11, 11, 11, 11, 11, 11, 11, 11, 11, 12, 12, 12, 12, 12, 12, 12, 12, 12, 12, 12, 12, 12, 12, 12, 12, 12, 12, 12, 12, 12, 12, 12, 12, 12, 12, 12, 12, 12, 12, 12, 12, 12, 12, 12, 12, 12, 12, 12, 12, 12, 12, 12, 12, 12, 12, 12, 12, 12, 12, 12, 12, 12, 12, 12, 12, 12, 12, 12, 12, 12, 12, 12, 12, 12, 12, 12, 12, 12, 12, 12, 12, 12, 12, 12, 12, 12, 12, 12, 12, 12, 12, 12, 12, 12, 12, 12, 12, 12, 12, 12, 12, 12, 12, 12, 12, 12, 12, 12, 12, 12, 12, 12, 12, 12, 12, 12, 12, 12, 12, 12, 12, 12, 12, 12, 12, 12, 12, 12, 12, 12, 12, 12, 12, 12, 12, 12, 12, 12, 12, 12, 12, 12, 12, 12, 12, 12, 12, 12, 12, 12, 12, 12, 12, 12, 12, 12, 12, 12, 12, 12, 12, 12, 12, 12, 12, 12, 12, 12, 12, 12, 12, 12, 12, 12, 12, 12, 12, 12, 12, 12, 12, 12, 12, 12, 12, 12, 12, 12, 12, 12, 12, 12, 12, 12, 12, 12, 12, 12, 12, 12, 12, 12, 12, 12, 12, 12, 12, 12, 12, 12, 12, 12, 12, 12, 12, 12, 12, 12, 12, 12, 12, 12, 12, 12, 12, 12, 12, 12, 12, 12, 12, 12, 12, 12, 12, 12, 12, 12, 12, 12, 12, 12, 12, 12, 12, 12, 12, 12, 12, 12, 12, 12, 12, 12, 12, 12, 12, 12, 12, 12, 12, 12, 12, 12, 12, 12, 12, 12, 12, 12, 12, 12, 12, 12, 12, 12, 12, 12, 12, 12, 12, 12, 12, 12, 12, 12, 12, 12, 12, 12, 12, 12, 12, 12, 12, 12, 12, 12, 12, 12, 12, 12, 12, 12, 12, 12, 12, 12, 12, 12, 12, 12, 12, 12, 12, 12, 12, 12, 12, 12, 12, 12, 12, 12, 12, 12, 12, 12, 12, 12, 12, 12, 12, 12, 12, 12, 12, 12, 12, 12, 12, 12, 12, 12, 12, 12, 12, 12, 12, 12, 12, 12, 12, 12, 12, 13, 13, 13, 13, 13, 13, 13, 13, 13, 13, 13, 13, 13, 13, 13, 13, 13, 13, 13, 13, 13, 13, 13, 13, 13, 13, 13, 13, 13, 13, 13, 13, 13, 13, 13, 13, 13, 13, 13, 13, 13, 13, 13, 13, 13, 13, 13, 13, 13, 13, 13, 13, 13, 13, 13, 13, 13, 13, 13, 13, 13, 13, 13, 13, 13, 13, 13, 13, 13, 13, 13, 13, 13, 13, 13, 13, 13, 13, 13, 13, 13, 13, 13, 13, 13, 13, 13, 13, 13, 13, 13, 13, 13, 13, 13, 13, 13, 13, 13, 13, 13, 13, 13, 13, 13, 13, 13, 13, 13, 13, 13, 13, 13, 13, 13, 13, 13, 13, 13, 13, 13, 13, 13, 13, 13, 13, 13, 13, 13, 13, 13, 13, 13, 13, 13, 13, 13, 13, 13, 13, 13, 13, 13, 13, 13, 13, 13, 13, 13, 13, 13, 13, 13, 13, 13, 13, 13, 13, 13, 13, 13, 13, 13, 13, 13, 13, 13, 13, 13, 13, 13, 13, 13, 13, 13, 13, 13, 13, 13, 13, 13, 13, 13, 13, 13, 13, 13, 13, 13, 13, 13, 13, 13, 13, 13, 13, 13, 13, 13, 13, 13, 13, 13, 13, 13, 13, 13, 13, 13, 13, 13, 13, 13, 13, 13, 13, 13, 13, 13, 13, 13, 13, 13, 13, 13, 13, 13, 13, 13, 13, 13, 13, 13, 13, 13, 13, 13, 13, 13, 13, 13, 13, 13, 13, 13, 13, 13, 13, 13, 13, 13, 13, 13, 13, 13, 13, 13, 13, 13, 13, 13, 13, 13, 13, 13, 13, 13, 13, 13, 13, 13, 13, 13, 13, 13, 13, 13, 13, 13, 13, 13, 13, 13, 13, 13, 13, 13, 13, 13, 13, 13, 13, 13, 13, 13, 13, 13, 13, 13, 13, 13, 13, 13, 13, 13, 13, 13, 13, 13, 13, 13, 13, 13, 13, 13, 13, 13, 13, 13, 13, 14, 14, 14, 14, 14, 14, 14, 14, 14, 14, 14, 14, 14, 14, 14, 14, 14, 14, 14, 14, 14, 14, 14, 14, 14, 14, 14, 14, 14, 14, 14, 14, 14, 14, 14, 14, 14, 14, 14, 14, 14, 14, 14, 14, 14, 14, 14, 14, 14, 14, 14, 14, 14, 14, 14, 14, 14, 14, 14, 14, 14, 14, 14, 14, 14, 14, 14, 14, 14, 14, 14, 14, 14, 14, 14, 14, 14, 14, 14, 14, 14, 14, 14, 14, 14, 14, 14, 14, 14, 14, 14, 14, 14, 14, 14, 14, 14, 14, 14, 14, 14, 14, 14, 14, 14, 14, 14, 14, 14, 14, 14, 14, 14, 14, 14, 14, 14, 14, 14, 14, 14, 14, 14, 14, 14, 14, 14, 14, 14, 14, 14, 14, 14, 14, 14, 14, 14, 14, 14, 14, 14, 14, 14, 14, 14, 14, 14, 14, 14, 14, 14, 14, 14, 14, 14, 14, 14, 14, 14, 14, 14, 14, 14, 14, 14, 14, 14, 14, 14, 14, 14, 14, 14, 14, 14, 14, 14, 14, 14, 14, 14, 14, 14, 14, 14, 14, 14, 14, 14, 14, 14, 14, 14, 14, 14, 14, 14, 14, 14, 14, 14, 14, 14, 14, 14, 14, 14, 14, 14, 14, 14, 14, 14, 14, 14, 14, 14, 14, 14, 14, 14, 14, 14, 14, 14, 14, 14, 14, 14, 14, 14, 14, 14, 14, 14, 14, 14, 14, 14, 14, 14, 14, 14, 14, 14, 14, 14, 14, 14, 14, 14, 14, 14, 14, 14, 14, 14, 14, 14, 14, 15, 15, 15, 15, 15, 15, 15, 15, 15, 15, 15, 15, 15, 15, 15, 15, 15, 15, 15, 15, 15, 15, 15, 15, 15, 15, 15, 15, 15, 15, 15, 15, 15, 15, 15, 15, 15, 15, 15, 15, 15, 15, 15, 15, 15, 15, 15, 15, 15, 15, 15, 15, 15, 15, 15, 15, 15, 15, 15, 15, 15, 15, 15, 15, 15, 15, 15, 15, 15, 15, 15, 15, 15, 15, 15, 15, 15, 15, 15, 15, 15, 15, 15, 15, 15, 15, 15, 15, 15, 15, 15, 15, 15, 15, 15, 15, 15, 15, 15, 15, 15, 15, 15, 15, 15, 15, 15, 15, 15, 15, 15, 15, 15, 15, 15, 15, 15, 15, 15, 15, 15, 15, 15, 15, 15, 15, 15, 15, 15, 15, 15, 15, 15, 15, 15, 15, 15, 15, 15, 15, 15, 15, 15, 15, 15, 15, 15, 15, 15, 15, 15, 15, 15, 15, 15, 15, 15, 15, 15, 15, 15, 15, 15, 15, 15, 15, 15, 15, 15, 15, 15, 15, 15, 15, 15, 15, 15, 15, 15, 15, 15, 15, 15, 15, 15, 15, 15, 15, 15, 15, 15, 15, 15, 15, 15, 15, 15, 15, 15, 15, 15, 15, 15, 15, 15, 15, 15, 15, 15, 15, 15, 15, 15, 15, 15, 15, 15, 15, 15, 15, 15, 15, 15, 15, 15, 15, 15, 15, 15, 15, 15, 15, 15, 15, 15, 15, 15, 15, 15, 15, 15, 15, 15, 15, 15, 15, 16, 16, 16, 16, 16, 16, 16, 16, 16, 16, 16, 16, 16, 16, 16, 16, 16, 16, 16, 16, 16, 16, 16, 16, 16, 16, 16, 16, 16, 16, 16, 16, 16, 16, 16, 16, 16, 16, 16, 16, 16, 16, 16, 16, 16, 16, 16, 16, 16, 16, 16, 16, 16, 16, 16, 16, 16, 16, 16, 16, 16, 16, 16, 16, 16, 16, 16, 16, 16, 16, 16, 16, 16, 16, 16, 16, 16, 16, 16, 16, 16, 16, 16, 16, 16, 16, 16, 16, 16, 16, 16, 16, 16, 16, 16, 16, 16, 16, 16, 16, 16, 16, 16, 16, 16, 16, 16, 16, 16, 16, 16, 16, 16, 16, 16, 16, 16, 16, 16, 16, 16, 16, 16, 16, 16, 16, 16, 16, 16, 16, 16, 16, 16, 16, 16, 16, 16, 16, 16, 16, 16, 16, 16, 16, 16, 16, 16, 16, 16, 16, 16, 16, 16, 16, 16, 16, 16, 16, 16, 16, 16, 16, 16, 16, 16, 16, 16, 16, 16, 16, 16, 16, 16, 16, 16, 16, 16, 16, 16, 16, 16, 16, 16, 16, 16, 16, 16, 16, 16, 16, 16, 16, 16, 16, 16, 16, 16, 16, 16, 16, 16, 16, 16, 16, 16, 17, 17, 17, 17, 17, 17, 17, 17, 17, 17, 17, 17, 17, 17, 17, 17, 17, 17, 17, 17, 17, 17, 17, 17, 17, 17, 17, 17, 17, 17, 17, 17, 17, 17, 17, 17, 17, 17, 17, 17, 17, 17, 17, 17, 17, 17, 17, 17, 17, 17, 17, 17, 17, 17, 17, 17, 17, 17, 17, 17, 17, 17, 17, 17, 17, 17, 17, 17, 17, 17, 17, 17, 17, 17, 17, 17, 17, 17, 17, 17, 17, 17, 17, 17, 17, 17, 17, 17, 17, 17, 17, 17, 17, 17, 17, 17, 17, 17, 17, 17, 17, 17, 17, 17, 17, 17, 17, 17, 17, 17, 17, 17, 17, 17, 17, 17, 17, 17, 17, 17, 17, 17, 17, 17, 17, 17, 17, 17, 17, 17, 17, 17, 17, 17, 17, 17, 17, 17, 17, 17, 17, 17, 17, 17, 17, 17, 17, 17, 17, 17, 17, 17, 17, 17, 17, 17, 17, 17, 17, 17, 17, 17, 17, 17, 17, 17, 17, 17, 17, 17, 17, 17, 17, 17, 17, 17, 17, 17, 18, 18, 18, 18, 18, 18, 18, 18, 18, 18, 18, 18, 18, 18, 18, 18, 18, 18, 18, 18, 18, 18, 18, 18, 18, 18, 18, 18, 18, 18, 18, 18, 18, 18, 18, 18, 18, 18, 18, 18, 18, 18, 18, 18, 18, 18, 18, 18, 18, 18, 18, 18, 18, 18, 18, 18, 18, 18, 18, 18, 18, 18, 18, 18, 18, 18, 18, 18, 18, 18, 18, 18, 18, 18, 18, 18, 18, 18, 18, 18, 18, 18, 18, 18, 18, 18, 18, 18, 18, 18, 18, 18, 18, 18, 18, 18, 18, 18, 18, 18, 18, 18, 18, 18, 18, 18, 18, 18, 18, 18, 18, 18, 18, 18, 18, 18, 18, 18, 18, 18, 18, 18, 18, 18, 18, 18, 18, 18, 18, 18, 18, 18, 18, 18, 18, 18, 18, 18, 18, 18, 18, 18, 18, 18, 18, 18, 18, 18, 18, 18, 18, 18, 18, 18, 18, 18, 18, 18, 18, 18, 18, 18, 18, 18, 18, 18, 18, 18, 18, 19, 19, 19, 19, 19, 19, 19, 19, 19, 19, 19, 19, 19, 19, 19, 19, 19, 19, 19, 19, 19, 19, 19, 19, 19, 19, 19, 19, 19, 19, 19, 19, 19, 19, 19, 19, 19, 19, 19, 19, 19, 19, 19, 19, 19, 19, 19, 19, 19, 19, 19, 19, 19, 19, 19, 19, 19, 19, 19, 19, 19, 19, 19, 19, 19, 19, 19, 19, 19, 19, 19, 19, 19, 19, 19, 19, 19, 19, 19, 19, 19, 19, 19, 19, 19, 19, 19, 19, 19, 19, 19, 19, 19, 19, 19, 19, 19, 19, 19, 19, 19, 19, 19, 19, 19, 19, 19, 19, 19, 19, 19, 19, 19, 19, 19, 19, 19, 19, 19, 19, 19, 19, 19, 19, 19, 19, 19, 19, 19, 19, 19, 19, 19, 19, 19, 19, 19, 19, 19, 19, 19, 19, 19, 19, 19, 19, 19, 19, 19, 19, 19, 20, 20, 20, 20, 20, 20, 20, 20, 20, 20, 20, 20, 20, 20, 20, 20, 20, 20, 20, 20, 20, 20, 20, 20, 20, 20, 20, 20, 20, 20, 20, 20, 20, 20, 20, 20, 20, 20, 20, 20, 20, 20, 20, 20, 20, 20, 20, 20, 20, 20, 20, 20, 20, 20, 20, 20, 20, 20, 20, 20, 20, 20, 20, 20, 20, 20, 20, 20, 20, 20, 20, 20, 20, 20, 20, 20, 20, 20, 20, 20, 20, 20, 20, 20, 20, 20, 20, 20, 20, 20, 20, 20, 20, 20, 20, 20, 20, 20, 20, 20, 20, 20, 20, 20, 20, 20, 20, 20, 20, 20, 20, 20, 20, 20, 20, 20, 20, 20, 20, 21, 21, 21, 21, 21, 21, 21, 21, 21, 21, 21, 21, 21, 21, 21, 21, 21, 21, 21, 21, 21, 21, 21, 21, 21, 21, 21, 21, 21, 21, 21, 21, 21, 21, 21, 21, 21, 21, 21, 21, 21, 21, 21, 21, 21, 21, 21, 21, 21, 21, 21, 21, 21, 21, 21, 21, 21, 21, 21, 21, 21, 21, 21, 21, 21, 21, 21, 21, 21, 21, 21, 21, 21, 21, 21, 21, 21, 21, 21, 21, 21, 21, 21, 21, 21, 21, 21, 21, 21, 21, 21, 21, 21, 21, 21, 21, 21, 21, 21, 21, 21, 21, 21, 21, 21, 21, 21, 21, 21, 21, 21, 21, 22, 22, 22, 22, 22, 22, 22, 22, 22, 22, 22, 22, 22, 22, 22, 22, 22, 22, 22, 22, 22, 22, 22, 22, 22, 22, 22, 22, 22, 22, 22, 22, 22, 22, 22, 22, 22, 22, 22, 22, 22, 22, 22, 22, 22, 22, 22, 22, 22, 22, 22, 22, 22, 22, 22, 22, 22, 22, 22, 22, 22, 22, 22, 22, 22, 22, 22, 22, 22, 22, 22, 22, 22, 22, 22, 22, 22, 22, 22, 22, 22, 22, 22, 22, 22, 22, 22, 22, 22, 22, 22, 22, 22, 22, 22, 22, 22, 22, 22, 22, 22, 23, 23, 23, 23, 23, 23, 23, 23, 23, 23, 23, 23, 23, 23, 23, 23, 23, 23, 23, 23, 23, 23, 23, 23, 23, 23, 23, 23, 23, 23, 23, 23, 23, 23, 23, 23, 23, 23, 23, 23, 23, 23, 23, 23, 23, 23, 23, 23, 23, 23, 23, 23, 23, 23, 23, 23, 23, 23, 23, 23, 23, 23, 23, 23, 23, 23, 23, 23, 23, 23, 23, 23, 23, 23, 23, 23, 23, 23, 23, 23, 23, 23, 23, 23, 23, 23, 23, 23, 24, 24, 24, 24, 24, 24, 24, 24, 24, 24, 24, 24, 24, 24, 24, 24, 24, 24, 24, 24, 24, 24, 24, 24, 24, 24, 24, 24, 24, 24, 24, 24, 24, 24, 24, 24, 24, 24, 24, 24, 24, 24, 24, 24, 24, 24, 24, 24, 24, 24, 24, 24, 24, 24, 24, 24, 24, 24, 24, 24, 24, 24, 24, 24, 24, 24, 24, 24, 24, 24, 24, 24, 24, 24, 24, 24, 24, 24, 24, 24, 24, 24, 24, 24, 24, 24, 24, 24, 24, 24, 24, 24, 24, 24, 24, 24, 24, 24, 24, 24, 24, 24, 24, 24, 24, 25, 25, 25, 25, 25, 25, 25, 25, 25, 25, 25, 25, 25, 25, 25, 25, 25, 25, 25, 25, 25, 25, 25, 25, 25, 25, 25, 25, 25, 25, 25, 25, 25, 25, 25, 25, 25, 25, 25, 25, 25, 25, 25, 25, 25, 25, 25, 25, 25, 25, 25, 25, 25, 25, 25, 25, 25, 25, 25, 25, 25, 25, 25, 25, 25, 25, 25, 25, 25, 25, 25, 25, 25, 25, 25, 25, 25, 25, 25, 25, 25, 25, 25, 25, 25, 25, 26, 26, 26, 26, 26, 26, 26, 26, 26, 26, 26, 26, 26, 26, 26, 26, 26, 26, 26, 26, 26, 26, 26, 26, 26, 26, 26, 26, 26, 26, 26, 26, 26, 26, 26, 26, 26, 26, 26, 26, 26, 26, 26, 26, 26, 26, 26, 26, 26, 26, 26, 26, 26, 26, 26, 26, 26, 26, 26, 26, 26, 26, 26, 26, 26, 26, 26, 26, 26, 26, 26, 27, 27, 27, 27, 27, 27, 27, 27, 27, 27, 27, 27, 27, 27, 27, 27, 27, 27, 27, 27, 27, 27, 27, 27, 27, 27, 27, 27, 27, 27, 27, 27, 27, 27, 27, 27, 27, 27, 27, 27, 27, 27, 27, 27, 27, 27, 27, 27, 27, 27, 27, 27, 27, 27, 27, 27, 28, 28, 28, 28, 28, 28, 28, 28, 28, 28, 28, 28, 28, 28, 28, 28, 28, 28, 28, 28, 28, 28, 28, 28, 28, 28, 28, 28, 28, 28, 28, 28, 28, 28, 28, 28, 28, 28, 28, 28, 28, 28, 28, 28, 28, 28, 28, 28, 28, 28, 28, 28, 28, 28, 28, 28, 28, 28, 28, 28, 28, 29, 29, 29, 29, 29, 29, 29, 29, 29, 29, 29, 29, 29, 29, 29, 29, 29, 29, 29, 29, 29, 29, 29, 29, 29, 29, 29, 29, 29, 29, 29, 29, 29, 29, 29, 29, 29, 29, 29, 29, 29, 29, 29, 29, 29, 29, 29, 29, 29, 29, 29, 29, 29, 29, 29, 29, 29, 29, 29, 29, 29, 29, 30, 30, 30, 30, 30, 30, 30, 30, 30, 30, 30, 30, 30, 30, 30, 30, 30, 30, 30, 30, 30, 30, 30, 30, 30, 30, 30, 30, 30, 30, 30, 30, 30, 30, 30, 30, 30, 30, 30, 30, 30, 30, 30, 30, 30, 30, 30, 30, 30, 30, 30, 30, 30, 31, 31, 31, 31, 31, 31, 31, 31, 31, 31, 31, 31, 31, 31, 31, 31, 31, 31, 31, 31, 31, 31, 31, 31, 31, 31, 31, 31, 31, 31, 31, 31, 31, 31, 31, 31, 31, 31, 31, 31, 31, 31, 31, 31, 31, 31, 31, 31, 31, 32, 32, 32, 32, 32, 32, 32, 32, 32, 32, 32, 32, 32, 32, 32, 32, 32, 32, 32, 32, 32, 32, 32, 32, 32, 32, 32, 32, 32, 32, 32, 32, 32, 32, 32, 32, 32, 32, 33, 33, 33, 33, 33, 33, 33, 33, 33, 33, 33, 33, 33, 33, 33, 33, 33, 33, 33, 33, 33, 33, 33, 33, 33, 33, 33, 33, 33, 33, 33, 33, 33, 33, 33, 33, 33, 33, 33, 33, 33, 33, 33, 33, 33, 34, 34, 34, 34, 34, 34, 34, 34, 34, 34, 34, 34, 34, 34, 34, 34, 34, 34, 34, 34, 34, 34, 34, 34, 34, 34, 34, 34, 34, 34, 34, 34, 34, 34, 34, 34, 34, 34, 34, 34, 35, 35, 35, 35, 35, 35, 35, 35, 35, 35, 35, 35, 35, 35, 35, 35, 35, 35, 35, 35, 35, 35, 35, 35, 35, 35, 35, 35, 35, 35, 35, 35, 35, 35, 35, 35, 35, 35, 35, 35, 35, 35, 35, 36, 36, 36, 36, 36, 36, 36, 36, 36, 36, 36, 36, 36, 36, 36, 36, 36, 36, 36, 36, 36, 36, 36, 36, 36, 36, 36, 36, 36, 37, 37, 37, 37, 37, 37, 37, 37, 37, 37, 37, 37, 37, 37, 37, 37, 37, 37, 37, 37, 37, 37, 37, 37, 37, 37, 37, 37, 37, 37, 37, 37, 37, 37, 37, 37, 37, 38, 38, 38, 38, 38, 38, 38, 38, 38, 38, 38, 38, 38, 38, 38, 38, 38, 38, 38, 38, 38, 38, 38, 38, 38, 38, 39, 39, 39, 39, 39, 39, 39, 39, 39, 39, 39, 39, 39, 39, 39, 39, 39, 39, 39, 39, 39, 39, 39, 39, 39, 39, 39, 39, 39, 40, 40, 40, 40, 40, 40, 40, 40, 40, 40, 40, 40, 40, 40, 40, 40, 40, 40, 40, 40, 40, 40, 40, 40, 40, 40, 40, 40, 40, 40, 40, 40, 40, 41, 41, 41, 41, 41, 41, 41, 41, 41, 41, 41, 41, 41, 41, 41, 41, 41, 41, 42, 42, 42, 42, 42, 42, 42, 42, 42, 42, 42, 42, 42, 42, 42, 42, 42, 42, 42, 42, 42, 42, 42, 43, 43, 43, 43, 43, 43, 43, 43, 43, 43, 43, 43, 43, 43, 43, 43, 43, 43, 43, 44, 44, 44, 44, 44, 44, 44, 44, 44, 44, 44, 44, 44, 44, 44, 44, 44, 44, 44, 44, 44, 44, 44, 44, 44, 44, 44, 44, 44, 44, 44, 44, 44, 44, 45, 45, 45, 45, 45, 45, 45, 45, 45, 45, 45, 45, 45, 45, 45, 45, 45, 45, 45, 45, 46, 46, 46, 46, 46, 46, 46, 46, 46, 46, 46, 46, 46, 46, 46, 47, 47, 47, 47, 47, 47, 47, 47, 47, 47, 47, 47, 47, 47, 47, 47, 47, 47, 47, 47, 47, 47, 47, 47, 48, 48, 48, 48, 48, 48, 48, 48, 48, 48, 48, 48, 48, 48, 48, 48, 48, 48, 48, 48, 48, 48, 48, 49, 49, 49, 49, 49, 49, 49, 49, 49, 49, 49, 49, 49, 49, 49, 49, 49, 49, 50, 50, 50, 50, 50, 50, 50, 50, 50, 51, 51, 51, 51, 51, 51, 51, 51, 51, 51, 51, 51, 51, 51, 51, 51, 51, 51, 52, 52, 52, 52, 52, 52, 52, 52, 52, 52, 52, 52, 53, 53, 53, 53, 53, 53, 53, 53, 53, 53, 53, 53, 53, 53, 53, 53, 53, 53, 53, 53, 53, 54, 54, 54, 54, 54, 54, 54, 54, 54, 54, 54, 54, 54, 54, 55, 55, 55, 55, 55, 55, 55, 56, 56, 56, 56, 56, 56, 56, 56, 56, 56, 56, 57, 57, 57, 57, 57, 57, 57, 57, 57, 57, 57, 57, 58, 58, 58, 58, 58, 58, 58, 58, 58, 59, 59, 59, 59, 59, 59, 59, 59, 59, 59, 59, 59, 59, 59, 60, 60, 60, 60, 60, 60, 60, 60, 60, 60, 61, 61, 61, 61, 61, 61, 61, 61, 61, 61, 62, 62, 62, 62, 62, 62, 62, 62, 62, 62, 62, 62, 62, 63, 63, 63, 63, 63, 64, 64, 64, 64, 64, 64, 64, 64, 64, 64, 64, 64, 65, 65, 65, 65, 65, 65, 65, 65, 65, 65, 66, 66, 66, 66, 66, 66, 66, 66, 66, 66, 66, 66, 66, 67, 67, 67, 67, 67, 67, 67, 67, 67, 68, 68, 68, 68, 68, 68, 68, 69, 69, 70, 70, 70, 70, 70, 70, 70, 71, 71, 71, 71, 71, 71, 71, 71, 72, 72, 72, 72, 72, 72, 73, 73, 73, 73, 73, 73, 74, 74, 74, 74, 74, 74, 74, 75, 75, 75, 75, 75, 75, 75, 75, 75, 76, 76, 76, 76, 77, 77, 77, 77, 77, 78, 78, 78, 78, 79, 79, 79, 79, 80, 80, 80, 80, 80, 80, 80, 80, 81, 81, 81, 81, 82, 82, 82, 82, 82, 83, 84, 84, 84, 85, 85, 85, 85, 85, 85, 85, 85, 86, 86, 86, 86, 86, 87, 87, 89, 89, 90, 90, 90, 90, 90, 91, 91, 91, 91, 91, 92, 92, 93, 94, 95, 96, 96, 97, 98, 98, 98, 98, 99, 100, 100, 101, 101, 102, 102, 103, 103, 104, 105, 105, 105, 106, 107, 107, 107, 108, 108, 109, 109, 110, 110, 111, 113, 113, 114, 115, 116, 117, 117, 117, 118, 118, 119, 119, 119, 120, 121, 121, 122, 122, 126, 128, 128, 128, 130, 131, 131, 134, 134, 135, 138, 138, 139, 141, 141, 144, 144, 147, 149, 152, 152, 153, 155, 156, 157, 158, 159, 173, 174, 176, 180, 180, 183, 185, 186, 194, 196, 203, 208, 219, 229, 229, 240, 249, 273, 274, 344, 347, 364, 392, 400, 420, 424, 544, 781]\n",
            "The maximum value is:781\n",
            "The maximum value is:1\n",
            "The maximum value is: 25.0 \n",
            "\n"
          ]
        },
        {
          "output_type": "display_data",
          "data": {
            "text/plain": [
              "<Figure size 800x600 with 1 Axes>"
            ],
            "image/png": "[encoded data removed]"
          },
          "metadata": {}
        }
      ]
    },
    {
      "cell_type": "markdown",
      "source": [
        "###### Number of positive/negative reviews in training/development/testing"
      ],
      "metadata": {
        "id": "KyK9w9h4E3li"
      }
    },
    {
      "cell_type": "code",
      "source": [
        "df.info()"
      ],
      "metadata": {
        "colab": {
          "base_uri": "https://localhost:8080/"
        },
        "id": "EtULz-dF0qz7",
        "outputId": "130980d0-f99e-49c2-bb66-7cb26c9454fb"
      },
      "execution_count": 23,
      "outputs": [
        {
          "output_type": "stream",
          "name": "stdout",
          "text": [
            "<class 'pandas.core.frame.DataFrame'>\n",
            "Int64Index: 4772 entries, 0 to 4914\n",
            "Data columns (total 2 columns):\n",
            " #   Column          Non-Null Count  Dtype \n",
            "---  ------          --------------  ----- \n",
            " 0   reviewText      4772 non-null   object\n",
            " 1   targetVariable  4772 non-null   int64 \n",
            "dtypes: int64(1), object(1)\n",
            "memory usage: 240.9+ KB\n"
          ]
        }
      ]
    },
    {
      "cell_type": "code",
      "source": [
        "# overall dataset analysis\n",
        "negative = df['targetVariable'].value_counts()[0]\n",
        "positive = df['targetVariable'].value_counts()[1]\n",
        "print(f'Total positve overall class: {positive}')\n",
        "print(f'Total negative overall class: {negative}')\n",
        "total_samples = df['targetVariable'].shape[0]\n",
        "pos_per = round(positive / total_samples, 2)\n",
        "neg_per = round(negative / total_samples, 2)\n",
        "print(f'Positive and negative class distribution: {pos_per} and {neg_per}')\n",
        "\n",
        "plt.figure(figsize=(6, 4))\n",
        "plt.bar(['Negative', 'Positive'], [negative, positive], color=['red', 'green'])\n",
        "plt.xlabel('Class')\n",
        "plt.ylabel('Count')\n",
        "plt.title('Class Distribution in Training Data')\n",
        "plt.show()"
      ],
      "metadata": {
        "id": "JHe4TqNsxWvf",
        "colab": {
          "base_uri": "https://localhost:8080/",
          "height": 464
        },
        "outputId": "b532e831-4d08-4114-d2b5-d1bfc91dedef"
      },
      "execution_count": 24,
      "outputs": [
        {
          "output_type": "stream",
          "name": "stdout",
          "text": [
            "Total positve overall class: 4448\n",
            "Total negative overall class: 324\n",
            "Positive and negative class distribution: 0.93 and 0.07\n"
          ]
        },
        {
          "output_type": "display_data",
          "data": {
            "text/plain": [
              "<Figure size 600x400 with 1 Axes>"
            ],
            "image/png": "[encoded data removed]"
          },
          "metadata": {}
        }
      ]
    },
    {
      "cell_type": "markdown",
      "source": [
        "The Dataset is highly imbalanced. As, Positive rating are about 93% and negative ratings are around 7% of overall ratings."
      ],
      "metadata": {
        "id": "M3aXNnAjHtJ2"
      }
    },
    {
      "cell_type": "code",
      "source": [
        "# training dataset overview\n",
        "train_neg = y_train.value_counts()[0]\n",
        "train_pos = y_train.value_counts()[1]\n",
        "print(f'Total positve class for training dataset: {train_pos}')\n",
        "print(f'Total negative class for training dataset : {train_neg}')\n",
        "total_samples_train = y_train.shape[0]\n",
        "pos_train_per = round(train_pos/total_samples_train, 2)\n",
        "neg_train_per = round(train_neg/total_samples_train, 2)\n",
        "print(f'Positive and negative class distribution: {pos_train_per} and {neg_train_per}\\n')\n",
        "\n",
        "# val dataset overview\n",
        "val_neg = y_val.value_counts()[0]\n",
        "val_pos = y_val.value_counts()[1]\n",
        "print(f'Total positve class for validation dataset: {val_pos}')\n",
        "print(f'Total negative class for validation dataset : {val_neg}')\n",
        "total_samples_val = y_val.shape[0]\n",
        "pos_val_per = round(val_pos/total_samples_val, 2)\n",
        "neg_val_per = round(val_neg/total_samples_val, 2)\n",
        "print(f'Positive and negative class distribution: {pos_val_per} and {neg_val_per}\\n')\n",
        "\n",
        "# test dataset overview\n",
        "test_neg = y_test.value_counts()[0]\n",
        "test_pos = y_test.value_counts()[1]\n",
        "print(f'Total positve class for validation dataset: {test_pos}')\n",
        "print(f'Total negative class for validation dataset : {test_neg}')\n",
        "total_samples_test = y_test.shape[0]\n",
        "pos_test_per = round(test_pos/total_samples_test , 2)\n",
        "neg_test_per = round(test_neg/total_samples_test , 2)\n",
        "print(f'Positive and negative class distribution: {pos_test_per} and {neg_test_per}')"
      ],
      "metadata": {
        "id": "SBZjGOtr06CC",
        "colab": {
          "base_uri": "https://localhost:8080/"
        },
        "outputId": "c9bd356d-dc97-4e6d-999a-52179eb8f2ce"
      },
      "execution_count": 25,
      "outputs": [
        {
          "output_type": "stream",
          "name": "stdout",
          "text": [
            "Total positve class for training dataset: 3559\n",
            "Total negative class for training dataset : 258\n",
            "Positive and negative class distribution: 0.93 and 0.07\n",
            "\n",
            "Total positve class for validation dataset: 444\n",
            "Total negative class for validation dataset : 33\n",
            "Positive and negative class distribution: 0.93 and 0.07\n",
            "\n",
            "Total positve class for validation dataset: 445\n",
            "Total negative class for validation dataset : 33\n",
            "Positive and negative class distribution: 0.93 and 0.07\n"
          ]
        }
      ]
    },
    {
      "cell_type": "markdown",
      "source": [
        "# 2). Representation of Texts: word vectors\n",
        "\n"
      ],
      "metadata": {
        "id": "iOQTquMEIqA4"
      }
    },
    {
      "cell_type": "markdown",
      "source": [
        "## **i) Count-based word vectors with co-occurrence matrix**"
      ],
      "metadata": {
        "id": "KwwnHTCclK9G"
      }
    },
    {
      "cell_type": "markdown",
      "source": [
        "### The distinct words list used in the review corpus"
      ],
      "metadata": {
        "id": "KNlTUxhAaDrY"
      }
    },
    {
      "cell_type": "code",
      "source": [
        "def get_vocab(corpus):\n",
        "  word_list = [word for words in corpus for word in words]\n",
        "  words = list(set(word_list))  #creating list of the distinct words\n",
        "  distinct_corpus = sorted(words) #sorting the words list\n",
        "  return distinct_corpus #returning the distinct word list\n",
        "word_dict = get_vocab(train['reviews'])"
      ],
      "metadata": {
        "id": "mQcMbf_waBmt"
      },
      "execution_count": 26,
      "outputs": []
    },
    {
      "cell_type": "markdown",
      "source": [
        "### Built Co-occurence matrix."
      ],
      "metadata": {
        "id": "5p05jdOtkmM3"
      }
    },
    {
      "cell_type": "code",
      "source": [
        "def compute_co_occurrence_matrix(corpus, window_size=4):\n",
        "    words = get_vocab(corpus)\n",
        "    n_words = len(words)\n",
        "    M = np.zeros(shape=(n_words, n_words), dtype=np.int32)\n",
        "    word2ind = {word: ind for ind, word in enumerate(words)}\n",
        "\n",
        "    for tokens in corpus:\n",
        "        # Iterate through each center word in the sentence\n",
        "        for ind, center in enumerate(tokens):\n",
        "            #Extract the surrounding words (context words) for the current/center word\n",
        "            start = max(0, ind - window_size)\n",
        "            end = min(ind + window_size + 1, len(tokens))\n",
        "\n",
        "            # Check if the center word is in the vocabulary\n",
        "            center_index = word2ind.get(center, -1)\n",
        "\n",
        "            if center_index != -1:\n",
        "                for token_ind in range(start, end):\n",
        "                    if token_ind != ind:\n",
        "                        context_word = tokens[token_ind]\n",
        "                        # Check if the context word is in the vocabulary\n",
        "                        context_index = word2ind.get(context_word, -1)\n",
        "                        if context_index != -1:\n",
        "                            M[center_index][context_index] += 1\n",
        "    return M, word2ind"
      ],
      "metadata": {
        "id": "5z0BnOGsJ9Mi"
      },
      "execution_count": 27,
      "outputs": []
    },
    {
      "cell_type": "code",
      "source": [
        "M, word2ind = compute_co_occurrence_matrix(train['reviews'], window_size=4)\n",
        "print(f'The co-occurrence matrix of word counts shape:{M.shape} \\n')\n",
        "print(f'The dictionary that maps word to index: \\n{word2ind}')"
      ],
      "metadata": {
        "id": "T5PjgqNeaNB6",
        "colab": {
          "base_uri": "https://localhost:8080/"
        },
        "outputId": "58ad7d6b-b861-4b88-ab62-abdfe47976ac"
      },
      "execution_count": 28,
      "outputs": [
        {
          "output_type": "stream",
          "name": "stdout",
          "text": [
            "The co-occurrence matrix of word counts shape:(8937, 8937) \n",
            "\n",
            "The dictionary that maps word to index: \n",
            "{'aac': 0, 'aas': 1, 'aba': 2, 'abdroid': 3, 'abilities': 4, 'ability': 5, 'able': 6, 'aboutgood': 7, 'abouti': 8, 'abouttherehere': 9, 'aboutto': 10, 'abroad': 11, 'absolute': 12, 'absolutely': 13, 'abuse': 14, 'abused': 15, 'abysmal': 16, 'accdientally': 17, 'accept': 18, 'acceptable': 19, 'acceptably': 20, 'accepted': 21, 'accepting': 22, 'accepts': 23, 'access': 24, 'accessed': 25, 'accesses': 26, 'accessible': 27, 'accessing': 28, 'accessories': 29, 'accessory': 30, 'accessoryalternative': 31, 'accident': 32, 'accidentally': 33, 'accidently': 34, 'acclimated': 35, 'accolades': 36, 'accommodate': 37, 'accomplish': 38, 'accord': 39, 'according': 40, 'accordingly': 41, 'account': 42, 'accurate': 43, 'accuratei': 44, 'ace': 45, 'acer': 46, 'acess': 47, 'acheive': 48, 'achieve': 49, 'achieved': 50, 'achievedusing': 51, 'achieves': 52, 'acitve': 53, 'acknowledge': 54, 'acknowledged': 55, 'acquire': 56, 'acquired': 57, 'acronis': 58, 'acronyms': 59, 'across': 60, 'act': 61, 'acting': 62, 'action': 63, 'activating': 64, 'active': 65, 'activity': 66, 'actual': 67, 'actuality': 68, 'actually': 69, 'ad': 70, 'adapater': 71, 'adapt': 72, 'adapted': 73, 'adapter': 74, 'adapterbased': 75, 'adapterbingo': 76, 'adapterexchanging': 77, 'adapterfunny': 78, 'adapteri': 79, 'adapterit': 80, 'adapterive': 81, 'adapterlifetime': 82, 'adapterlol': 83, 'adapterother': 84, 'adapterprecautions': 85, 'adapterpretty': 86, 'adapters': 87, 'adaptersamsung': 88, 'adaptersandisk': 89, 'adaptershipping': 90, 'adaptersome': 91, 'adaptersuper': 92, 'adapterwhich': 93, 'adapterwith': 94, 'adapterwithout': 95, 'adapterworks': 96, 'adaptor': 97, 'adaptornow': 98, 'adaptors': 99, 'adaquate': 100, 'adata': 101, 'add': 102, 'added': 103, 'adding': 104, 'addition': 105, 'additional': 106, 'addon': 107, 'address': 108, 'addressed': 109, 'adds': 110, 'addsi': 111, 'adequate': 112, 'adequatei': 113, 'adequately': 114, 'adjust': 115, 'admiral': 116, 'admit': 117, 'admits': 118, 'admitted': 119, 'admittedly': 120, 'adn': 121, 'adopter': 122, 'adopting': 123, 'adpator': 124, 'ads': 125, 'adult': 126, 'advance': 127, 'advanced': 128, 'advancing': 129, 'advantage': 130, 'adventure': 131, 'adventures': 132, 'adventuresthis': 133, 'adversities': 134, 'advertise': 135, 'advertised': 136, 'advertisedgood': 137, 'advertisedi': 138, 'advertisedif': 139, 'advertisedthis': 140, 'advertisedwhat': 141, 'advertisement': 142, 'advertises': 143, 'advertising': 144, 'advertized': 145, 'advice': 146, 'advise': 147, 'advised': 148, 'adware': 149, 'aelago': 150, 'affect': 151, 'affected': 152, 'affecting': 153, 'afford': 154, 'affordable': 155, 'affpa': 156, 'afraid': 157, 'aft': 158, 'afternoon': 159, 'afterwards': 160, 'againalso': 161, 'againas': 162, 'againdecember': 163, 'againi': 164, 'againif': 165, 'againlolgo': 166, 'againspeed': 167, 'againwriting': 168, 'age': 169, 'agent': 170, 'agents': 171, 'aging': 172, 'ago': 173, 'agoi': 174, 'agoworks': 175, 'agptek': 176, 'agree': 177, 'agreed': 178, 'ah': 179, 'ahaha': 180, 'ahead': 181, 'aiiiighsuperspeedy': 182, 'ainol': 183, 'aint': 184, 'air': 185, 'airdroid': 186, 'airplane': 187, 'airport': 188, 'aka': 189, 'akingston': 190, 'al': 191, 'alamcenar': 192, 'alaska': 193, 'alaskai': 194, 'albeit': 195, 'album': 196, 'albums': 197, 'aldo': 198, 'alec': 199, 'alert': 200, 'alerted': 201, 'alerting': 202, 'alerts': 203, 'alien': 204, 'alike': 205, 'alla': 206, 'allbased': 207, 'allblack': 208, 'alldaymalltm': 209, 'alleged': 210, 'allegedly': 211, 'allexcellent': 212, 'allgb': 213, 'allhave': 214, 'alli': 215, 'allinone': 216, 'allinstallation': 217, 'allocated': 218, 'allocation': 219, 'allotted': 220, 'allow': 221, 'allowed': 222, 'allowing': 223, 'allows': 224, 'allpurpose': 225, 'allready': 226, 'allsome': 227, 'allthough': 228, 'almost': 229, 'almsot': 230, 'alone': 231, 'along': 232, 'alot': 233, 'already': 234, 'alreadythis': 235, 'alright': 236, 'also': 237, 'alsobuying': 238, 'alt': 239, 'alta': 240, 'altered': 241, 'alternately': 242, 'alternative': 243, 'although': 244, 'altogether': 245, 'altogetherwhen': 246, 'altough': 247, 'alway': 248, 'always': 249, 'alwayspros': 250, 'amamzon': 251, 'amazed': 252, 'amazementit': 253, 'amazes': 254, 'amazing': 255, 'amazingi': 256, 'amazingly': 257, 'amazingsandisk': 258, 'amazon': 259, 'amazonas': 260, 'amazoncom': 261, 'amazonconits': 262, 'amazonenjoy': 263, 'amazonfrustrating': 264, 'amazoni': 265, 'amazonpackage': 266, 'amazonprime': 267, 'amazons': 268, 'amazonseeing': 269, 'amazonsincerelykj': 270, 'amazonso': 271, 'amazonthe': 272, 'amazonthey': 273, 'america': 274, 'amis': 275, 'ammount': 276, 'amon': 277, 'among': 278, 'amonths': 279, 'amount': 280, 'amounts': 281, 'ample': 282, 'ampliamente': 283, 'ana': 284, 'anbd': 285, 'andi': 286, 'andiod': 287, 'andloaded': 288, 'andoid': 289, 'andor': 290, 'andriod': 291, 'androd': 292, 'android': 293, 'androidspecific': 294, 'ands': 295, 'andthats': 296, 'andy': 297, 'anelago': 298, 'angryto': 299, 'anime': 300, 'announced': 301, 'announcement': 302, 'annoyance': 303, 'annoyed': 304, 'annoying': 305, 'anomaly': 306, 'another': 307, 'anotherbigger': 308, 'anothergreat': 309, 'answer': 310, 'answered': 311, 'answers': 312, 'anteriormente': 313, 'anticipated': 314, 'anticipating': 315, 'anticipation': 316, 'antivirus': 317, 'antutu': 318, 'anyall': 319, 'anybody': 320, 'anycorrupted': 321, 'anydvd': 322, 'anyhow': 323, 'anymore': 324, 'anymorehope': 325, 'anymoreone': 326, 'anyne': 327, 'anynot': 328, 'anyone': 329, 'anyoneps': 330, 'anyproblems': 331, 'anythin': 332, 'anything': 333, 'anythingvery': 334, 'anythingworks': 335, 'anytime': 336, 'anyway': 337, 'anywayany': 338, 'anyways': 339, 'anywhere': 340, 'anywho': 341, 'aokp': 342, 'aosp': 343, 'apartment': 344, 'apex': 345, 'aplomb': 346, 'app': 347, 'apparent': 348, 'apparently': 349, 'appbrowsernetflixmusic': 350, 'appealed': 351, 'appealing': 352, 'appear': 353, 'appearance': 354, 'appeared': 355, 'appearing': 356, 'appears': 357, 'appendage': 358, 'apple': 359, 'appliance': 360, 'applicable': 361, 'application': 362, 'applicationas': 363, 'applicationi': 364, 'applications': 365, 'applied': 366, 'apply': 367, 'apposed': 368, 'appreadergb': 369, 'appreciate': 370, 'appreciated': 371, 'appreciates': 372, 'appreciative': 373, 'apprehensive': 374, 'approaching': 375, 'appropriate': 376, 'approval': 377, 'approve': 378, 'approved': 379, 'approx': 380, 'apps': 381, 'appsd': 382, 'appsgames': 383, 'appsi': 384, 'apr': 385, 'april': 386, 'ar': 387, 'arc': 388, 'architecture': 389, 'archive': 390, 'archos': 391, 'arduous': 392, 'area': 393, 'areas': 394, 'arehaving': 395, 'arei': 396, 'arent': 397, 'argue': 398, 'arguing': 399, 'arise': 400, 'ariseit': 401, 'arises': 402, 'arm': 403, 'armed': 404, 'arose': 405, 'around': 406, 'aroundand': 407, 'aroundsc': 408, 'arounf': 409, 'arranca': 410, 'arrival': 411, 'arrivalwhat': 412, 'arrive': 413, 'arrived': 414, 'arrivedopting': 415, 'arrives': 416, 'art': 417, 'artiaga': 418, 'articles': 419, 'articleso': 420, 'asamsung': 421, 'asian': 422, 'aside': 423, 'asis': 424, 'asix': 425, 'ask': 426, 'asked': 427, 'aski': 428, 'asking': 429, 'asks': 430, 'asleep': 431, 'asneeded': 432, 'aspect': 433, 'asphalt': 434, 'aspirecarry': 435, 'ass': 436, 'assembly': 437, 'assessment': 438, 'asset': 439, 'assign': 440, 'assist': 441, 'association': 442, 'assorted': 443, 'assortment': 444, 'assume': 445, 'assumed': 446, 'assuming': 447, 'assure': 448, 'assured': 449, 'assuringly': 450, 'astak': 451, 'astonishingly': 452, 'asus': 453, 'asusprime': 454, 'ati': 455, 'ativ': 456, 'atlanta': 457, 'atlantic': 458, 'atleast': 459, 'atop': 460, 'atore': 461, 'atrix': 462, 'att': 463, 'attached': 464, 'attaches': 465, 'attaching': 466, 'attachment': 467, 'attain': 468, 'attempt': 469, 'attempted': 470, 'attempting': 471, 'attempts': 472, 'attention': 473, 'attest': 474, 'atto': 475, 'attracted': 476, 'attractive': 477, 'attribute': 478, 'auction': 479, 'audible': 480, 'audio': 481, 'audiobooks': 482, 'audiovideo': 483, 'aug': 484, 'augmentation': 485, 'august': 486, 'authentic': 487, 'authenticate': 488, 'authenticity': 489, 'authorized': 490, 'auththentic': 491, 'auto': 492, 'automatic': 493, 'automatically': 494, 'automotive': 495, 'autophoto': 496, 'av': 497, 'avail': 498, 'available': 499, 'availablethe': 500, 'average': 501, 'averaged': 502, 'avg': 503, 'avoid': 504, 'avoided': 505, 'avoiding': 506, 'await': 507, 'awaiting': 508, 'aware': 509, 'awareif': 510, 'away': 511, 'awaygb': 512, 'awayroot': 513, 'awe': 514, 'awesome': 515, 'awesomeconsnot': 516, 'awesomely': 517, 'awhile': 518, 'awry': 519, 'ax': 520, 'axiom': 521, 'axxholes': 522, 'ayyy': 523, 'az': 524, 'b': 525, 'babies': 526, 'baby': 527, 'back': 528, 'backdecember': 529, 'backed': 530, 'backedup': 531, 'backfree': 532, 'backgroundalso': 533, 'backing': 534, 'backorder': 535, 'backordered': 536, 'backs': 537, 'backside': 538, 'backthis': 539, 'backtoback': 540, 'backup': 541, 'backups': 542, 'backward': 543, 'backwards': 544, 'bad': 545, 'badboys': 546, 'badjust': 547, 'badly': 548, 'badupdate': 549, 'baffled': 550, 'bag': 551, 'balance': 552, 'ball': 553, 'bam': 554, 'bandwagon': 555, 'bandwidth': 556, 'bang': 557, 'bango': 558, 'banner': 559, 'bar': 560, 'bare': 561, 'barely': 562, 'bargain': 563, 'bargainbasement': 564, 'bargan': 565, 'barn': 566, 'base': 567, 'based': 568, 'basic': 569, 'basically': 570, 'basics': 571, 'basis': 572, 'basketball': 573, 'bass': 574, 'bast': 575, 'basta': 576, 'bat': 577, 'batch': 578, 'batches': 579, 'batchgopro': 580, 'batchive': 581, 'batteries': 582, 'battery': 583, 'bay': 584, 'bays': 585, 'bb': 586, 'bbboth': 587, 'bconvience': 588, 'beagle': 589, 'bean': 590, 'bear': 591, 'bearing': 592, 'beast': 593, 'beat': 594, 'beatifully': 595, 'beating': 596, 'beats': 597, 'beautiful': 598, 'beautifully': 599, 'beauty': 600, 'became': 601, 'becasue': 602, 'becauseive': 603, 'become': 604, 'becomes': 605, 'becoming': 606, 'becuase': 607, 'becuse': 608, 'bed': 609, 'beef': 610, 'beefy': 611, 'beforecon': 612, 'beforehand': 613, 'beforemicrosd': 614, 'beforeso': 615, 'began': 616, 'begin': 617, 'beginning': 618, 'begun': 619, 'behave': 620, 'behaved': 621, 'behaves': 622, 'behavior': 623, 'behavioral': 624, 'behind': 625, 'behold': 626, 'beijing': 627, 'beingit': 628, 'beit': 629, 'beleive': 630, 'believ': 631, 'believe': 632, 'believer': 633, 'beloved': 634, 'belowfirstly': 635, 'bemuch': 636, 'bench': 637, 'benchmark': 638, 'benchmarked': 639, 'benchmarking': 640, 'benchmarks': 641, 'benchmarksettings': 642, 'benchmarkspurchased': 643, 'bend': 644, 'bene': 645, 'benefit': 646, 'benefits': 647, 'benissimo': 648, 'beside': 649, 'besides': 650, 'best': 651, 'bestbuy': 652, 'bestthen': 653, 'bet': 654, 'better': 655, 'betteri': 656, 'betterwith': 657, 'beware': 658, 'bewareupdate': 659, 'bext': 660, 'beyond': 661, 'beyondhave': 662, 'biased': 663, 'bible': 664, 'bid': 665, 'bienahora': 666, 'big': 667, 'bigbox': 668, 'bigger': 669, 'biggerolder': 670, 'biggest': 671, 'biggestcapacity': 672, 'biggie': 673, 'bike': 674, 'bill': 675, 'billing': 676, 'billion': 677, 'bin': 678, 'binary': 679, 'bindings': 680, 'bingo': 681, 'bionic': 682, 'bionici': 683, 'birthday': 684, 'bit': 685, 'bites': 686, 'bitlocker': 687, 'bitrate': 688, 'bitrates': 689, 'bitty': 690, 'bizillion': 691, 'bla': 692, 'black': 693, 'blackberry': 694, 'blackbox': 695, 'blackfriday': 696, 'blackto': 697, 'blackvue': 698, 'blackwith': 699, 'blade': 700, 'blah': 701, 'blame': 702, 'blamed': 703, 'blank': 704, 'blankit': 705, 'blankunformatted': 706, 'blazaing': 707, 'blaze': 708, 'blazing': 709, 'bleeding': 710, 'blend': 711, 'blink': 712, 'blinked': 713, 'blinks': 714, 'blip': 715, 'blipped': 716, 'blips': 717, 'bliss': 718, 'blissful': 719, 'blister': 720, 'bloated': 721, 'bloatware': 722, 'block': 723, 'blocked': 724, 'blocking': 725, 'blocks': 726, 'blocky': 727, 'blogs': 728, 'blow': 729, 'blowing': 730, 'blown': 731, 'blows': 732, 'blue': 733, 'bluetooth': 734, 'bluetoothcompatible': 735, 'bluray': 736, 'blurays': 737, 'bn': 738, 'bnever': 739, 'board': 740, 'boards': 741, 'boat': 742, 'bobs': 743, 'bogged': 744, 'bogs': 745, 'bogus': 746, 'bomb': 747, 'bone': 748, 'bonestock': 749, 'bonus': 750, 'bonusnow': 751, 'book': 752, 'booklet': 753, 'bookmarks': 754, 'books': 755, 'bookshelf': 756, 'boost': 757, 'boosted': 758, 'boosts': 759, 'boostwith': 760, 'boot': 761, 'bootable': 762, 'booted': 763, 'bootfor': 764, 'booting': 765, 'bootleg': 766, 'bootlegged': 767, 'bootloader': 768, 'boots': 769, 'bootso': 770, 'bootthis': 771, 'bootup': 772, 'bored': 773, 'boring': 774, 'born': 775, 'bother': 776, 'bothered': 777, 'bothernow': 778, 'bothso': 779, 'boththis': 780, 'bottleneck': 781, 'bottlenecked': 782, 'bottlenecking': 783, 'bottlenecks': 784, 'bottom': 785, 'bough': 786, 'bought': 787, 'bougth': 788, 'bouncing': 789, 'boundary': 790, 'bout': 791, 'bouth': 792, 'bouthg': 793, 'boverall': 794, 'box': 795, 'boxand': 796, 'boxes': 797, 'boxno': 798, 'boy': 799, 'boyfriend': 800, 'brag': 801, 'bragged': 802, 'brain': 803, 'brainer': 804, 'brainernote': 805, 'brainerthe': 806, 'bran': 807, 'brand': 808, 'brandagain': 809, 'branded': 810, 'brandi': 811, 'branding': 812, 'brandname': 813, 'brands': 814, 'brandsi': 815, 'brandversion': 816, 'brandyou': 817, 'bravo': 818, 'bread': 819, 'break': 820, 'breaking': 821, 'breathe': 822, 'breathing': 823, 'breed': 824, 'breeze': 825, 'brew': 826, 'brick': 827, 'bricked': 828, 'bridge': 829, 'brief': 830, 'briefly': 831, 'bright': 832, 'brighter': 833, 'brilliant': 834, 'brilliantly': 835, 'bring': 836, 'brings': 837, 'broadcasts': 838, 'broke': 839, 'broken': 840, 'brokenalso': 841, 'brokencorruptunusable': 842, 'brotha': 843, 'brother': 844, 'brothers': 845, 'brought': 846, 'brown': 847, 'browse': 848, 'browser': 849, 'browsing': 850, 'bruce': 851, 'brutally': 852, 'bs': 853, 'btw': 854, 'btwshame': 855, 'buck': 856, 'bucks': 857, 'budget': 858, 'budgetso': 859, 'buena': 860, 'bueno': 861, 'buffer': 862, 'buffering': 863, 'buffers': 864, 'bufferthere': 865, 'bug': 866, 'bugger': 867, 'buggercons': 868, 'buggy': 869, 'bugs': 870, 'build': 871, 'building': 872, 'built': 873, 'builtin': 874, 'buit': 875, 'bujgger': 876, 'bulit': 877, 'bulk': 878, 'bullcrap': 879, 'bulletproof': 880, 'bum': 881, 'bummed': 882, 'bummer': 883, 'bump': 884, 'bumps': 885, 'bunch': 886, 'bunches': 887, 'bundle': 888, 'bundling': 889, 'bunk': 890, 'bur': 891, 'burchase': 892, 'burn': 893, 'burned': 894, 'burner': 895, 'burning': 896, 'burst': 897, 'bus': 898, 'business': 899, 'bust': 900, 'busy': 901, 'butt': 902, 'butter': 903, 'butthis': 904, 'button': 905, 'butwhat': 906, 'buy': 907, 'buyer': 908, 'buyers': 909, 'buyi': 910, 'buying': 911, 'buyit': 912, 'buyjerry': 913, 'buypricequality': 914, 'buys': 915, 'buywell': 916, 'bye': 917, 'bypass': 918, 'bypasses': 919, 'bypassing': 920, 'bytes': 921, 'bytessec': 922, 'bytessecso': 923, 'bytessequential': 924, 'c': 925, 'ca': 926, 'caacutemares': 927, 'cable': 928, 'cablenote': 929, 'cables': 930, 'cache': 931, 'caches': 932, 'caching': 933, 'calc': 934, 'calculated': 935, 'calculating': 936, 'calculations': 937, 'calidad': 938, 'california': 939, 'call': 940, 'called': 941, 'callers': 942, 'calling': 943, 'calls': 944, 'cam': 945, 'camareacutes': 946, 'camares': 947, 'camcorder': 948, 'camcorders': 949, 'camdash': 950, 'came': 951, 'camel': 952, 'camelcamelcamel': 953, 'camera': 954, 'cameraall': 955, 'cameracamcorder': 956, 'cameraclass': 957, 'cameraguys': 958, 'camerai': 959, 'camerano': 960, 'cameraprosimmediate': 961, 'camerareplaces': 962, 'cameras': 963, 'camerasi': 964, 'cameraslaptop': 965, 'camerasthe': 966, 'camerasthese': 967, 'cameravideo': 968, 'cames': 969, 'camileo': 970, 'camone': 971, 'camper': 972, 'camperthe': 973, 'camplains': 974, 'camrcorder': 975, 'cams': 976, 'canada': 977, 'canceli': 978, 'cancelled': 979, 'cancer': 980, 'cancun': 981, 'cand': 982, 'cannever': 983, 'cannon': 984, 'canon': 985, 'cant': 986, 'cantiad': 987, 'cap': 988, 'capabilities': 989, 'capability': 990, 'capabilityget': 991, 'capabilties': 992, 'capable': 993, 'capacities': 994, 'capacitive': 995, 'capacity': 996, 'capacityjust': 997, 'capacitysandisk': 998, 'capacitywas': 999, 'caparcity': 1000, 'capcities': 1001, 'capitalism': 1002, 'capping': 1003, 'caps': 1004, 'captain': 1005, 'captivate': 1006, 'capture': 1007, 'captured': 1008, 'captures': 1009, 'capturing': 1010, 'car': 1011, 'caracteriacutesticas': 1012, 'carbased': 1013, 'carcam': 1014, 'card': 1015, 'carda': 1016, 'cardadapter': 1017, 'cardall': 1018, 'cardalmost': 1019, 'cardamazon': 1020, 'cardbeliever': 1021, 'cardbionic': 1022, 'cardboard': 1023, 'cardbottom': 1024, 'cardcon': 1025, 'carddaniel': 1026, 'carddecember': 1027, 'cardedit': 1028, 'cardfer': 1029, 'cardgood': 1030, 'cardhere': 1031, 'cardhowever': 1032, 'cardi': 1033, 'cardif': 1034, 'cardim': 1035, 'cardit': 1036, 'cardits': 1037, 'cardjan': 1038, 'cardmacbook': 1039, 'cardmy': 1040, 'cardno': 1041, 'cardnope': 1042, 'cardnot': 1043, 'cardnow': 1044, 'cardonce': 1045, 'cardplease': 1046, 'cardpro': 1047, 'cardreader': 1048, 'cardreaders': 1049, 'cards': 1050, 'cardsall': 1051, 'cardsawesome': 1052, 'cardsdrift': 1053, 'cardseditgetting': 1054, 'cardseriously': 1055, 'cardsfirst': 1056, 'cardsfor': 1057, 'cardsfrom': 1058, 'cardshow': 1059, 'cardsi': 1060, 'cardsim': 1061, 'cardsno': 1062, 'cardsnow': 1063, 'cardso': 1064, 'cardsof': 1065, 'cardsso': 1066, 'cardsthey': 1067, 'cardsthis': 1068, 'cardsupdate': 1069, 'cardthe': 1070, 'cardthen': 1071, 'cardthis': 1072, 'cardtip': 1073, 'cardtranscend': 1074, 'cardtransferring': 1075, 'cardtried': 1076, 'cardu': 1077, 'cardupdate': 1078, 'carduse': 1079, 'cardusing': 1080, 'cardwarning': 1081, 'cardwas': 1082, 'cardwell': 1083, 'cardwhen': 1084, 'cardwith': 1085, 'cardworks': 1086, 'cardwould': 1087, 'care': 1088, 'career': 1089, 'careful': 1090, 'carefully': 1091, 'cares': 1092, 'carpc': 1093, 'carried': 1094, 'carrier': 1095, 'carrieri': 1096, 'carriers': 1097, 'carries': 1098, 'carry': 1099, 'carrying': 1100, 'cars': 1101, 'cart': 1102, 'cartoon': 1103, 'cary': 1104, 'case': 1105, 'cases': 1106, 'casestorage': 1107, 'casesupdate': 1108, 'casethe': 1109, 'cash': 1110, 'casings': 1111, 'casio': 1112, 'casual': 1113, 'cat': 1114, 'catalog': 1115, 'cataloged': 1116, 'catastrophe': 1117, 'catch': 1118, 'catching': 1119, 'categories': 1120, 'category': 1121, 'cats': 1122, 'caught': 1123, 'cause': 1124, 'caused': 1125, 'causes': 1126, 'causing': 1127, 'caution': 1128, 'cautionnot': 1129, 'cautiously': 1130, 'cave': 1131, 'caveatim': 1132, 'cbs': 1133, 'cconfirmed': 1134, 'cd': 1135, 'cddvd': 1136, 'cds': 1137, 'cdsthese': 1138, 'cease': 1139, 'cect': 1140, 'cel': 1141, 'cell': 1142, 'cellphone': 1143, 'cellphones': 1144, 'cellular': 1145, 'cent': 1146, 'center': 1147, 'centered': 1148, 'central': 1149, 'cents': 1150, 'centura': 1151, 'certain': 1152, 'certainly': 1153, 'certified': 1154, 'certify': 1155, 'cf': 1156, 'chain': 1157, 'chains': 1158, 'chalking': 1159, 'challenge': 1160, 'challenged': 1161, 'challenging': 1162, 'champ': 1163, 'chance': 1164, 'chances': 1165, 'chancing': 1166, 'change': 1167, 'changed': 1168, 'changes': 1169, 'changeso': 1170, 'changing': 1171, 'characters': 1172, 'charge': 1173, 'charged': 1174, 'charger': 1175, 'chargersso': 1176, 'charges': 1177, 'charging': 1178, 'charm': 1179, 'charmawesome': 1180, 'charmbottom': 1181, 'charmexpand': 1182, 'charmi': 1183, 'chart': 1184, 'chartmap': 1185, 'chat': 1186, 'cheap': 1187, 'cheaped': 1188, 'cheaper': 1189, 'cheaperbest': 1190, 'cheapercomes': 1191, 'cheapest': 1192, 'cheapi': 1193, 'cheaping': 1194, 'cheaplesser': 1195, 'cheaply': 1196, 'cheapo': 1197, 'cheapobrands': 1198, 'cheapos': 1199, 'check': 1200, 'checked': 1201, 'checkedlifetime': 1202, 'checking': 1203, 'checks': 1204, 'checksum': 1205, 'cheep': 1206, 'cheeper': 1207, 'cheers': 1208, 'cheesier': 1209, 'cheesy': 1210, 'chew': 1211, 'chewing': 1212, 'chews': 1213, 'chickens': 1214, 'child': 1215, 'chilling': 1216, 'china': 1217, 'chinese': 1218, 'chip': 1219, 'chipbtw': 1220, 'chipdoes': 1221, 'chipit': 1222, 'chips': 1223, 'chipset': 1224, 'chipsetgogroove': 1225, 'chipsget': 1226, 'chirping': 1227, 'chk': 1228, 'chkdsk': 1229, 'choice': 1230, 'choiceany': 1231, 'choices': 1232, 'choke': 1233, 'choose': 1234, 'choosing': 1235, 'chopped': 1236, 'choppiness': 1237, 'choppy': 1238, 'chose': 1239, 'chosen': 1240, 'chosing': 1241, 'christmas': 1242, 'chromebook': 1243, 'chugging': 1244, 'chunk': 1245, 'chunks': 1246, 'circuits': 1247, 'circumstance': 1248, 'circumstances': 1249, 'cite': 1250, 'claim': 1251, 'claimed': 1252, 'claimedonly': 1253, 'claiming': 1254, 'claimpicture': 1255, 'claims': 1256, 'clamshell': 1257, 'clarify': 1258, 'clase': 1259, 'class': 1260, 'classbottom': 1261, 'classe': 1262, 'classes': 1263, 'classfor': 1264, 'classhowever': 1265, 'classi': 1266, 'classic': 1267, 'classification': 1268, 'classificationsand': 1269, 'classified': 1270, 'classten': 1271, 'clean': 1272, 'cleaning': 1273, 'clear': 1274, 'cleared': 1275, 'clearly': 1276, 'cleartype': 1277, 'click': 1278, 'clicked': 1279, 'clicker': 1280, 'clicking': 1281, 'clicks': 1282, 'client': 1283, 'clientoswaldo': 1284, 'clientsrecording': 1285, 'clip': 1286, 'clipp': 1287, 'clipping': 1288, 'clips': 1289, 'clipsi': 1290, 'clipzip': 1291, 'clock': 1292, 'clocked': 1293, 'clocks': 1294, 'clockwork': 1295, 'clockworkmod': 1296, 'clockworkmodphilz': 1297, 'clog': 1298, 'clogging': 1299, 'clones': 1300, 'close': 1301, 'closer': 1302, 'closest': 1303, 'cloth': 1304, 'cloud': 1305, 'cloudconnected': 1306, 'clout': 1307, 'clue': 1308, 'cluster': 1309, 'clusters': 1310, 'cm': 1311, 'cmandroid': 1312, 'cmeras': 1313, 'cmthis': 1314, 'cnet': 1315, 'co': 1316, 'coast': 1317, 'cobra': 1318, 'coby': 1319, 'cocaine': 1320, 'code': 1321, 'coded': 1322, 'codeprobably': 1323, 'codes': 1324, 'coffee': 1325, 'coins': 1326, 'cold': 1327, 'collecting': 1328, 'collection': 1329, 'collections': 1330, 'color': 1331, 'coloring': 1332, 'colors': 1333, 'column': 1334, 'com': 1335, 'combination': 1336, 'combined': 1337, 'come': 1338, 'comedy': 1339, 'comei': 1340, 'comes': 1341, 'comfort': 1342, 'comfortable': 1343, 'comic': 1344, 'comics': 1345, 'coming': 1346, 'comings': 1347, 'command': 1348, 'commando': 1349, 'commend': 1350, 'comment': 1351, 'commented': 1352, 'commenter': 1353, 'commentits': 1354, 'comments': 1355, 'commercial': 1356, 'commercialadvertisingmarketing': 1357, 'commercially': 1358, 'commit': 1359, 'committed': 1360, 'committing': 1361, 'commodities': 1362, 'commodity': 1363, 'common': 1364, 'commonplace': 1365, 'communicate': 1366, 'communication': 1367, 'como': 1368, 'comore': 1369, 'comp': 1370, 'compacity': 1371, 'compact': 1372, 'compactflash': 1373, 'companies': 1374, 'company': 1375, 'companys': 1376, 'companyupdate': 1377, 'companyvendorlesson': 1378, 'comparable': 1379, 'comparably': 1380, 'compare': 1381, 'compared': 1382, 'compares': 1383, 'comparing': 1384, 'comparison': 1385, 'comparisons': 1386, 'compatability': 1387, 'compatibility': 1388, 'compatible': 1389, 'compatibleive': 1390, 'compel': 1391, 'compelled': 1392, 'compensate': 1393, 'competition': 1394, 'competitive': 1395, 'competitor': 1396, 'competitors': 1397, 'complain': 1398, 'complained': 1399, 'complaining': 1400, 'complains': 1401, 'complainsor': 1402, 'complainswarning': 1403, 'complaint': 1404, 'complaints': 1405, 'complaintsi': 1406, 'complaintsif': 1407, 'complaintsits': 1408, 'complaintsused': 1409, 'completar': 1410, 'complete': 1411, 'completed': 1412, 'completedi': 1413, 'completely': 1414, 'completewith': 1415, 'completly': 1416, 'complex': 1417, 'complexity': 1418, 'compliant': 1419, 'complications': 1420, 'components': 1421, 'compras': 1422, 'comprehensive': 1423, 'comprei': 1424, 'compressed': 1425, 'compromise': 1426, 'computation': 1427, 'computations': 1428, 'computer': 1429, 'computeralso': 1430, 'computerand': 1431, 'computerbut': 1432, 'computerconnected': 1433, 'computerfolks': 1434, 'computeri': 1435, 'computerif': 1436, 'computerimmediate': 1437, 'computermaybe': 1438, 'computermost': 1439, 'computernotebook': 1440, 'computerold': 1441, 'computeroverall': 1442, 'computers': 1443, 'computersandisk': 1444, 'computerslaptops': 1445, 'computervery': 1446, 'computing': 1447, 'computingmy': 1448, 'con': 1449, 'concern': 1450, 'concerned': 1451, 'concernedprosthe': 1452, 'concernes': 1453, 'concerns': 1454, 'concert': 1455, 'concertswhat': 1456, 'concluded': 1457, 'concrete': 1458, 'condense': 1459, 'condenser': 1460, 'condition': 1461, 'conditioners': 1462, 'conditioninone': 1463, 'conditions': 1464, 'conditionthanks': 1465, 'condoning': 1466, 'conduct': 1467, 'conect': 1468, 'conectios': 1469, 'confiabilidade': 1470, 'confidence': 1471, 'confident': 1472, 'config': 1473, 'configuration': 1474, 'confirm': 1475, 'confirmed': 1476, 'confirmeddaniel': 1477, 'conflict': 1478, 'conflicting': 1479, 'conflicts': 1480, 'confortable': 1481, 'confuse': 1482, 'confused': 1483, 'confusing': 1484, 'confusion': 1485, 'congressman': 1486, 'conjunction': 1487, 'connect': 1488, 'connected': 1489, 'connecting': 1490, 'connection': 1491, 'connectivity': 1492, 'cons': 1493, 'consecutive': 1494, 'conservative': 1495, 'consider': 1496, 'considerable': 1497, 'considerably': 1498, 'consideration': 1499, 'considered': 1500, 'considering': 1501, 'consideringi': 1502, 'consigliata': 1503, 'consistency': 1504, 'consistent': 1505, 'consistently': 1506, 'consistenttested': 1507, 'consolidate': 1508, 'consolidated': 1509, 'conspros': 1510, 'constant': 1511, 'constantly': 1512, 'constraint': 1513, 'constraints': 1514, 'constructed': 1515, 'construction': 1516, 'constructionamazing': 1517, 'consultants': 1518, 'consume': 1519, 'consumed': 1520, 'consumer': 1521, 'consumerlevel': 1522, 'consumers': 1523, 'consuming': 1524, 'contact': 1525, 'contacted': 1526, 'contacting': 1527, 'contacts': 1528, 'contain': 1529, 'contained': 1530, 'container': 1531, 'contains': 1532, 'contemplating': 1533, 'content': 1534, 'contentious': 1535, 'contentit': 1536, 'contents': 1537, 'continually': 1538, 'continue': 1539, 'continued': 1540, 'continues': 1541, 'continuing': 1542, 'continuity': 1543, 'continuo': 1544, 'continuous': 1545, 'continuously': 1546, 'contour': 1547, 'contourroam': 1548, 'contout': 1549, 'contract': 1550, 'contrast': 1551, 'control': 1552, 'controlled': 1553, 'controller': 1554, 'controlswatching': 1555, 'contry': 1556, 'conttol': 1557, 'convenience': 1558, 'convenient': 1559, 'conveniently': 1560, 'conventional': 1561, 'conversation': 1562, 'conversion': 1563, 'convert': 1564, 'converted': 1565, 'converter': 1566, 'convient': 1567, 'convince': 1568, 'convinced': 1569, 'cool': 1570, 'coolest': 1571, 'coolpix': 1572, 'coolupdate': 1573, 'coolwaitouch': 1574, 'coool': 1575, 'copes': 1576, 'copied': 1577, 'copies': 1578, 'copiesit': 1579, 'copious': 1580, 'copter': 1581, 'copy': 1582, 'copyandpaste': 1583, 'copycopies': 1584, 'copydelete': 1585, 'copyi': 1586, 'copying': 1587, 'copypaste': 1588, 'copypastedelete': 1589, 'copys': 1590, 'cord': 1591, 'core': 1592, 'corner': 1593, 'corners': 1594, 'corporation': 1595, 'correct': 1596, 'correctbetween': 1597, 'corrected': 1598, 'correctly': 1599, 'corrects': 1600, 'corresponding': 1601, 'corresponds': 1602, 'corrupt': 1603, 'corrupted': 1604, 'corrupting': 1605, 'corruption': 1606, 'corruptioni': 1607, 'corruptiontransversely': 1608, 'corrupts': 1609, 'cost': 1610, 'costco': 1611, 'costly': 1612, 'costs': 1613, 'costumer': 1614, 'coud': 1615, 'could': 1616, 'couldid': 1617, 'couldnt': 1618, 'couldnteven': 1619, 'couldve': 1620, 'count': 1621, 'counter': 1622, 'counterfeit': 1623, 'counterfeited': 1624, 'counterfeiters': 1625, 'counterfeits': 1626, 'counterpart': 1627, 'counting': 1628, 'countless': 1629, 'country': 1630, 'counts': 1631, 'couple': 1632, 'course': 1633, 'courseif': 1634, 'courseupdate': 1635, 'cover': 1636, 'covered': 1637, 'covering': 1638, 'covers': 1639, 'cowon': 1640, 'coworker': 1641, 'cpu': 1642, 'crack': 1643, 'cracked': 1644, 'cradleeverything': 1645, 'crafting': 1646, 'cram': 1647, 'crammed': 1648, 'cranked': 1649, 'crap': 1650, 'craped': 1651, 'crapped': 1652, 'crapping': 1653, 'crapple': 1654, 'crappy': 1655, 'craps': 1656, 'crapware': 1657, 'crash': 1658, 'crashed': 1659, 'crashes': 1660, 'crashing': 1661, 'crazy': 1662, 'crc': 1663, 'cream': 1664, 'create': 1665, 'created': 1666, 'creates': 1667, 'creating': 1668, 'credit': 1669, 'credited': 1670, 'creepy': 1671, 'crhd': 1672, 'crime': 1673, 'crippled': 1674, 'crispy': 1675, 'criteria': 1676, 'critical': 1677, 'critically': 1678, 'crooked': 1679, 'crooks': 1680, 'cross': 1681, 'crossed': 1682, 'crossing': 1683, 'crosstown': 1684, 'crowded': 1685, 'crucial': 1686, 'cruise': 1687, 'crumbled': 1688, 'cry': 1689, 'crystal': 1690, 'crystaldiskmark': 1691, 'crystaldiskmarkenjoying': 1692, 'crystalmark': 1693, 'cubieboard': 1694, 'cuboxi': 1695, 'cuhs': 1696, 'culprit': 1697, 'cup': 1698, 'cure': 1699, 'cured': 1700, 'curiosity': 1701, 'curious': 1702, 'current': 1703, 'currently': 1704, 'curve': 1705, 'custom': 1706, 'customer': 1707, 'customerno': 1708, 'customers': 1709, 'customized': 1710, 'cut': 1711, 'cute': 1712, 'cuts': 1713, 'cutter': 1714, 'cutting': 1715, 'cvs': 1716, 'cwm': 1717, 'cyanogenmod': 1718, 'cyber': 1719, 'cybermonday': 1720, 'cybershot': 1721, 'cycle': 1722, 'cycles': 1723, 'cyclic': 1724, 'da': 1725, 'dab': 1726, 'dad': 1727, 'dads': 1728, 'daily': 1729, 'dallows': 1730, 'damage': 1731, 'damaged': 1732, 'damaging': 1733, 'damn': 1734, 'damned': 1735, 'damon': 1736, 'dane': 1737, 'dang': 1738, 'dangerous': 1739, 'dangerously': 1740, 'daniel': 1741, 'dare': 1742, 'dark': 1743, 'darklol': 1744, 'darn': 1745, 'dash': 1746, 'dashboard': 1747, 'dashcam': 1748, 'dashcamera': 1749, 'dashcams': 1750, 'data': 1751, 'databases': 1752, 'databuy': 1753, 'datagreat': 1754, 'datahighly': 1755, 'datai': 1756, 'datanever': 1757, 'dataprevious': 1758, 'datasd': 1759, 'datastorage': 1760, 'datato': 1761, 'date': 1762, 'daughter': 1763, 'daughterinlaw': 1764, 'daughters': 1765, 'daugthers': 1766, 'davey': 1767, 'day': 1768, 'days': 1769, 'daysadapters': 1770, 'daysi': 1771, 'daysid': 1772, 'daysthe': 1773, 'daysweeks': 1774, 'dayunless': 1775, 'dayyou': 1776, 'daze': 1777, 'dbpoweramp': 1778, 'dd': 1779, 'ddrive': 1780, 'de': 1781, 'dead': 1782, 'deadcomplete': 1783, 'deal': 1784, 'dealers': 1785, 'dealership': 1786, 'dealespecially': 1787, 'dealing': 1788, 'dealprice': 1789, 'deals': 1790, 'dealt': 1791, 'death': 1792, 'debating': 1793, 'dec': 1794, 'decade': 1795, 'deceive': 1796, 'december': 1797, 'decent': 1798, 'decently': 1799, 'decide': 1800, 'decided': 1801, 'deciding': 1802, 'decision': 1803, 'decover': 1804, 'decrease': 1805, 'decreased': 1806, 'decreases': 1807, 'decrypt': 1808, 'decrypted': 1809, 'decrypting': 1810, 'dedicated': 1811, 'deducted': 1812, 'deep': 1813, 'deepened': 1814, 'def': 1815, 'default': 1816, 'defaults': 1817, 'defaultssent': 1818, 'defect': 1819, 'defectbuy': 1820, 'defective': 1821, 'defectivei': 1822, 'defectiveif': 1823, 'defectives': 1824, 'defects': 1825, 'definately': 1826, 'definicioacuten': 1827, 'definite': 1828, 'definitely': 1829, 'definition': 1830, 'definitive': 1831, 'definitly': 1832, 'definive': 1833, 'deftly': 1834, 'defy': 1835, 'defyxt': 1836, 'degital': 1837, 'degradation': 1838, 'degrade': 1839, 'degree': 1840, 'degrees': 1841, 'del': 1842, 'delay': 1843, 'delaymy': 1844, 'delays': 1845, 'delete': 1846, 'deleted': 1847, 'deletes': 1848, 'deleting': 1849, 'deliberately': 1850, 'delightful': 1851, 'deliver': 1852, 'delivered': 1853, 'delivers': 1854, 'delivery': 1855, 'deliveryfast': 1856, 'dell': 1857, 'demand': 1858, 'demanded': 1859, 'demanding': 1860, 'demands': 1861, 'demented': 1862, 'demon': 1863, 'demonstrate': 1864, 'density': 1865, 'department': 1866, 'dependable': 1867, 'depending': 1868, 'depends': 1869, 'depeneding': 1870, 'depressed': 1871, 'dept': 1872, 'depths': 1873, 'describe': 1874, 'described': 1875, 'describedphone': 1876, 'describes': 1877, 'descried': 1878, 'description': 1879, 'descritas': 1880, 'deserved': 1881, 'deserves': 1882, 'design': 1883, 'designation': 1884, 'designed': 1885, 'designsandisk': 1886, 'designto': 1887, 'desire': 1888, 'desired': 1889, 'desires': 1890, 'desk': 1891, 'desktop': 1892, 'desperately': 1893, 'despite': 1894, 'desta': 1895, 'destination': 1896, 'destroy': 1897, 'detail': 1898, 'detailed': 1899, 'details': 1900, 'detailswhen': 1901, 'detect': 1902, 'detected': 1903, 'detection': 1904, 'detectors': 1905, 'detects': 1906, 'determine': 1907, 'determined': 1908, 'determiner': 1909, 'determining': 1910, 'detraction': 1911, 'developed': 1912, 'developer': 1913, 'development': 1914, 'develops': 1915, 'device': 1916, 'devicedaniel': 1917, 'devicefer': 1918, 'devicefrustration': 1919, 'devicehighly': 1920, 'deviceim': 1921, 'deviceno': 1922, 'devices': 1923, 'devicesandisk': 1924, 'devicesi': 1925, 'devicesjust': 1926, 'deviceslots': 1927, 'devicesshipping': 1928, 'devicethe': 1929, 'deviceupdate': 1930, 'devise': 1931, 'devurandom': 1932, 'devzero': 1933, 'dew': 1934, 'diagnostics': 1935, 'dialog': 1936, 'diamondcarry': 1937, 'dic': 1938, 'dice': 1939, 'didgo': 1940, 'didits': 1941, 'didnt': 1942, 'didof': 1943, 'didsince': 1944, 'didt': 1945, 'die': 1946, 'died': 1947, 'diedi': 1948, 'dies': 1949, 'diet': 1950, 'diff': 1951, 'differect': 1952, 'difference': 1953, 'differencedigital': 1954, 'differences': 1955, 'differencethe': 1956, 'different': 1957, 'differentiationagain': 1958, 'differently': 1959, 'difficult': 1960, 'difficulties': 1961, 'difficulty': 1962, 'dig': 1963, 'digicam': 1964, 'digifotos': 1965, 'digiral': 1966, 'digital': 1967, 'digitally': 1968, 'diligence': 1969, 'diligently': 1970, 'dime': 1971, 'diminishing': 1972, 'dip': 1973, 'dips': 1974, 'direct': 1975, 'directed': 1976, 'direction': 1977, 'directly': 1978, 'directlyin': 1979, 'directory': 1980, 'dirt': 1981, 'dirty': 1982, 'disable': 1983, 'disagree': 1984, 'disallows': 1985, 'disapointed': 1986, 'disappear': 1987, 'disappeared': 1988, 'disappearedi': 1989, 'disappearing': 1990, 'disappears': 1991, 'disappoint': 1992, 'disappointed': 1993, 'disappointedtry': 1994, 'disappointedupdatesandisk': 1995, 'disappointing': 1996, 'disappointingdecember': 1997, 'disappointingly': 1998, 'disappointment': 1999, 'disappointments': 2000, 'disappoints': 2001, 'disc': 2002, 'discern': 2003, 'disclaimers': 2004, 'disclosure': 2005, 'disconnect': 2006, 'disconnected': 2007, 'disconnecting': 2008, 'discontinued': 2009, 'discount': 2010, 'discounted': 2011, 'discover': 2012, 'discovered': 2013, 'discovering': 2014, 'discussed': 2015, 'discussions': 2016, 'dish': 2017, 'disk': 2018, 'diskalthough': 2019, 'diskdirector': 2020, 'diskdiskkbt': 2021, 'diskpart': 2022, 'disks': 2023, 'diskthe': 2024, 'dismal': 2025, 'dismount': 2026, 'dismounted': 2027, 'dismounting': 2028, 'dismountingremounting': 2029, 'disneyworld': 2030, 'display': 2031, 'displayed': 2032, 'displaying': 2033, 'displays': 2034, 'displeased': 2035, 'disposal': 2036, 'disqualify': 2037, 'dissapeared': 2038, 'dissapoint': 2039, 'dissapointed': 2040, 'dissapointment': 2041, 'dissappointed': 2042, 'dissatisfied': 2043, 'dissected': 2044, 'distance': 2045, 'distances': 2046, 'distributed': 2047, 'distributor': 2048, 'district': 2049, 'disturbing': 2050, 'dit': 2051, 'ditigal': 2052, 'dive': 2053, 'dives': 2054, 'divided': 2055, 'dji': 2056, 'dlink': 2057, 'doa': 2058, 'dobuy': 2059, 'dock': 2060, 'docking': 2061, 'docs': 2062, 'docsthe': 2063, 'doctor': 2064, 'document': 2065, 'documentaries': 2066, 'documentation': 2067, 'documented': 2068, 'documents': 2069, 'dodnt': 2070, 'doesbefore': 2071, 'doesi': 2072, 'doesnt': 2073, 'doesntpopped': 2074, 'dog': 2075, 'dogg': 2076, 'doggs': 2077, 'dohope': 2078, 'doi': 2079, 'doid': 2080, 'dollar': 2081, 'dollars': 2082, 'dolove': 2083, 'done': 2084, 'doneand': 2085, 'donecons': 2086, 'donei': 2087, 'donesidenote': 2088, 'dongle': 2089, 'dongles': 2090, 'donot': 2091, 'dont': 2092, 'doonly': 2093, 'door': 2094, 'dory': 2095, 'dos': 2096, 'dosave': 2097, 'dose': 2098, 'double': 2099, 'doubled': 2100, 'doubles': 2101, 'doubling': 2102, 'doubt': 2103, 'doubtless': 2104, 'doubts': 2105, 'dowloads': 2106, 'downgrade': 2107, 'downhill': 2108, 'download': 2109, 'downloaded': 2110, 'downloadi': 2111, 'downloading': 2112, 'downloads': 2113, 'downside': 2114, 'downsjust': 2115, 'downtime': 2116, 'downusing': 2117, 'downwards': 2118, 'doworks': 2119, 'dozen': 2120, 'dozens': 2121, 'drag': 2122, 'dragdrop': 2123, 'dragged': 2124, 'drain': 2125, 'draining': 2126, 'dram': 2127, 'drama': 2128, 'dramatically': 2129, 'drank': 2130, 'drawback': 2131, 'drawbacks': 2132, 'drawer': 2133, 'dreaded': 2134, 'dream': 2135, 'drghd': 2136, 'drgwhd': 2137, 'drgwhdgb': 2138, 'dried': 2139, 'drift': 2140, 'dripping': 2141, 'drive': 2142, 'driveand': 2143, 'driven': 2144, 'driver': 2145, 'drivers': 2146, 'drives': 2147, 'drivesadbut': 2148, 'drivesgreat': 2149, 'drivevery': 2150, 'driveway': 2151, 'driving': 2152, 'droid': 2153, 'droidx': 2154, 'drop': 2155, 'dropbox': 2156, 'droped': 2157, 'dropouts': 2158, 'dropped': 2159, 'dropping': 2160, 'drops': 2161, 'dropsync': 2162, 'drum': 2163, 'dry': 2164, 'dryer': 2165, 'ds': 2166, 'dsctxv': 2167, 'dsd': 2168, 'dsl': 2169, 'dslr': 2170, 'dslrreally': 2171, 'dslrs': 2172, 'dss': 2173, 'dta': 2174, 'dual': 2175, 'dualcore': 2176, 'dud': 2177, 'dude': 2178, 'dudes': 2179, 'duds': 2180, 'due': 2181, 'duh': 2182, 'duly': 2183, 'dumb': 2184, 'dumbfounded': 2185, 'dummy': 2186, 'dump': 2187, 'dumped': 2188, 'dumping': 2189, 'dunk': 2190, 'dunno': 2191, 'duo': 2192, 'duos': 2193, 'duped': 2194, 'durability': 2195, 'durabilityi': 2196, 'durable': 2197, 'durablein': 2198, 'duration': 2199, 'dust': 2200, 'duty': 2201, 'dvd': 2202, 'dvr': 2203, 'dying': 2204, 'dyingone': 2205, 'dynamix': 2206, 'e': 2207, 'ea': 2208, 'earbuds': 2209, 'earlier': 2210, 'earlierit': 2211, 'earliermany': 2212, 'early': 2213, 'earth': 2214, 'earths': 2215, 'ease': 2216, 'easer': 2217, 'easeus': 2218, 'easier': 2219, 'easiest': 2220, 'easily': 2221, 'easilyits': 2222, 'east': 2223, 'easy': 2224, 'easyopen': 2225, 'easytoopen': 2226, 'eat': 2227, 'ebay': 2228, 'ebook': 2229, 'ebooks': 2230, 'eco': 2231, 'ecofriendly': 2232, 'economical': 2233, 'economically': 2234, 'ect': 2235, 'ed': 2236, 'edge': 2237, 'edit': 2238, 'editing': 2239, 'edition': 2240, 'editionhad': 2241, 'editionso': 2242, 'editionthe': 2243, 'editionthese': 2244, 'editionworking': 2245, 'edits': 2246, 'eerie': 2247, 'eery': 2248, 'effective': 2249, 'effectively': 2250, 'effects': 2251, 'efficient': 2252, 'efficientand': 2253, 'effort': 2254, 'effortlessly': 2255, 'eg': 2256, 'ego': 2257, 'eh': 2258, 'either': 2259, 'eitherquite': 2260, 'eject': 2261, 'ejected': 2262, 'ejecting': 2263, 'ejection': 2264, 'ejects': 2265, 'ekgc': 2266, 'el': 2267, 'elago': 2268, 'electret': 2269, 'electric': 2270, 'electrical': 2271, 'electrify': 2272, 'electronic': 2273, 'electronically': 2274, 'electronics': 2275, 'element': 2276, 'elements': 2277, 'eleven': 2278, 'eligibility': 2279, 'eligible': 2280, 'eliminate': 2281, 'eliminated': 2282, 'elite': 2283, 'elph': 2284, 'else': 2285, 'elseas': 2286, 'elsekeep': 2287, 'elses': 2288, 'elseso': 2289, 'elseunsafe': 2290, 'elsewhere': 2291, 'elsewherei': 2292, 'em': 2293, 'email': 2294, 'emailed': 2295, 'emails': 2296, 'embarrassed': 2297, 'embedded': 2298, 'emergency': 2299, 'emmc': 2300, 'emotion': 2301, 'employee': 2302, 'empty': 2303, 'emptymaybe': 2304, 'emulators': 2305, 'en': 2306, 'enable': 2307, 'enabled': 2308, 'enabledsandisks': 2309, 'enables': 2310, 'enabling': 2311, 'enclosure': 2312, 'encounter': 2313, 'encountered': 2314, 'encountering': 2315, 'encryping': 2316, 'encrypt': 2317, 'encrypted': 2318, 'encrypting': 2319, 'encryption': 2320, 'end': 2321, 'ended': 2322, 'endemic': 2323, 'endless': 2324, 'endorsed': 2325, 'endorsement': 2326, 'ends': 2327, 'endured': 2328, 'enemies': 2329, 'engineers': 2330, 'english': 2331, 'englishok': 2332, 'enhanced': 2333, 'enhances': 2334, 'enjoy': 2335, 'enjoyable': 2336, 'enjoyed': 2337, 'enjoying': 2338, 'enjoys': 2339, 'enlarged': 2340, 'enlighten': 2341, 'enormous': 2342, 'enough': 2343, 'enoughdefinitely': 2344, 'enoughgood': 2345, 'enoughhowever': 2346, 'enought': 2347, 'ensure': 2348, 'ensures': 2349, 'entertained': 2350, 'entertainment': 2351, 'enthused': 2352, 'enthusiast': 2353, 'enthusiastsnote': 2354, 'entire': 2355, 'entirely': 2356, 'entirety': 2357, 'entrust': 2358, 'enuf': 2359, 'envelop': 2360, 'envelope': 2361, 'environment': 2362, 'environmentally': 2363, 'environments': 2364, 'environmentsi': 2365, 'envy': 2366, 'envyenjoyps': 2367, 'eoptimums': 2368, 'eos': 2369, 'epad': 2370, 'epic': 2371, 'episodes': 2372, 'epm': 2373, 'eprance': 2374, 'epub': 2375, 'equal': 2376, 'equaled': 2377, 'equaling': 2378, 'equally': 2379, 'equip': 2380, 'equipment': 2381, 'equipped': 2382, 'equiv': 2383, 'equivalent': 2384, 'er': 2385, 'era': 2386, 'erase': 2387, 'erased': 2388, 'erasedeverything': 2389, 'erases': 2390, 'eraseus': 2391, 'erasing': 2392, 'ereader': 2393, 'erratic': 2394, 'erratically': 2395, 'error': 2396, 'errored': 2397, 'errori': 2398, 'errors': 2399, 'errorsa': 2400, 'errorsandisks': 2401, 'errorscons': 2402, 'errorsfaults': 2403, 'errorsi': 2404, 'errorsupdateafter': 2405, 'errorswhat': 2406, 'errorsyou': 2407, 'es': 2408, 'escondido': 2409, 'espand': 2410, 'especially': 2411, 'esperaba': 2412, 'essay': 2413, 'essential': 2414, 'essentially': 2415, 'esta': 2416, 'estate': 2417, 'este': 2418, 'estimate': 2419, 'estimated': 2420, 'estimates': 2421, 'estrarla': 2422, 'et': 2423, 'etc': 2424, 'etcif': 2425, 'etcno': 2426, 'etconly': 2427, 'etcprice': 2428, 'eternal': 2429, 'ethernet': 2430, 'europe': 2431, 'evaluate': 2432, 'evaluation': 2433, 'evaporated': 2434, 'eveerything': 2435, 'even': 2436, 'evening': 2437, 'event': 2438, 'events': 2439, 'eventually': 2440, 'ever': 2441, 'evercaveat': 2442, 'everchanging': 2443, 'everi': 2444, 'everthing': 2445, 'every': 2446, 'everybody': 2447, 'everyday': 2448, 'everyone': 2449, 'everyonedata': 2450, 'everyonequite': 2451, 'everyones': 2452, 'everything': 2453, 'everythingcons': 2454, 'everythingnever': 2455, 'everythingss': 2456, 'everytime': 2457, 'everywhere': 2458, 'eveything': 2459, 'evident': 2460, 'evidently': 2461, 'evil': 2462, 'evo': 2463, 'evolve': 2464, 'evolved': 2465, 'ex': 2466, 'exact': 2467, 'exactly': 2468, 'exaggerated': 2469, 'exaggeration': 2470, 'example': 2471, 'exampleno': 2472, 'examples': 2473, 'excatly': 2474, 'exceeds': 2475, 'excelent': 2476, 'excellence': 2477, 'excellent': 2478, 'excellenti': 2479, 'excellently': 2480, 'excellentnice': 2481, 'excellentpeople': 2482, 'except': 2483, 'excepted': 2484, 'exception': 2485, 'exceptional': 2486, 'exceptionthe': 2487, 'excess': 2488, 'excessive': 2489, 'excessively': 2490, 'exchange': 2491, 'exchanged': 2492, 'exchanges': 2493, 'exchanging': 2494, 'excite': 2495, 'excited': 2496, 'exciting': 2497, 'exclusively': 2498, 'excuse': 2499, 'execute': 2500, 'exercise': 2501, 'exfat': 2502, 'exfatacting': 2503, 'exfatbeing': 2504, 'exfatcompatible': 2505, 'exfatfor': 2506, 'exfatread': 2507, 'exfatso': 2508, 'exfatt': 2509, 'exfatthe': 2510, 'exhausted': 2511, 'exhibit': 2512, 'exist': 2513, 'existbut': 2514, 'existed': 2515, 'existence': 2516, 'existing': 2517, 'exists': 2518, 'existsedit': 2519, 'exp': 2520, 'expand': 2521, 'expandable': 2522, 'expanded': 2523, 'expandedbackup': 2524, 'expandibility': 2525, 'expanding': 2526, 'expands': 2527, 'expansion': 2528, 'expect': 2529, 'expectation': 2530, 'expectations': 2531, 'expectationsotherwise': 2532, 'expected': 2533, 'expectedcrystaldiskmark': 2534, 'expecteddid': 2535, 'expecteddidnt': 2536, 'expectedi': 2537, 'expectedlove': 2538, 'expectedmore': 2539, 'expectedthe': 2540, 'expectedwhile': 2541, 'expecting': 2542, 'expend': 2543, 'expense': 2544, 'expensive': 2545, 'expensivettablet': 2546, 'experia': 2547, 'experience': 2548, 'experienced': 2549, 'experiencei': 2550, 'experiences': 2551, 'experiencing': 2552, 'experiment': 2553, 'experimental': 2554, 'experimented': 2555, 'experiments': 2556, 'expert': 2557, 'expired': 2558, 'explain': 2559, 'explained': 2560, 'explaining': 2561, 'explanation': 2562, 'explanatory': 2563, 'explicit': 2564, 'explicitly': 2565, 'explorer': 2566, 'export': 2567, 'exposed': 2568, 'expounding': 2569, 'express': 2570, 'ext': 2571, 'extend': 2572, 'extended': 2573, 'extends': 2574, 'extension': 2575, 'extensionsive': 2576, 'extensive': 2577, 'extensively': 2578, 'external': 2579, 'extpned': 2580, 'extra': 2581, 'extreamly': 2582, 'extreme': 2583, 'extremely': 2584, 'extremes': 2585, 'extremesandisk': 2586, 'extremly': 2587, 'exxecent': 2588, 'eyefi': 2589, 'eyes': 2590, 'f': 2591, 'fab': 2592, 'fabric': 2593, 'face': 2594, 'facebook': 2595, 'faced': 2596, 'facilitate': 2597, 'facing': 2598, 'fact': 2599, 'factor': 2600, 'factorremember': 2601, 'factors': 2602, 'factory': 2603, 'faculty': 2604, 'fade': 2605, 'fahrenheit': 2606, 'fail': 2607, 'failed': 2608, 'failedi': 2609, 'failedit': 2610, 'failedtowards': 2611, 'failing': 2612, 'fails': 2613, 'failshame': 2614, 'failsthe': 2615, 'failure': 2616, 'failurei': 2617, 'failures': 2618, 'failuresas': 2619, 'fair': 2620, 'fairly': 2621, 'fairness': 2622, 'faith': 2623, 'faithfully': 2624, 'fake': 2625, 'fakecounterfeit': 2626, 'fakes': 2627, 'fakesif': 2628, 'fall': 2629, 'fallen': 2630, 'falling': 2631, 'falls': 2632, 'false': 2633, 'familiar': 2634, 'family': 2635, 'famous': 2636, 'fan': 2637, 'fancier': 2638, 'fancy': 2639, 'fantastic': 2640, 'fantastically': 2641, 'fantastici': 2642, 'fantasticmy': 2643, 'fantasticthere': 2644, 'fanunfortunately': 2645, 'far': 2646, 'faralso': 2647, 'fararrived': 2648, 'faras': 2649, 'farcrystal': 2650, 'fari': 2651, 'farif': 2652, 'farmy': 2653, 'farplenty': 2654, 'farproscheap': 2655, 'farso': 2656, 'farthats': 2657, 'farther': 2658, 'farthis': 2659, 'farupdate': 2660, 'farymmv': 2661, 'faryour': 2662, 'fascinating': 2663, 'fashion': 2664, 'fast': 2665, 'fastaccess': 2666, 'fastcons': 2667, 'fastenough': 2668, 'faster': 2669, 'fastera': 2670, 'fasterbecause': 2671, 'fastermy': 2672, 'fasterso': 2673, 'fasterthe': 2674, 'fastese': 2675, 'fastest': 2676, 'fastestupdate': 2677, 'fasti': 2678, 'fastit': 2679, 'fastitem': 2680, 'fastnow': 2681, 'fastreal': 2682, 'fasttransferring': 2683, 'fastwas': 2684, 'fat': 2685, 'fatfat': 2686, 'fatfile': 2687, 'fatformat': 2688, 'fatformatexe': 2689, 'father': 2690, 'fatherinlaws': 2691, 'fathers': 2692, 'fati': 2693, 'fatlong': 2694, 'fatmy': 2695, 'fatupdate': 2696, 'fault': 2697, 'faultless': 2698, 'faults': 2699, 'faulty': 2700, 'favor': 2701, 'favoris': 2702, 'favorite': 2703, 'fcthe': 2704, 'fear': 2705, 'feature': 2706, 'features': 2707, 'feb': 2708, 'february': 2709, 'fedex': 2710, 'fee': 2711, 'feedback': 2712, 'feeddata': 2713, 'feeding': 2714, 'feeds': 2715, 'feel': 2716, 'feeling': 2717, 'feels': 2718, 'feet': 2719, 'feethde': 2720, 'fell': 2721, 'fellow': 2722, 'fells': 2723, 'felt': 2724, 'fence': 2725, 'fewone': 2726, 'ffast': 2727, 'fhone': 2728, 'fiance': 2729, 'fianceacutee': 2730, 'fiction': 2731, 'fiddle': 2732, 'field': 2733, 'fields': 2734, 'fifteen': 2735, 'fighting': 2736, 'figure': 2737, 'figured': 2738, 'figuring': 2739, 'fiio': 2740, 'fiiox': 2741, 'file': 2742, 'files': 2743, 'filesbut': 2744, 'filesdocs': 2745, 'filesetcon': 2746, 'fileshowever': 2747, 'filesit': 2748, 'filesmusicphotos': 2749, 'filessuddenly': 2750, 'filesushi': 2751, 'filesystem': 2752, 'filesystems': 2753, 'fill': 2754, 'filled': 2755, 'filledturned': 2756, 'filler': 2757, 'filling': 2758, 'fills': 2759, 'film': 2760, 'filmed': 2761, 'filming': 2762, 'films': 2763, 'filter': 2764, 'fin': 2765, 'finagling': 2766, 'final': 2767, 'finally': 2768, 'finaly': 2769, 'fincion': 2770, 'find': 2771, 'finder': 2772, 'finding': 2773, 'finds': 2774, 'fine': 2775, 'finebe': 2776, 'finebottomlinethis': 2777, 'finebought': 2778, 'fined': 2779, 'finei': 2780, 'finerecognized': 2781, 'finerecomended': 2782, 'finevu': 2783, 'finger': 2784, 'fingernail': 2785, 'fingernailsized': 2786, 'fingers': 2787, 'fingertips': 2788, 'finicky': 2789, 'finish': 2790, 'finished': 2791, 'finishes': 2792, 'fire': 2793, 'firmly': 2794, 'firmware': 2795, 'first': 2796, 'firstand': 2797, 'firstly': 2798, 'firsttime': 2799, 'firstwarning': 2800, 'fishing': 2801, 'fishy': 2802, 'fit': 2803, 'fits': 2804, 'fitted': 2805, 'fitting': 2806, 'five': 2807, 'fix': 2808, 'fixany': 2809, 'fixed': 2810, 'fixedgood': 2811, 'fixes': 2812, 'fixing': 2813, 'fixreplace': 2814, 'fizzled': 2815, 'fka': 2816, 'fkang': 2817, 'flac': 2818, 'flagship': 2819, 'flair': 2820, 'flaked': 2821, 'flaky': 2822, 'flash': 2823, 'flashbased': 2824, 'flashcard': 2825, 'flashdrivetestervexe': 2826, 'flashi': 2827, 'flashlight': 2828, 'flat': 2829, 'flaulessly': 2830, 'flaw': 2831, 'flawed': 2832, 'flawless': 2833, 'flawlessfinally': 2834, 'flawlessly': 2835, 'flawlesslyi': 2836, 'flawlesslythen': 2837, 'flawlessplus': 2838, 'flaws': 2839, 'flexibility': 2840, 'flexible': 2841, 'flies': 2842, 'flight': 2843, 'flights': 2844, 'flimsier': 2845, 'flimsy': 2846, 'flip': 2847, 'flipout': 2848, 'flood': 2849, 'floor': 2850, 'floppy': 2851, 'florida': 2852, 'flow': 2853, 'fluctuate': 2854, 'fluctuates': 2855, 'fluid': 2856, 'fluke': 2857, 'fly': 2858, 'flying': 2859, 'fm': 2860, 'focused': 2861, 'fold': 2862, 'folder': 2863, 'folders': 2864, 'folks': 2865, 'follow': 2866, 'followed': 2867, 'following': 2868, 'follows': 2869, 'followssandisksandisk': 2870, 'fomatted': 2871, 'fon': 2872, 'food': 2873, 'fool': 2874, 'fooled': 2875, 'foolproof': 2876, 'foot': 2877, 'footage': 2878, 'forabout': 2879, 'foray': 2880, 'forbid': 2881, 'force': 2882, 'forced': 2883, 'forcing': 2884, 'fore': 2885, 'foresee': 2886, 'foreseeable': 2887, 'forever': 2888, 'forgeries': 2889, 'forget': 2890, 'forgetting': 2891, 'forgive': 2892, 'forgot': 2893, 'forgotten': 2894, 'fori': 2895, 'form': 2896, 'formal': 2897, 'format': 2898, 'formatea': 2899, 'formated': 2900, 'formatedmy': 2901, 'formathaving': 2902, 'formati': 2903, 'formating': 2904, 'formatnote': 2905, 'formats': 2906, 'formattable': 2907, 'formatted': 2908, 'formattedlooked': 2909, 'formatter': 2910, 'formatthe': 2911, 'formatting': 2912, 'forms': 2913, 'forsdxc': 2914, 'forseeable': 2915, 'forsure': 2916, 'forth': 2917, 'fortunately': 2918, 'forum': 2919, 'forums': 2920, 'forward': 2921, 'forwardamazon': 2922, 'forwarding': 2923, 'fosse': 2924, 'fotos': 2925, 'found': 2926, 'four': 2927, 'fourth': 2928, 'fps': 2929, 'fpsits': 2930, 'fr': 2931, 'fraction': 2932, 'frame': 2933, 'frames': 2934, 'francisco': 2935, 'frank': 2936, 'frankly': 2937, 'freak': 2938, 'freaking': 2939, 'freaks': 2940, 'free': 2941, 'freed': 2942, 'freefor': 2943, 'freeing': 2944, 'freeit': 2945, 'frees': 2946, 'freeware': 2947, 'freeze': 2948, 'freezes': 2949, 'freezing': 2950, 'frequency': 2951, 'frequent': 2952, 'frequently': 2953, 'fresh': 2954, 'fri': 2955, 'friction': 2956, 'friday': 2957, 'fried': 2958, 'friend': 2959, 'friendly': 2960, 'friendlybut': 2961, 'friendper': 2962, 'friends': 2963, 'friendsfamily': 2964, 'fristration': 2965, 'fro': 2966, 'frombig': 2967, 'frompnyandpolaroida': 2968, 'front': 2969, 'frontal': 2970, 'froze': 2971, 'frozen': 2972, 'frustrate': 2973, 'frustrated': 2974, 'frustratedfrom': 2975, 'frustrating': 2976, 'frustratingi': 2977, 'frustration': 2978, 'frustrationfree': 2979, 'frustrationfreeif': 2980, 'frustrationi': 2981, 'fsck': 2982, 'ftc': 2983, 'ftp': 2984, 'ftw': 2985, 'fue': 2986, 'fujfiilm': 2987, 'fuji': 2988, 'fulfilled': 2989, 'fulfillment': 2990, 'full': 2991, 'fullfilled': 2992, 'fullgot': 2993, 'fulllength': 2994, 'fullsize': 2995, 'fullsized': 2996, 'fullsizepny': 2997, 'fully': 2998, 'fun': 2999, 'funciana': 3000, 'funciono': 3001, 'function': 3002, 'functional': 3003, 'functionality': 3004, 'functioned': 3005, 'functioni': 3006, 'functioning': 3007, 'functions': 3008, 'functionsits': 3009, 'fungible': 3010, 'funky': 3011, 'funnow': 3012, 'funny': 3013, 'funtions': 3014, 'furniture': 3015, 'fury': 3016, 'fuss': 3017, 'fussi': 3018, 'fussy': 3019, 'futher': 3020, 'futurama': 3021, 'future': 3022, 'futurenothing': 3023, 'futuristic': 3024, 'fuze': 3025, 'fuzzy': 3026, 'fyi': 3027, 'fyithe': 3028, 'fz': 3029, 'g': 3030, 'gadget': 3031, 'gadgets': 3032, 'gain': 3033, 'gaining': 3034, 'gal': 3035, 'galaxie': 3036, 'galaxt': 3037, 'galaxu': 3038, 'galaxy': 3039, 'galaxys': 3040, 'galaxysto': 3041, 'galaxyworks': 3042, 'galexy': 3043, 'gallaxy': 3044, 'gallery': 3045, 'galley': 3046, 'galxy': 3047, 'gamble': 3048, 'gambling': 3049, 'game': 3050, 'gamebest': 3051, 'games': 3052, 'gamesmoviesbooks': 3053, 'gaming': 3054, 'ganked': 3055, 'gap': 3056, 'garbage': 3057, 'garin': 3058, 'garmin': 3059, 'garmins': 3060, 'gate': 3061, 'gauge': 3062, 'gauging': 3063, 'gave': 3064, 'gazillion': 3065, 'gb': 3066, 'gbbut': 3067, 'gbcards': 3068, 'gbdaniel': 3069, 'gbdelivered': 3070, 'gbexcellent': 3071, 'gbfastworks': 3072, 'gbfor': 3073, 'gbgb': 3074, 'gbhave': 3075, 'gbhcconsnone': 3076, 'gbi': 3077, 'gbim': 3078, 'gbnow': 3079, 'gbnoyce': 3080, 'gbplugable': 3081, 'gbprice': 3082, 'gbs': 3083, 'gbt': 3084, 'gbthats': 3085, 'gbthe': 3086, 'gbthis': 3087, 'gbtried': 3088, 'gbupdatedont': 3089, 'gbvery': 3090, 'gbwhen': 3091, 'gbyou': 3092, 'gear': 3093, 'gearing': 3094, 'geat': 3095, 'geek': 3096, 'gem': 3097, 'gems': 3098, 'gen': 3099, 'genders': 3100, 'general': 3101, 'generally': 3102, 'generated': 3103, 'generation': 3104, 'generic': 3105, 'generous': 3106, 'geniune': 3107, 'genius': 3108, 'genres': 3109, 'gently': 3110, 'genuine': 3111, 'genuinely': 3112, 'gerat': 3113, 'gerbil': 3114, 'get': 3115, 'getneed': 3116, 'gets': 3117, 'getting': 3118, 'gettingthanks': 3119, 'gf': 3120, 'gforce': 3121, 'gfrsd': 3122, 'gfs': 3123, 'ghost': 3124, 'ghosts': 3125, 'ghz': 3126, 'giant': 3127, 'gib': 3128, 'gift': 3129, 'giftno': 3130, 'gifts': 3131, 'gig': 3132, 'gigabyte': 3133, 'gigabytes': 3134, 'gigantic': 3135, 'gigas': 3136, 'gigasthank': 3137, 'gigs': 3138, 'gigsno': 3139, 'gigsthis': 3140, 'gigthe': 3141, 'giii': 3142, 'gin': 3143, 'gingerbread': 3144, 'girfriend': 3145, 'girlfriend': 3146, 'girlfriends': 3147, 'girlfriendthe': 3148, 'girls': 3149, 'git': 3150, 'giv': 3151, 'give': 3152, 'given': 3153, 'gives': 3154, 'giving': 3155, 'gizmo': 3156, 'gl': 3157, 'glad': 3158, 'gladly': 3159, 'glass': 3160, 'glasses': 3161, 'glaxy': 3162, 'glide': 3163, 'glideholds': 3164, 'glitch': 3165, 'glitches': 3166, 'glitchim': 3167, 'glitchy': 3168, 'glorify': 3169, 'glowed': 3170, 'glowing': 3171, 'glued': 3172, 'gn': 3173, 'gniis': 3174, 'go': 3175, 'goafter': 3176, 'goal': 3177, 'gocant': 3178, 'god': 3179, 'godsend': 3180, 'goes': 3181, 'goesi': 3182, 'goggled': 3183, 'gogreat': 3184, 'goi': 3185, 'going': 3186, 'goingan': 3187, 'goings': 3188, 'gold': 3189, 'golden': 3190, 'gon': 3191, 'gone': 3192, 'gonei': 3193, 'gonemad': 3194, 'gono': 3195, 'good': 3196, 'goodalmost': 3197, 'goodalso': 3198, 'goodcant': 3199, 'goodies': 3200, 'goodit': 3201, 'goodly': 3202, 'goodmy': 3203, 'goodness': 3204, 'goodon': 3205, 'goodstuff': 3206, 'goodthe': 3207, 'goodupdate': 3208, 'google': 3209, 'googled': 3210, 'googles': 3211, 'googling': 3212, 'goprc': 3213, 'gopro': 3214, 'goprohard': 3215, 'goproits': 3216, 'gopros': 3217, 'goprothis': 3218, 'goprowell': 3219, 'gosh': 3220, 'got': 3221, 'gothis': 3222, 'goto': 3223, 'gotos': 3224, 'gotten': 3225, 'gowish': 3226, 'gp': 3227, 'gpad': 3228, 'gparted': 3229, 'gpe': 3230, 'gpro': 3231, 'gps': 3232, 'gpsmap': 3233, 'gpsr': 3234, 'gpss': 3235, 'grab': 3236, 'grabbed': 3237, 'grabbing': 3238, 'grace': 3239, 'gracious': 3240, 'graciously': 3241, 'grade': 3242, 'grand': 3243, 'granddaughter': 3244, 'grandkids': 3245, 'grandson': 3246, 'grandsons': 3247, 'granted': 3248, 'graphic': 3249, 'graphical': 3250, 'grass': 3251, 'grat': 3252, 'grated': 3253, 'grateful': 3254, 'gratification': 3255, 'gray': 3256, 'great': 3257, 'greatcons': 3258, 'greatdont': 3259, 'greater': 3260, 'greatest': 3261, 'greatfast': 3262, 'greathad': 3263, 'greati': 3264, 'greatif': 3265, 'greatit': 3266, 'greatly': 3267, 'greatnothing': 3268, 'greatreally': 3269, 'greats': 3270, 'greatscanning': 3271, 'greatwho': 3272, 'greedy': 3273, 'green': 3274, 'greengray': 3275, 'grew': 3276, 'grey': 3277, 'grief': 3278, 'grinds': 3279, 'gripe': 3280, 'grips': 3281, 'gropro': 3282, 'ground': 3283, 'groundthe': 3284, 'grow': 3285, 'growing': 3286, 'grown': 3287, 'grows': 3288, 'grpro': 3289, 'gs': 3290, 'gsiii': 3291, 'gsiiis': 3292, 'gskill': 3293, 'gsm': 3294, 'gsnot': 3295, 'gta': 3296, 'gti': 3297, 'gtn': 3298, 'gtp': 3299, 'gtpand': 3300, 'guam': 3301, 'guarantee': 3302, 'guarda': 3303, 'guatemala': 3304, 'guess': 3305, 'guessing': 3306, 'guessinterestingly': 3307, 'guesswill': 3308, 'gui': 3309, 'guide': 3310, 'guidelines': 3311, 'guides': 3312, 'guiformat': 3313, 'guruand': 3314, 'gut': 3315, 'gutenberg': 3316, 'guy': 3317, 'guynote': 3318, 'guys': 3319, 'guysupdateso': 3320, 'gw': 3321, 'gwh': 3322, 'gx': 3323, 'gym': 3324, 'gzone': 3325, 'h': 3326, 'ha': 3327, 'habit': 3328, 'hack': 3329, 'hada': 3330, 'hadanyway': 3331, 'hadnt': 3332, 'hadthe': 3333, 'haha': 3334, 'hahaboht': 3335, 'hahaha': 3336, 'hair': 3337, 'haiti': 3338, 'half': 3339, 'halfs': 3340, 'halo': 3341, 'halt': 3342, 'hand': 3343, 'handbrake': 3344, 'handheld': 3345, 'handhelds': 3346, 'handing': 3347, 'handle': 3348, 'handled': 3349, 'handlerecognize': 3350, 'handles': 3351, 'handling': 3352, 'hands': 3353, 'handy': 3354, 'handythe': 3355, 'hang': 3356, 'hanging': 3357, 'hangs': 3358, 'hangzhou': 3359, 'hanve': 3360, 'happen': 3361, 'happened': 3362, 'happenedthen': 3363, 'happenedtried': 3364, 'happening': 3365, 'happens': 3366, 'happier': 3367, 'happierive': 3368, 'happily': 3369, 'happy': 3370, 'happycons': 3371, 'happyof': 3372, 'happyone': 3373, 'hard': 3374, 'harddrive': 3375, 'harder': 3376, 'hardly': 3377, 'hardpressed': 3378, 'hardware': 3379, 'harmoniouslyalso': 3380, 'hasnt': 3381, 'hassle': 3382, 'hassleno': 3383, 'hassles': 3384, 'hasta': 3385, 'hasthis': 3386, 'hate': 3387, 'havd': 3388, 'havent': 3389, 'havnt': 3390, 'havve': 3391, 'hawaii': 3392, 'hc': 3393, 'hchigh': 3394, 'hct': 3395, 'hd': 3396, 'hdctm': 3397, 'hdd': 3398, 'hdmi': 3399, 'hdr': 3400, 'hdras': 3401, 'hdworks': 3402, 'headache': 3403, 'headaches': 3404, 'headline': 3405, 'headphone': 3406, 'headset': 3407, 'headsup': 3408, 'headunit': 3409, 'heap': 3410, 'hear': 3411, 'heard': 3412, 'heart': 3413, 'heartbeat': 3414, 'heartily': 3415, 'hearts': 3416, 'heat': 3417, 'heats': 3418, 'heavier': 3419, 'heavily': 3420, 'heavy': 3421, 'heck': 3422, 'heed': 3423, 'hefty': 3424, 'held': 3425, 'hell': 3426, 'hello': 3427, 'hellogreat': 3428, 'hellowe': 3429, 'helmet': 3430, 'help': 3431, 'helped': 3432, 'helpful': 3433, 'helpfully': 3434, 'helping': 3435, 'helps': 3436, 'hence': 3437, 'hercules': 3438, 'herecame': 3439, 'hereright': 3440, 'heres': 3441, 'herky': 3442, 'hero': 3443, 'herohd': 3444, 'hes': 3445, 'hesitant': 3446, 'hesitantpast': 3447, 'hesitate': 3448, 'hesitation': 3449, 'hesitations': 3450, 'hey': 3451, 'heyfer': 3452, 'hf': 3453, 'hi': 3454, 'hicap': 3455, 'hiccup': 3456, 'hiccuping': 3457, 'hiccups': 3458, 'hiccupsi': 3459, 'hiccupthe': 3460, 'hickup': 3461, 'hickupi': 3462, 'hickups': 3463, 'hidden': 3464, 'hide': 3465, 'hidef': 3466, 'hiding': 3467, 'high': 3468, 'highdef': 3469, 'highdefinition': 3470, 'highend': 3471, 'higher': 3472, 'highest': 3473, 'highly': 3474, 'highperforming': 3475, 'highquality': 3476, 'highsandisk': 3477, 'highspeed': 3478, 'highway': 3479, 'higjhly': 3480, 'hii': 3481, 'hikvision': 3482, 'hinder': 3483, 'hings': 3484, 'hires': 3485, 'hisense': 3486, 'history': 3487, 'historyinvoices': 3488, 'hit': 3489, 'hitch': 3490, 'hitchi': 3491, 'hitchstill': 3492, 'hits': 3493, 'hitting': 3494, 'hiyohiyocrystal': 3495, 'hjgh': 3496, 'hl': 3497, 'hmc': 3498, 'hmm': 3499, 'hmx': 3500, 'hoarder': 3501, 'hog': 3502, 'hogging': 3503, 'hokey': 3504, 'hold': 3505, 'holder': 3506, 'holderadapter': 3507, 'holderit': 3508, 'holding': 3509, 'holds': 3510, 'hole': 3511, 'holiday': 3512, 'holidays': 3513, 'hologram': 3514, 'home': 3515, 'homemade': 3516, 'homework': 3517, 'honer': 3518, 'honest': 3519, 'honestly': 3520, 'honored': 3521, 'hook': 3522, 'hooked': 3523, 'hooking': 3524, 'hoop': 3525, 'hoops': 3526, 'hoorary': 3527, 'hope': 3528, 'hoped': 3529, 'hopefully': 3530, 'hopelessly': 3531, 'hopes': 3532, 'hoping': 3533, 'hopped': 3534, 'horrible': 3535, 'horribly': 3536, 'horrific': 3537, 'horror': 3538, 'horse': 3539, 'hoses': 3540, 'host': 3541, 'hosting': 3542, 'hot': 3543, 'hotels': 3544, 'hotspot': 3545, 'hotter': 3546, 'hour': 3547, 'houri': 3548, 'hourit': 3549, 'hours': 3550, 'house': 3551, 'housekeeping': 3552, 'houses': 3553, 'hovers': 3554, 'however': 3555, 'howeverits': 3556, 'hp': 3557, 'hpp': 3558, 'hpusbdiskexe': 3559, 'hq': 3560, 'hr': 3561, 'hrhodes': 3562, 'hrmin': 3563, 'hrs': 3564, 'hs': 3565, 'hslti': 3566, 'hss': 3567, 'htc': 3568, 'htestw': 3569, 'htestwexe': 3570, 'httpamzntoigqmvm': 3571, 'httpwwwamazoncomgpproductbkfxiderefohdetailsosiieutfpscits': 3572, 'httpwwwamazoncomkingstonflashmemoryreaderfcrhsdpbydqrefsrieutfqidsrkeywordscardreader': 3573, 'httpwwwamazoncomreviewremaxpnidzdrefcmcdnotfmessageieutfcdforumfxfnzeimhndcdpagecdthreadtxvkcupwnixmxfkeevwiiledaniel': 3574, 'huawei': 3575, 'hub': 3576, 'hubby': 3577, 'hubbys': 3578, 'hubfosmon': 3579, 'huge': 3580, 'hugefiles': 3581, 'hugei': 3582, 'hugely': 3583, 'hulk': 3584, 'humidity': 3585, 'hummer': 3586, 'humming': 3587, 'humongous': 3588, 'hundred': 3589, 'hundreds': 3590, 'hunky': 3591, 'hunting': 3592, 'hurry': 3593, 'hurt': 3594, 'hurts': 3595, 'husband': 3596, 'husbands': 3597, 'hve': 3598, 'hw': 3599, 'hxhcxc': 3600, 'hydei': 3601, 'hyped': 3602, 'ia': 3603, 'iam': 3604, 'ice': 3605, 'icloud': 3606, 'icon': 3607, 'iconia': 3608, 'ics': 3609, 'id': 3610, 'ide': 3611, 'idea': 3612, 'ideal': 3613, 'ideatab': 3614, 'identical': 3615, 'identified': 3616, 'identify': 3617, 'identity': 3618, 'idiot': 3619, 'idiotic': 3620, 'idiots': 3621, 'idk': 3622, 'ie': 3623, 'ifdevzero': 3624, 'ifer': 3625, 'iffy': 3626, 'ignorance': 3627, 'ignore': 3628, 'ignored': 3629, 'igo': 3630, 'ii': 3631, 'iii': 3632, 'iiifit': 3633, 'iiii': 3634, 'iiiit': 3635, 'iiinot': 3636, 'iiis': 3637, 'iin': 3638, 'iirc': 3639, 'iithe': 3640, 'ikam': 3641, 'ill': 3642, 'illadvised': 3643, 'im': 3644, 'imac': 3645, 'image': 3646, 'imagemate': 3647, 'images': 3648, 'imagesthis': 3649, 'imagine': 3650, 'imagined': 3651, 'imaging': 3652, 'img': 3653, 'imho': 3654, 'imitation': 3655, 'imitations': 3656, 'immediate': 3657, 'immediately': 3658, 'immediatelynice': 3659, 'immense': 3660, 'imo': 3661, 'implemented': 3662, 'implied': 3663, 'import': 3664, 'important': 3665, 'importantly': 3666, 'importer': 3667, 'imports': 3668, 'impossible': 3669, 'impress': 3670, 'impressed': 3671, 'impression': 3672, 'impressive': 3673, 'impressivecould': 3674, 'imprinted': 3675, 'improper': 3676, 'improve': 3677, 'improved': 3678, 'improveincrease': 3679, 'improvement': 3680, 'improvements': 3681, 'improvesnot': 3682, 'improving': 3683, 'inability': 3684, 'inaccessible': 3685, 'inaccurate': 3686, 'inadequate': 3687, 'inadvertently': 3688, 'inappropriate': 3689, 'inblu': 3690, 'incapable': 3691, 'incar': 3692, 'incensed': 3693, 'incentive': 3694, 'inch': 3695, 'inchand': 3696, 'inches': 3697, 'incident': 3698, 'incidentso': 3699, 'incl': 3700, 'inclined': 3701, 'include': 3702, 'included': 3703, 'includedrecommended': 3704, 'includes': 3705, 'including': 3706, 'incompatibilities': 3707, 'incompatibility': 3708, 'incompatible': 3709, 'inconsistent': 3710, 'inconvenience': 3711, 'inconvenient': 3712, 'inconveniente': 3713, 'incorrect': 3714, 'incorrectly': 3715, 'increase': 3716, 'increased': 3717, 'increases': 3718, 'increasing': 3719, 'incredible': 3720, 'incredibly': 3721, 'increment': 3722, 'incremented': 3723, 'indeed': 3724, 'indeedthis': 3725, 'indepth': 3726, 'indiana': 3727, 'indicado': 3728, 'indicate': 3729, 'indicated': 3730, 'indicates': 3731, 'indicating': 3732, 'indication': 3733, 'indirectly': 3734, 'individual': 3735, 'industry': 3736, 'industrys': 3737, 'inevitable': 3738, 'inevitably': 3739, 'inew': 3740, 'inexcusable': 3741, 'inexpensive': 3742, 'inexpensivly': 3743, 'inexplicably': 3744, 'inferior': 3745, 'infinity': 3746, 'infinty': 3747, 'inflated': 3748, 'inflationthis': 3749, 'info': 3750, 'infomation': 3751, 'inform': 3752, 'informal': 3753, 'information': 3754, 'informationmedia': 3755, 'informationthe': 3756, 'informs': 3757, 'inhaling': 3758, 'inherent': 3759, 'ini': 3760, 'init': 3761, 'initial': 3762, 'initialize': 3763, 'initialized': 3764, 'initially': 3765, 'initiallyamazon': 3766, 'ink': 3767, 'inland': 3768, 'inlexington': 3769, 'inluckily': 3770, 'inmotorola': 3771, 'innards': 3772, 'innovating': 3773, 'innovation': 3774, 'input': 3775, 'insamsung': 3776, 'insane': 3777, 'insert': 3778, 'inserted': 3779, 'inserting': 3780, 'insertremove': 3781, 'inside': 3782, 'insides': 3783, 'insist': 3784, 'inspire': 3785, 'inspiringas': 3786, 'instability': 3787, 'instala': 3788, 'install': 3789, 'installation': 3790, 'installationlol': 3791, 'installations': 3792, 'installed': 3793, 'installing': 3794, 'installingusing': 3795, 'installs': 3796, 'instance': 3797, 'instances': 3798, 'instant': 3799, 'instantaneous': 3800, 'instantaneously': 3801, 'instantly': 3802, 'instead': 3803, 'instert': 3804, 'instore': 3805, 'instructed': 3806, 'instruction': 3807, 'instructional': 3808, 'instructions': 3809, 'instructionsand': 3810, 'insufficient': 3811, 'insurance': 3812, 'insures': 3813, 'intact': 3814, 'integrated': 3815, 'integrity': 3816, 'intel': 3817, 'intend': 3818, 'intended': 3819, 'intendedcomes': 3820, 'intense': 3821, 'intensive': 3822, 'intent': 3823, 'intention': 3824, 'intentionally': 3825, 'intents': 3826, 'interacting': 3827, 'interaction': 3828, 'interchange': 3829, 'interchangeable': 3830, 'interest': 3831, 'interested': 3832, 'interestedthe': 3833, 'interesting': 3834, 'interface': 3835, 'interfaces': 3836, 'interfacing': 3837, 'intergrated': 3838, 'intermediate': 3839, 'intermittent': 3840, 'intermittently': 3841, 'internal': 3842, 'internally': 3843, 'international': 3844, 'internationally': 3845, 'internet': 3846, 'interruptions': 3847, 'interupting': 3848, 'interval': 3849, 'intially': 3850, 'introduced': 3851, 'intrusion': 3852, 'invaluableso': 3853, 'invented': 3854, 'invention': 3855, 'inventory': 3856, 'investigate': 3857, 'investigation': 3858, 'investing': 3859, 'investment': 3860, 'invisible': 3861, 'invoice': 3862, 'involve': 3863, 'involved': 3864, 'involving': 3865, 'io': 3866, 'iogear': 3867, 'iops': 3868, 'iopscompared': 3869, 'iopsrandom': 3870, 'iopstest': 3871, 'ios': 3872, 'iostat': 3873, 'ip': 3874, 'ipad': 3875, 'ipads': 3876, 'iphomes': 3877, 'iphone': 3878, 'iphoneipad': 3879, 'iphonelolyou': 3880, 'iphones': 3881, 'iplication': 3882, 'ipod': 3883, 'iproduct': 3884, 'ips': 3885, 'ir': 3886, 'ironed': 3887, 'irresistible': 3888, 'irritated': 3889, 'iscombine': 3890, 'ish': 3891, 'isi': 3892, 'island': 3893, 'isnt': 3894, 'isolated': 3895, 'issue': 3896, 'issued': 3897, 'issuefinally': 3898, 'issuei': 3899, 'issueif': 3900, 'issueon': 3901, 'issues': 3902, 'issuesas': 3903, 'issuesbitlocker': 3904, 'issuesexactly': 3905, 'issueshavent': 3906, 'issuesi': 3907, 'issuesmy': 3908, 'issuesnot': 3909, 'issuesokay': 3910, 'issuesoverall': 3911, 'issuesrelated': 3912, 'issuesthe': 3913, 'issueswhile': 3914, 'issuethe': 3915, 'issueupdate': 3916, 'issuing': 3917, 'isy': 3918, 'isyncr': 3919, 'itacknowledge': 3920, 'itafter': 3921, 'itcomputer': 3922, 'itd': 3923, 'itdoing': 3924, 'item': 3925, 'itemgreat': 3926, 'itemi': 3927, 'items': 3928, 'itemso': 3929, 'itemssandisk': 3930, 'itexcellent': 3931, 'itfor': 3932, 'itformatting': 3933, 'itfrom': 3934, 'itget': 3935, 'itgreat': 3936, 'ithighly': 3937, 'iti': 3938, 'itif': 3939, 'itin': 3940, 'itis': 3941, 'itit': 3942, 'itits': 3943, 'itjrroadrunner': 3944, 'itjust': 3945, 'itll': 3946, 'itlove': 3947, 'itmany': 3948, 'itmy': 3949, 'itndelivers': 3950, 'itno': 3951, 'itnota': 3952, 'itnow': 3953, 'itone': 3954, 'itonly': 3955, 'itoverall': 3956, 'itpass': 3957, 'itprice': 3958, 'itpurchase': 3959, 'itsecond': 3960, 'itselflike': 3961, 'itselfrecommend': 3962, 'itseriously': 3963, 'itso': 3964, 'itthank': 3965, 'itthanks': 3966, 'itthe': 3967, 'ittheir': 3968, 'itthis': 3969, 'itto': 3970, 'ittried': 3971, 'itty': 3972, 'itunes': 3973, 'itwith': 3974, 'itworks': 3975, 'itwould': 3976, 'ityes': 3977, 'iv': 3978, 'ive': 3979, 'iwith': 3980, 'j': 3981, 'jamed': 3982, 'january': 3983, 'jar': 3984, 'jb': 3985, 'jcn': 3986, 'jeez': 3987, 'jelly': 3988, 'jellybean': 3989, 'jeopardize': 3990, 'jerk': 3991, 'jerky': 3992, 'jetski': 3993, 'jim': 3994, 'jinx': 3995, 'jk': 3996, 'job': 3997, 'jones': 3998, 'joy': 3999, 'jpeg': 4000, 'jpegraw': 4001, 'jpegs': 4002, 'jpg': 4003, 'jrocpueclkjelly': 4004, 'judge': 4005, 'judgement': 4006, 'judgment': 4007, 'jukebox': 4008, 'jumble': 4009, 'jump': 4010, 'jumped': 4011, 'jumping': 4012, 'jumps': 4013, 'june': 4014, 'junior': 4015, 'junk': 4016, 'junkie': 4017, 'junkieand': 4018, 'junkies': 4019, 'justification': 4020, 'justified': 4021, 'justreleased': 4022, 'juvenile': 4023, 'k': 4024, 'kart': 4025, 'kayaking': 4026, 'kb': 4027, 'kband': 4028, 'kbit': 4029, 'kbps': 4030, 'kbpsgb': 4031, 'kbs': 4032, 'kbytes': 4033, 'kbytesecsize': 4034, 'keep': 4035, 'keepiacuteng': 4036, 'keeping': 4037, 'keeps': 4038, 'kept': 4039, 'kernel': 4040, 'kernels': 4041, 'key': 4042, 'keyboard': 4043, 'keychain': 4044, 'keys': 4045, 'keywords': 4046, 'khzbit': 4047, 'kick': 4048, 'kickbutt': 4049, 'kicked': 4050, 'kicker': 4051, 'kicking': 4052, 'kicks': 4053, 'kid': 4054, 'kidding': 4055, 'kids': 4056, 'kidsno': 4057, 'kies': 4058, 'kill': 4059, 'killer': 4060, 'kind': 4061, 'kinda': 4062, 'kindhighly': 4063, 'kindle': 4064, 'kindles': 4065, 'kinds': 4066, 'kingston': 4067, 'kingstoncrystaldiskmark': 4068, 'kingstons': 4069, 'kit': 4070, 'kitchen': 4071, 'kitkat': 4072, 'kitten': 4073, 'knew': 4074, 'knife': 4075, 'knitting': 4076, 'knock': 4077, 'knockoff': 4078, 'knocks': 4079, 'know': 4080, 'knowing': 4081, 'knowledge': 4082, 'knowledgeable': 4083, 'known': 4084, 'knows': 4085, 'knowsfor': 4086, 'knowsi': 4087, 'knowsthey': 4088, 'kodak': 4089, 'komputerbay': 4090, 'korea': 4091, 'kread': 4092, 'kudos': 4093, 'kumar': 4094, 'kwpould': 4095, 'kyocera': 4096, 'kyros': 4097, 'kythe': 4098, 'l': 4099, 'la': 4100, 'lab': 4101, 'label': 4102, 'labeled': 4103, 'labeling': 4104, 'labelingpackaging': 4105, 'labelof': 4106, 'lack': 4107, 'lacking': 4108, 'ladies': 4109, 'lag': 4110, 'lagging': 4111, 'lags': 4112, 'lakes': 4113, 'lamp': 4114, 'lan': 4115, 'land': 4116, 'landfills': 4117, 'landlord': 4118, 'lap': 4119, 'lapse': 4120, 'lapses': 4121, 'laptop': 4122, 'laptopactually': 4123, 'laptopcopy': 4124, 'laptopgoogled': 4125, 'laptopi': 4126, 'laptops': 4127, 'laptopspcs': 4128, 'laptopsthe': 4129, 'laptoptablet': 4130, 'laptoptransfer': 4131, 'large': 4132, 'largely': 4133, 'larger': 4134, 'largeryou': 4135, 'largest': 4136, 'last': 4137, 'lasted': 4138, 'lasting': 4139, 'lastonly': 4140, 'lastrefund': 4141, 'lasts': 4142, 'latching': 4143, 'late': 4144, 'lately': 4145, 'later': 4146, 'laterbe': 4147, 'latest': 4148, 'latestgreatest': 4149, 'latter': 4150, 'laughable': 4151, 'laughably': 4152, 'laughed': 4153, 'launch': 4154, 'launcher': 4155, 'launching': 4156, 'law': 4157, 'lawn': 4158, 'lay': 4159, 'laying': 4160, 'laymans': 4161, 'laziness': 4162, 'lazy': 4163, 'lc': 4164, 'le': 4165, 'lead': 4166, 'leader': 4167, 'leaders': 4168, 'leading': 4169, 'leap': 4170, 'learn': 4171, 'learned': 4172, 'learning': 4173, 'least': 4174, 'leastmy': 4175, 'leastprosphone': 4176, 'leats': 4177, 'leave': 4178, 'leaves': 4179, 'leaving': 4180, 'led': 4181, 'leery': 4182, 'left': 4183, 'leftvery': 4184, 'leftworks': 4185, 'legacy': 4186, 'legcomes': 4187, 'legend': 4188, 'legit': 4189, 'legitimate': 4190, 'lemon': 4191, 'lemonbut': 4192, 'length': 4193, 'lengthy': 4194, 'lenovo': 4195, 'lenovos': 4196, 'lens': 4197, 'less': 4198, 'lesscopied': 4199, 'lesser': 4200, 'lesson': 4201, 'lessthats': 4202, 'let': 4203, 'lets': 4204, 'letting': 4205, 'level': 4206, 'leveli': 4207, 'lever': 4208, 'leverage': 4209, 'lexar': 4210, 'lexars': 4211, 'lg': 4212, 'lhb': 4213, 'libraries': 4214, 'library': 4215, 'licensing': 4216, 'lie': 4217, 'lies': 4218, 'liesi': 4219, 'lieu': 4220, 'life': 4221, 'lifefast': 4222, 'lifes': 4223, 'lifetime': 4224, 'lighning': 4225, 'light': 4226, 'lightconditions': 4227, 'lighter': 4228, 'lighting': 4229, 'lightning': 4230, 'lightweight': 4231, 'like': 4232, 'liked': 4233, 'likeexcept': 4234, 'likely': 4235, 'likerecommend': 4236, 'likes': 4237, 'likewise': 4238, 'liking': 4239, 'lil': 4240, 'limit': 4241, 'limitation': 4242, 'limitations': 4243, 'limited': 4244, 'limitenjoy': 4245, 'limitless': 4246, 'limits': 4247, 'limting': 4248, 'line': 4249, 'lineafter': 4250, 'linear': 4251, 'lineas': 4252, 'linedont': 4253, 'lineneed': 4254, 'lines': 4255, 'linethis': 4256, 'lineup': 4257, 'link': 4258, 'links': 4259, 'linksd': 4260, 'linkthe': 4261, 'linux': 4262, 'linuxunix': 4263, 'lip': 4264, 'liquid': 4265, 'liquidsmooth': 4266, 'list': 4267, 'listed': 4268, 'listen': 4269, 'listener': 4270, 'listening': 4271, 'listing': 4272, 'listo': 4273, 'lists': 4274, 'literally': 4275, 'literallythe': 4276, 'little': 4277, 'live': 4278, 'lived': 4279, 'lives': 4280, 'living': 4281, 'llego': 4282, 'lo': 4283, 'load': 4284, 'loaded': 4285, 'loadedcompatible': 4286, 'loading': 4287, 'loads': 4288, 'loadstill': 4289, 'local': 4290, 'locally': 4291, 'locallyconsnone': 4292, 'locate': 4293, 'located': 4294, 'location': 4295, 'locations': 4296, 'lock': 4297, 'locked': 4298, 'locking': 4299, 'locks': 4300, 'lockunlock': 4301, 'logged': 4302, 'logging': 4303, 'logically': 4304, 'logitech': 4305, 'logo': 4306, 'lol': 4307, 'lolalthough': 4308, 'lolfer': 4309, 'lolhighly': 4310, 'long': 4311, 'longer': 4312, 'longeroriginal': 4313, 'longevity': 4314, 'longevitylast': 4315, 'longing': 4316, 'longstanding': 4317, 'longterm': 4318, 'longtime': 4319, 'look': 4320, 'looked': 4321, 'looking': 4322, 'looks': 4323, 'looney': 4324, 'loop': 4325, 'looping': 4326, 'loops': 4327, 'loose': 4328, 'loosehowever': 4329, 'looses': 4330, 'looseupdate': 4331, 'loosing': 4332, 'lose': 4333, 'loseconsits': 4334, 'losehave': 4335, 'losei': 4336, 'loses': 4337, 'losing': 4338, 'loss': 4339, 'losses': 4340, 'lossing': 4341, 'lossless': 4342, 'lossplaced': 4343, 'lost': 4344, 'lostdir': 4345, 'lot': 4346, 'lots': 4347, 'lotsa': 4348, 'lousy': 4349, 'love': 4350, 'loved': 4351, 'lovely': 4352, 'lover': 4353, 'lovers': 4354, 'loves': 4355, 'loving': 4356, 'low': 4357, 'lowdown': 4358, 'lowend': 4359, 'lower': 4360, 'lowered': 4361, 'lowest': 4362, 'lowlevel': 4363, 'lse': 4364, 'lsw': 4365, 'ltd': 4366, 'lte': 4367, 'lts': 4368, 'luck': 4369, 'luckbtw': 4370, 'luckily': 4371, 'lucky': 4372, 'luckyseems': 4373, 'luckythe': 4374, 'lucrative': 4375, 'luggage': 4376, 'lumia': 4377, 'lumina': 4378, 'lumix': 4379, 'luxury': 4380, 'lwith': 4381, 'lying': 4382, 'lynx': 4383, 'mac': 4384, 'macbook': 4385, 'machine': 4386, 'machines': 4387, 'macosnot': 4388, 'macro': 4389, 'mad': 4390, 'made': 4391, 'magazines': 4392, 'magic': 4393, 'magically': 4394, 'magiccomputerfixing': 4395, 'magiclantern': 4396, 'magnetproof': 4397, 'magnetshow': 4398, 'magnifying': 4399, 'maiden': 4400, 'mail': 4401, 'mailbox': 4402, 'mailed': 4403, 'mailing': 4404, 'main': 4405, 'mainly': 4406, 'maintaining': 4407, 'maintenance': 4408, 'major': 4409, 'majority': 4410, 'make': 4411, 'makers': 4412, 'makersthe': 4413, 'makes': 4414, 'making': 4415, 'mal': 4416, 'maleness': 4417, 'malfunction': 4418, 'malfunctions': 4419, 'man': 4420, 'manage': 4421, 'managed': 4422, 'management': 4423, 'managementthe': 4424, 'manager': 4425, 'managment': 4426, 'manga': 4427, 'mani': 4428, 'manipulate': 4429, 'manner': 4430, 'mans': 4431, 'manual': 4432, 'manually': 4433, 'manuals': 4434, 'manualwarranty': 4435, 'manufacture': 4436, 'manufactured': 4437, 'manufacturer': 4438, 'manufacturers': 4439, 'manufactures': 4440, 'manufacturing': 4441, 'many': 4442, 'map': 4443, 'mapping': 4444, 'maps': 4445, 'marca': 4446, 'march': 4447, 'marginal': 4448, 'mark': 4449, 'markand': 4450, 'marked': 4451, 'marker': 4452, 'market': 4453, 'marketing': 4454, 'markets': 4455, 'marking': 4456, 'markseqread': 4457, 'marquee': 4458, 'marry': 4459, 'marvel': 4460, 'marvelous': 4461, 'mas': 4462, 'masochists': 4463, 'mass': 4464, 'massive': 4465, 'master': 4466, 'match': 4467, 'matched': 4468, 'matches': 4469, 'matching': 4470, 'material': 4471, 'materials': 4472, 'matic': 4473, 'matt': 4474, 'matter': 4475, 'matters': 4476, 'max': 4477, 'maxed': 4478, 'maxell': 4479, 'maxes': 4480, 'maximize': 4481, 'maximum': 4482, 'maxing': 4483, 'maxput': 4484, 'maxs': 4485, 'maxx': 4486, 'may': 4487, 'mayan': 4488, 'maybe': 4489, 'maybeafter': 4490, 'mb': 4491, 'mband': 4492, 'mbimage': 4493, 'mbit': 4494, 'mbits': 4495, 'mbmsbgakrto': 4496, 'mbp': 4497, 'mbps': 4498, 'mbs': 4499, 'mbsbuy': 4500, 'mbscant': 4501, 'mbsec': 4502, 'mbseci': 4503, 'mbsecthe': 4504, 'mbsfer': 4505, 'mbsgb': 4506, 'mbsmaxell': 4507, 'mbsmeanwhile': 4508, 'mbsrandom': 4509, 'mbsread': 4510, 'mbsresults': 4511, 'mbssequential': 4512, 'mbsthe': 4513, 'mbstried': 4514, 'mbsusing': 4515, 'mbswith': 4516, 'mbswrite': 4517, 'mbthat': 4518, 'mbut': 4519, 'mbyte': 4520, 'mbyteshtestw': 4521, 'mbytesreading': 4522, 'mccoy': 4523, 'md': 4524, 'mdmory': 4525, 'meager': 4526, 'mean': 4527, 'meaning': 4528, 'means': 4529, 'meant': 4530, 'meanwhile': 4531, 'measure': 4532, 'measured': 4533, 'measurements': 4534, 'measures': 4535, 'measuring': 4536, 'meaty': 4537, 'mec': 4538, 'mechanical': 4539, 'mechanically': 4540, 'medecided': 4541, 'media': 4542, 'mediamonkey': 4543, 'mediamusic': 4544, 'mediocre': 4545, 'meenova': 4546, 'meep': 4547, 'meeps': 4548, 'meet': 4549, 'meeting': 4550, 'meets': 4551, 'meg': 4552, 'mega': 4553, 'megabyte': 4554, 'megabytes': 4555, 'megabytethis': 4556, 'megapixel': 4557, 'megapixels': 4558, 'megs': 4559, 'megsec': 4560, 'meh': 4561, 'mei': 4562, 'meid': 4563, 'melted': 4564, 'mem': 4565, 'member': 4566, 'members': 4567, 'memberwe': 4568, 'memery': 4569, 'memo': 4570, 'memoacuterias': 4571, 'memopad': 4572, 'memor': 4573, 'memoria': 4574, 'memories': 4575, 'memorka': 4576, 'memory': 4577, 'memorycard': 4578, 'memoryclass': 4579, 'memoryfor': 4580, 'memoryif': 4581, 'memoryintensive': 4582, 'memorynote': 4583, 'memoryplug': 4584, 'memorysandisk': 4585, 'memoryseems': 4586, 'memoryvery': 4587, 'memorywas': 4588, 'memorywhiz': 4589, 'memoryzone': 4590, 'memos': 4591, 'menot': 4592, 'mention': 4593, 'mentioned': 4594, 'mentions': 4595, 'menu': 4596, 'meory': 4597, 'meow': 4598, 'mere': 4599, 'merely': 4600, 'merges': 4601, 'merrilypaying': 4602, 'merry': 4603, 'mess': 4604, 'message': 4605, 'messages': 4606, 'messageupdatei': 4607, 'messed': 4608, 'messing': 4609, 'met': 4610, 'metabl': 4611, 'metal': 4612, 'metaldo': 4613, 'metallic': 4614, 'methe': 4615, 'method': 4616, 'methods': 4617, 'metric': 4618, 'meupdate': 4619, 'meve': 4620, 'mex': 4621, 'mexico': 4622, 'mfgrs': 4623, 'mhz': 4624, 'mi': 4625, 'micosdxc': 4626, 'micro': 4627, 'microcard': 4628, 'microcenter': 4629, 'microdata': 4630, 'microdisk': 4631, 'microhd': 4632, 'microminiture': 4633, 'microness': 4634, 'microphone': 4635, 'microphones': 4636, 'micros': 4637, 'microschc': 4638, 'microsd': 4639, 'microsdanyway': 4640, 'microsdhc': 4641, 'microsdhconly': 4642, 'microsdhcs': 4643, 'microsdhcthere': 4644, 'microsds': 4645, 'microsdtosd': 4646, 'microsdusb': 4647, 'microsdxc': 4648, 'microsdxcs': 4649, 'microsoft': 4650, 'microsoftcom': 4651, 'microsoftcomthanks': 4652, 'microusb': 4653, 'micrsddont': 4654, 'micrsdhc': 4655, 'mid': 4656, 'middle': 4657, 'midland': 4658, 'might': 4659, 'mighty': 4660, 'migrate': 4661, 'migrated': 4662, 'mileage': 4663, 'miles': 4664, 'million': 4665, 'millions': 4666, 'millisecond': 4667, 'milliseconds': 4668, 'mimi': 4669, 'min': 4670, 'mind': 4671, 'mindalso': 4672, 'minded': 4673, 'mindfart': 4674, 'mine': 4675, 'minhas': 4676, 'mini': 4677, 'miniaturization': 4678, 'minicamcorder': 4679, 'minidrive': 4680, 'minimal': 4681, 'minimize': 4682, 'minimum': 4683, 'minitool': 4684, 'minitools': 4685, 'minor': 4686, 'mins': 4687, 'minus': 4688, 'minute': 4689, 'minutes': 4690, 'minutescombine': 4691, 'minutesone': 4692, 'minutesusing': 4693, 'mio': 4694, 'mircosd': 4695, 'mirosd': 4696, 'miser': 4697, 'misinformation': 4698, 'mislabeled': 4699, 'misleading': 4700, 'misplace': 4701, 'misplaced': 4702, 'miss': 4703, 'missed': 4704, 'missing': 4705, 'mission': 4706, 'misstate': 4707, 'mistake': 4708, 'mistaken': 4709, 'mistakenly': 4710, 'mistakethis': 4711, 'misuse': 4712, 'mix': 4713, 'mixed': 4714, 'mk': 4715, 'mkv': 4716, 'mmc': 4717, 'mntextsdcardmusic': 4718, 'mo': 4719, 'mobi': 4720, 'mobil': 4721, 'mobile': 4722, 'mobiledelivery': 4723, 'mobilemate': 4724, 'mobiletabletpcs': 4725, 'mobileversion': 4726, 'mobius': 4727, 'moble': 4728, 'moblie': 4729, 'mobo': 4730, 'mod': 4731, 'mode': 4732, 'model': 4733, 'modeli': 4734, 'modelit': 4735, 'models': 4736, 'modenote': 4737, 'moderate': 4738, 'moderity': 4739, 'modern': 4740, 'modes': 4741, 'modest': 4742, 'modified': 4743, 'modify': 4744, 'module': 4745, 'modules': 4746, 'mofia': 4747, 'mogul': 4748, 'moist': 4749, 'mom': 4750, 'moment': 4751, 'momentary': 4752, 'momentfer': 4753, 'momentgreat': 4754, 'momento': 4755, 'moments': 4756, 'moms': 4757, 'monday': 4758, 'money': 4759, 'moneyit': 4760, 'moneyps': 4761, 'moneys': 4762, 'monitorso': 4763, 'monkeys': 4764, 'monster': 4765, 'montana': 4766, 'month': 4767, 'months': 4768, 'monthsa': 4769, 'monthsgo': 4770, 'monthsi': 4771, 'monthslost': 4772, 'monthsthe': 4773, 'monthsthis': 4774, 'mood': 4775, 'moores': 4776, 'moot': 4777, 'morebillh': 4778, 'moreclass': 4779, 'morecost': 4780, 'moreedit': 4781, 'morei': 4782, 'morethere': 4783, 'morgan': 4784, 'morning': 4785, 'morningnormally': 4786, 'morningthe': 4787, 'morrow': 4788, 'mortar': 4789, 'mostly': 4790, 'mother': 4791, 'motherboard': 4792, 'motherboardetc': 4793, 'motherboards': 4794, 'mothers': 4795, 'motion': 4796, 'motivation': 4797, 'moto': 4798, 'motorola': 4799, 'motorolla': 4800, 'mount': 4801, 'mounted': 4802, 'mounti': 4803, 'mounting': 4804, 'mounts': 4805, 'move': 4806, 'moved': 4807, 'movement': 4808, 'movementdefinitely': 4809, 'moveresize': 4810, 'moves': 4811, 'movie': 4812, 'movies': 4813, 'moviescustomer': 4814, 'moviesmpsand': 4815, 'moviesmusic': 4816, 'movieson': 4817, 'moviesthis': 4818, 'moving': 4819, 'mowing': 4820, 'mp': 4821, 'mpg': 4822, 'mps': 4823, 'ms': 4824, 'msata': 4825, 'msd': 4826, 'msec': 4827, 'mth': 4828, 'mtp': 4829, 'mu': 4830, 'much': 4831, 'muchneeded': 4832, 'mucho': 4833, 'muchthis': 4834, 'multi': 4835, 'multicard': 4836, 'multimedia': 4837, 'multiple': 4838, 'multiples': 4839, 'multishot': 4840, 'multitasking': 4841, 'mush': 4842, 'music': 4843, 'musicdefinitaly': 4844, 'musice': 4845, 'musicfast': 4846, 'musicmoviesapps': 4847, 'musicplays': 4848, 'musics': 4849, 'musicthe': 4850, 'musictuesday': 4851, 'musicvideopictures': 4852, 'musicworks': 4853, 'muss': 4854, 'must': 4855, 'mustgb': 4856, 'muuuch': 4857, 'muy': 4858, 'mybarnes': 4859, 'myexcellent': 4860, 'mygopro': 4861, 'mymedia': 4862, 'mysamsung': 4863, 'mysony': 4864, 'mysterious': 4865, 'mysteriously': 4866, 'mytouch': 4867, 'n': 4868, 'na': 4869, 'nabi': 4870, 'nada': 4871, 'nafter': 4872, 'nail': 4873, 'nails': 4874, 'name': 4875, 'namebrand': 4876, 'names': 4877, 'naming': 4878, 'nandroid': 4879, 'nano': 4880, 'narry': 4881, 'nasty': 4882, 'native': 4883, 'natively': 4884, 'naturally': 4885, 'nature': 4886, 'nbd': 4887, 'nd': 4888, 'ndmost': 4889, 'near': 4890, 'nearflush': 4891, 'nearly': 4892, 'nears': 4893, 'neat': 4894, 'neatconsidering': 4895, 'neatly': 4896, 'necessarily': 4897, 'necessary': 4898, 'necessitated': 4899, 'necessity': 4900, 'neded': 4901, 'need': 4902, 'needed': 4903, 'neededhighly': 4904, 'neededit': 4905, 'neededtook': 4906, 'neededwanted': 4907, 'neededworks': 4908, 'needing': 4909, 'needle': 4910, 'needless': 4911, 'needlessly': 4912, 'needplenty': 4913, 'needs': 4914, 'needsi': 4915, 'needy': 4916, 'negative': 4917, 'negatives': 4918, 'neglected': 4919, 'neither': 4920, 'nekkid': 4921, 'nephew': 4922, 'nephews': 4923, 'nerd': 4924, 'nestled': 4925, 'net': 4926, 'netbook': 4927, 'netbooks': 4928, 'network': 4929, 'never': 4930, 'nevertheless': 4931, 'nevery': 4932, 'new': 4933, 'newbees': 4934, 'newegg': 4935, 'neweggcom': 4936, 'newer': 4937, 'newest': 4938, 'newly': 4939, 'news': 4940, 'nex': 4941, 'nexn': 4942, 'next': 4943, 'nextbook': 4944, 'nextboox': 4945, 'nexus': 4946, 'nice': 4947, 'nicealmost': 4948, 'nicely': 4949, 'nicelyas': 4950, 'nicelymade': 4951, 'niceseemed': 4952, 'nicethe': 4953, 'nicetohave': 4954, 'nick': 4955, 'niece': 4956, 'nifty': 4957, 'night': 4958, 'nightly': 4959, 'nights': 4960, 'nikon': 4961, 'nine': 4962, 'ninguacuten': 4963, 'nit': 4964, 'nitpick': 4965, 'nitpicky': 4966, 'nl': 4967, 'nlee': 4968, 'nmicro': 4969, 'noble': 4970, 'nobodies': 4971, 'nobody': 4972, 'nobrainer': 4973, 'nock': 4974, 'nocontract': 4975, 'noe': 4976, 'nogothis': 4977, 'noiseisolating': 4978, 'nokia': 4979, 'non': 4980, 'noname': 4981, 'nonamebrand': 4982, 'nonapple': 4983, 'nondslrthese': 4984, 'none': 4985, 'noneputting': 4986, 'nonetheless': 4987, 'nonexistent': 4988, 'nonexpandable': 4989, 'nonfunctional': 4990, 'nonlightning': 4991, 'nonnumeric': 4992, 'nonphone': 4993, 'nonsdxccompatible': 4994, 'nonsense': 4995, 'nonsmart': 4996, 'nonstop': 4997, 'nontechno': 4998, 'nonultra': 4999, 'nonvolatile': 5000, 'nook': 5001, 'nooks': 5002, 'noone': 5003, 'noproblem': 5004, 'norm': 5005, 'normal': 5006, 'normally': 5007, 'north': 5008, 'norton': 5009, 'nose': 5010, 'notable': 5011, 'notch': 5012, 'note': 5013, 'notebook': 5014, 'noted': 5015, 'notes': 5016, 'noteupdate': 5017, 'notewith': 5018, 'nothing': 5019, 'nothingmy': 5020, 'notice': 5021, 'noticeable': 5022, 'noticeably': 5023, 'noticed': 5024, 'noticesb': 5025, 'noticible': 5026, 'noticing': 5027, 'notif': 5028, 'notification': 5029, 'notificationi': 5030, 'notifications': 5031, 'notify': 5032, 'noting': 5033, 'notlater': 5034, 'notthe': 5035, 'notwhen': 5036, 'nov': 5037, 'nova': 5038, 'novelsmangamanwhabooks': 5039, 'november': 5040, 'novice': 5041, 'nowadays': 5042, 'nowhere': 5043, 'nowmake': 5044, 'nowp': 5045, 'nowthanks': 5046, 'nowwell': 5047, 'nowwhen': 5048, 'nsfs': 5049, 'ntfs': 5050, 'ntfsloaded': 5051, 'ntfsread': 5052, 'ntfsusing': 5053, 'ntfsvery': 5054, 'ntsf': 5055, 'ntsfat': 5056, 'nueva': 5057, 'nuff': 5058, 'nuisance': 5059, 'number': 5060, 'numbered': 5061, 'numbers': 5062, 'numbersvery': 5063, 'numerical': 5064, 'numero': 5065, 'numerous': 5066, 'nuvo': 5067, 'nvidia': 5068, 'ny': 5069, 'nyc': 5070, 'nylon': 5071, 'observable': 5072, 'observations': 5073, 'observed': 5074, 'obsolete': 5075, 'obtainingrom': 5076, 'obvious': 5077, 'obviously': 5078, 'ocassionally': 5079, 'occasional': 5080, 'occasionally': 5081, 'occasions': 5082, 'occur': 5083, 'occurred': 5084, 'occurring': 5085, 'occurs': 5086, 'ocd': 5087, 'oct': 5088, 'october': 5089, 'od': 5090, 'odd': 5091, 'oddities': 5092, 'oddity': 5093, 'oddly': 5094, 'oem': 5095, 'offbrand': 5096, 'offbrands': 5097, 'offer': 5098, 'offered': 5099, 'offering': 5100, 'offers': 5101, 'offgreat': 5102, 'office': 5103, 'official': 5104, 'officially': 5105, 'offline': 5106, 'offload': 5107, 'offroad': 5108, 'offs': 5109, 'offset': 5110, 'ofoverall': 5111, 'ofpfps': 5112, 'ofpros': 5113, 'often': 5114, 'oftest': 5115, 'oh': 5116, 'ok': 5117, 'okay': 5118, 'okdecember': 5119, 'okfer': 5120, 'oki': 5121, 'old': 5122, 'older': 5123, 'olders': 5124, 'oldest': 5125, 'oldi': 5126, 'olds': 5127, 'oldtimer': 5128, 'ole': 5129, 'olympus': 5130, 'om': 5131, 'omd': 5132, 'omg': 5133, 'omitted': 5134, 'onboard': 5135, 'onda': 5136, 'one': 5137, 'onebut': 5138, 'onedog': 5139, 'onedont': 5140, 'onedrive': 5141, 'onedrives': 5142, 'onei': 5143, 'oneim': 5144, 'oneits': 5145, 'onerkmw': 5146, 'ones': 5147, 'onesandisk': 5148, 'onesi': 5149, 'onethe': 5150, 'onionsour': 5151, 'online': 5152, 'onlinepostage': 5153, 'onlinewell': 5154, 'onlyit': 5155, 'onlynow': 5156, 'onnote': 5157, 'ono': 5158, 'onoff': 5159, 'onsecond': 5160, 'onthegoi': 5161, 'onthis': 5162, 'ontime': 5163, 'onto': 5164, 'ontrac': 5165, 'onyl': 5166, 'oo': 5167, 'oodles': 5168, 'ootransfer': 5169, 'open': 5170, 'openbsd': 5171, 'opened': 5172, 'opener': 5173, 'opening': 5174, 'openingediting': 5175, 'opens': 5176, 'operate': 5177, 'operates': 5178, 'operating': 5179, 'operation': 5180, 'operationhigh': 5181, 'operations': 5182, 'operatorshe': 5183, 'opinion': 5184, 'opinions': 5185, 'oppinion': 5186, 'opportunities': 5187, 'opportunity': 5188, 'oppose': 5189, 'opposed': 5190, 'opt': 5191, 'opted': 5192, 'opther': 5193, 'optima': 5194, 'optimal': 5195, 'optimistic': 5196, 'optimization': 5197, 'optimum': 5198, 'optimus': 5199, 'opting': 5200, 'option': 5201, 'optional': 5202, 'options': 5203, 'optionsshipping': 5204, 'orange': 5205, 'order': 5206, 'ordered': 5207, 'ordering': 5208, 'orders': 5209, 'ordinary': 5210, 'organize': 5211, 'original': 5212, 'originally': 5213, 'orignally': 5214, 'ornament': 5215, 'os': 5216, 'oscillating': 5217, 'oses': 5218, 'oss': 5219, 'osx': 5220, 'ot': 5221, 'otg': 5222, 'othere': 5223, 'otherhand': 5224, 'others': 5225, 'othersits': 5226, 'otherstranscend': 5227, 'otherwise': 5228, 'ounce': 5229, 'outbeware': 5230, 'outdoor': 5231, 'outer': 5232, 'outfit': 5233, 'outgrown': 5234, 'outhighly': 5235, 'outim': 5236, 'outit': 5237, 'outlast': 5238, 'outlasted': 5239, 'outlastly': 5240, 'outlay': 5241, 'outlet': 5242, 'outlets': 5243, 'outmoded': 5244, 'outperformed': 5245, 'output': 5246, 'outrageous': 5247, 'outs': 5248, 'outside': 5249, 'outslided': 5250, 'outstanding': 5251, 'outstandingi': 5252, 'outta': 5253, 'outthe': 5254, 'overadvertisement': 5255, 'overall': 5256, 'overalso': 5257, 'overbut': 5258, 'overcharging': 5259, 'overclock': 5260, 'overclocked': 5261, 'overhead': 5262, 'overheating': 5263, 'overheats': 5264, 'overi': 5265, 'overkill': 5266, 'overlapped': 5267, 'overnight': 5268, 'overnighted': 5269, 'overpriced': 5270, 'overrides': 5271, 'oversaturate': 5272, 'oversized': 5273, 'overthe': 5274, 'overtime': 5275, 'overuse': 5276, 'overwhelming': 5277, 'overwhelmingly': 5278, 'overwritten': 5279, 'owned': 5280, 'owner': 5281, 'owners': 5282, 'ownership': 5283, 'owning': 5284, 'p': 5285, 'pace': 5286, 'paces': 5287, 'pack': 5288, 'package': 5289, 'packaged': 5290, 'packagei': 5291, 'packageing': 5292, 'packages': 5293, 'packaging': 5294, 'packagingas': 5295, 'packagingconsnot': 5296, 'packagingi': 5297, 'packagingin': 5298, 'packed': 5299, 'packet': 5300, 'packi': 5301, 'packing': 5302, 'packs': 5303, 'pad': 5304, 'padded': 5305, 'page': 5306, 'paid': 5307, 'pain': 5308, 'painful': 5309, 'painfuli': 5310, 'painfully': 5311, 'painless': 5312, 'painlessconshad': 5313, 'painoverall': 5314, 'painstaking': 5315, 'paint': 5316, 'painted': 5317, 'pair': 5318, 'paired': 5319, 'pairs': 5320, 'pal': 5321, 'palau': 5322, 'paljoe': 5323, 'palm': 5324, 'pan': 5325, 'panasonic': 5326, 'panic': 5327, 'panicking': 5328, 'panorama': 5329, 'pantech': 5330, 'panther': 5331, 'paper': 5332, 'paperwork': 5333, 'par': 5334, 'para': 5335, 'paragon': 5336, 'parallel': 5337, 'paranoid': 5338, 'parcel': 5339, 'parentally': 5340, 'parents': 5341, 'park': 5342, 'part': 5343, 'particular': 5344, 'particularly': 5345, 'particulars': 5346, 'partition': 5347, 'partitioned': 5348, 'partitioning': 5349, 'partitions': 5350, 'partits': 5351, 'partner': 5352, 'parts': 5353, 'party': 5354, 'pass': 5355, 'passed': 5356, 'password': 5357, 'passworded': 5358, 'past': 5359, 'paste': 5360, 'pastusing': 5361, 'patch': 5362, 'patched': 5363, 'paths': 5364, 'patience': 5365, 'patiencethe': 5366, 'patient': 5367, 'patiently': 5368, 'patriot': 5369, 'pattern': 5370, 'patterns': 5371, 'pause': 5372, 'pay': 5373, 'payed': 5374, 'paying': 5375, 'paypal': 5376, 'pays': 5377, 'pc': 5378, 'pcbeen': 5379, 'pceither': 5380, 'pci': 5381, 'pcie': 5382, 'pcieconnected': 5383, 'pclaptop': 5384, 'pcm': 5385, 'pcmac': 5386, 'pcmm': 5387, 'pcmy': 5388, 'pcs': 5389, 'pcssays': 5390, 'pcwin': 5391, 'pcyou': 5392, 'pda': 5393, 'pdacellphone': 5394, 'pdaworks': 5395, 'pdf': 5396, 'pdfs': 5397, 'peace': 5398, 'peak': 5399, 'peaking': 5400, 'peakperformance': 5401, 'peaks': 5402, 'peeve': 5403, 'peeved': 5404, 'peice': 5405, 'pen': 5406, 'pena': 5407, 'penalty': 5408, 'penciled': 5409, 'pending': 5410, 'pennies': 5411, 'penny': 5412, 'pennywise': 5413, 'penvg': 5414, 'people': 5415, 'peoples': 5416, 'peopleupdate': 5417, 'peppier': 5418, 'peppy': 5419, 'per': 5420, 'perceived': 5421, 'percent': 5422, 'percentage': 5423, 'perceptible': 5424, 'perciograve': 5425, 'perectly': 5426, 'perfactly': 5427, 'perfec': 5428, 'perfecly': 5429, 'perfect': 5430, 'perfectbought': 5431, 'perfected': 5432, 'perfectget': 5433, 'perfecti': 5434, 'perfection': 5435, 'perfectly': 5436, 'perfectlyperformance': 5437, 'perfectlythe': 5438, 'perfectmaybe': 5439, 'perfectno': 5440, 'perfects': 5441, 'perfecty': 5442, 'perform': 5443, 'performacea': 5444, 'performance': 5445, 'performancegood': 5446, 'performancehassle': 5447, 'performancei': 5448, 'performancequality': 5449, 'performances': 5450, 'performancestorage': 5451, 'performancethis': 5452, 'performancewise': 5453, 'performed': 5454, 'performer': 5455, 'performing': 5456, 'performs': 5457, 'perhaps': 5458, 'period': 5459, 'periodfew': 5460, 'periodically': 5461, 'periodone': 5462, 'periods': 5463, 'peripheral': 5464, 'permanent': 5465, 'permanently': 5466, 'permanentlyproreliablefastgood': 5467, 'permit': 5468, 'permits': 5469, 'permitted': 5470, 'perseus': 5471, 'persists': 5472, 'person': 5473, 'personal': 5474, 'personally': 5475, 'personnel': 5476, 'persons': 5477, 'pert': 5478, 'peru': 5479, 'pet': 5480, 'pets': 5481, 'pfps': 5482, 'ph': 5483, 'phandroid': 5484, 'phantom': 5485, 'phenomenal': 5486, 'phenomenonnot': 5487, 'phomes': 5488, 'phone': 5489, 'phoneafter': 5490, 'phonealso': 5491, 'phonealways': 5492, 'phoneand': 5493, 'phoneas': 5494, 'phoneback': 5495, 'phoneclass': 5496, 'phonedaniel': 5497, 'phonedevice': 5498, 'phonehave': 5499, 'phonei': 5500, 'phoneif': 5501, 'phonein': 5502, 'phoneit': 5503, 'phonejust': 5504, 'phoneless': 5505, 'phonelike': 5506, 'phoneneedless': 5507, 'phoneproblem': 5508, 'phoneprosadequate': 5509, 'phonereviewi': 5510, 'phones': 5511, 'phoneseems': 5512, 'phoneside': 5513, 'phonesmortorola': 5514, 'phonesnow': 5515, 'phoneso': 5516, 'phonestablet': 5517, 'phonestablets': 5518, 'phonestabletsdevices': 5519, 'phonesthis': 5520, 'phonesverizon': 5521, 'phonetablet': 5522, 'phonetabletdevice': 5523, 'phonetabletetc': 5524, 'phonethat': 5525, 'phonethe': 5526, 'phonethis': 5527, 'phoneupdate': 5528, 'phonewhatever': 5529, 'phonewith': 5530, 'phoneyet': 5531, 'phonies': 5532, 'phony': 5533, 'photes': 5534, 'photo': 5535, 'photograph': 5536, 'photographed': 5537, 'photographer': 5538, 'photographers': 5539, 'photographic': 5540, 'photographs': 5541, 'photography': 5542, 'photographypro': 5543, 'photographysadly': 5544, 'photomusic': 5545, 'photon': 5546, 'photos': 5547, 'photosgb': 5548, 'photosi': 5549, 'photosvideos': 5550, 'phototaking': 5551, 'photothe': 5552, 'photovideo': 5553, 'phrase': 5554, 'physical': 5555, 'physically': 5556, 'pi': 5557, 'pic': 5558, 'picasa': 5559, 'pice': 5560, 'pick': 5561, 'picked': 5562, 'picking': 5563, 'pickup': 5564, 'pico': 5565, 'pics': 5566, 'picsvideos': 5567, 'picture': 5568, 'pictured': 5569, 'picturefer': 5570, 'pictures': 5571, 'picturesback': 5572, 'picturesfantastic': 5573, 'picturesfor': 5574, 'picturesi': 5575, 'picturesits': 5576, 'picturesjust': 5577, 'picturesluckily': 5578, 'picturessec': 5579, 'picturesso': 5580, 'picturessometimes': 5581, 'picturesthey': 5582, 'picturesvideo': 5583, 'picturesvideos': 5584, 'picturesworked': 5585, 'pidgin': 5586, 'piece': 5587, 'pieces': 5588, 'piling': 5589, 'pilot': 5590, 'pinch': 5591, 'pinched': 5592, 'pined': 5593, 'pinkey': 5594, 'pinky': 5595, 'pins': 5596, 'pioneer': 5597, 'piping': 5598, 'pis': 5599, 'pita': 5600, 'pittance': 5601, 'pittasoft': 5602, 'pix': 5603, 'pixelated': 5604, 'pixelcamera': 5605, 'pixels': 5606, 'place': 5607, 'placed': 5608, 'places': 5609, 'placing': 5610, 'plain': 5611, 'plan': 5612, 'plane': 5613, 'planned': 5614, 'planning': 5615, 'plaque': 5616, 'plastic': 5617, 'plate': 5618, 'platform': 5619, 'platforms': 5620, 'platformsside': 5621, 'platic': 5622, 'play': 5623, 'playable': 5624, 'playback': 5625, 'playbackthe': 5626, 'played': 5627, 'player': 5628, 'playeran': 5629, 'playerand': 5630, 'playeras': 5631, 'playermy': 5632, 'playernothing': 5633, 'playeronce': 5634, 'players': 5635, 'playerwhen': 5636, 'playi': 5637, 'playing': 5638, 'playlist': 5639, 'playlists': 5640, 'playloads': 5641, 'plays': 5642, 'playstation': 5643, 'playstore': 5644, 'playups': 5645, 'pleasant': 5646, 'pleasantly': 5647, 'please': 5648, 'pleased': 5649, 'pleaseddoes': 5650, 'pleasedno': 5651, 'pleasurable': 5652, 'pleasure': 5653, 'plentiful': 5654, 'plently': 5655, 'plentry': 5656, 'plenty': 5657, 'plethora': 5658, 'pliers': 5659, 'plinking': 5660, 'pls': 5661, 'plu': 5662, 'plug': 5663, 'plugandplay': 5664, 'plugged': 5665, 'plugging': 5666, 'plugs': 5667, 'plunge': 5668, 'plus': 5669, 'plussandisk': 5670, 'ply': 5671, 'pm': 5672, 'pmp': 5673, 'pny': 5674, 'pocket': 5675, 'podcasts': 5676, 'podcatcher': 5677, 'pofedx': 5678, 'point': 5679, 'pointandshoot': 5680, 'pointed': 5681, 'pointing': 5682, 'points': 5683, 'polaroid': 5684, 'policy': 5685, 'policyin': 5686, 'policysuper': 5687, 'policythe': 5688, 'pone': 5689, 'poor': 5690, 'poorly': 5691, 'pop': 5692, 'popped': 5693, 'popping': 5694, 'pops': 5695, 'popular': 5696, 'populate': 5697, 'populated': 5698, 'popup': 5699, 'por': 5700, 'port': 5701, 'portability': 5702, 'portable': 5703, 'portal': 5704, 'portgreat': 5705, 'portion': 5706, 'ports': 5707, 'posed': 5708, 'position': 5709, 'positive': 5710, 'possibilities': 5711, 'possibility': 5712, 'possible': 5713, 'possibleoh': 5714, 'possibly': 5715, 'post': 5716, 'postage': 5717, 'posted': 5718, 'posto': 5719, 'posts': 5720, 'postso': 5721, 'potential': 5722, 'potentially': 5723, 'poundfoolish': 5724, 'pour': 5725, 'poured': 5726, 'pout': 5727, 'pov': 5728, 'power': 5729, 'poweramp': 5730, 'powercycled': 5731, 'powered': 5732, 'poweredoff': 5733, 'poweredon': 5734, 'powerful': 5735, 'powerfull': 5736, 'powerhouse': 5737, 'powerhouses': 5738, 'powershot': 5739, 'powersoftwo': 5740, 'poweruser': 5741, 'pp': 5742, 'ppl': 5743, 'pproblems': 5744, 'practical': 5745, 'practically': 5746, 'practice': 5747, 'praise': 5748, 'prdoduct': 5749, 'pre': 5750, 'preasure': 5751, 'precious': 5752, 'precise': 5753, 'precision': 5754, 'predecessors': 5755, 'predictably': 5756, 'preemptive': 5757, 'prefer': 5758, 'preferably': 5759, 'preferred': 5760, 'prefers': 5761, 'preformat': 5762, 'preformated': 5763, 'preformatted': 5764, 'preformatting': 5765, 'preinstalled': 5766, 'preloaded': 5767, 'premature': 5768, 'prematurely': 5769, 'premier': 5770, 'premium': 5771, 'prep': 5772, 'preparation': 5773, 'prepard': 5774, 'prepare': 5775, 'prepared': 5776, 'preparing': 5777, 'prepatch': 5778, 'prescribed': 5779, 'present': 5780, 'presentation': 5781, 'presented': 5782, 'presently': 5783, 'presents': 5784, 'preserving': 5785, 'press': 5786, 'pressed': 5787, 'pressure': 5788, 'presto': 5789, 'pretend': 5790, 'pretty': 5791, 'prevail': 5792, 'prevent': 5793, 'prevents': 5794, 'preview': 5795, 'previous': 5796, 'previously': 5797, 'price': 5798, 'pricebeware': 5799, 'pricebut': 5800, 'pricecapacity': 5801, 'pricecomes': 5802, 'priceconadapter': 5803, 'pricecons': 5804, 'priced': 5805, 'pricefit': 5806, 'pricefor': 5807, 'pricegave': 5808, 'pricegb': 5809, 'pricegood': 5810, 'pricei': 5811, 'priceif': 5812, 'priceim': 5813, 'priceless': 5814, 'priceokay': 5815, 'pricepoint': 5816, 'priceproduct': 5817, 'pricerecommend': 5818, 'prices': 5819, 'pricesandisk': 5820, 'priceshighly': 5821, 'pricethankssandisk': 5822, 'priceupdate': 5823, 'pricey': 5824, 'priceyou': 5825, 'pricing': 5826, 'pricingcons': 5827, 'pricingi': 5828, 'priices': 5829, 'primarily': 5830, 'primary': 5831, 'prime': 5832, 'primebut': 5833, 'print': 5834, 'printed': 5835, 'printer': 5836, 'printers': 5837, 'printing': 5838, 'prior': 5839, 'prism': 5840, 'private': 5841, 'pro': 5842, 'proactively': 5843, 'prob': 5844, 'probability': 5845, 'probably': 5846, 'probe': 5847, 'probkem': 5848, 'proble': 5849, 'problem': 5850, 'problema': 5851, 'problemafter': 5852, 'problemapparently': 5853, 'problematic': 5854, 'problemedit': 5855, 'problemhighly': 5856, 'problemi': 5857, 'problemnote': 5858, 'problemoverall': 5859, 'problems': 5860, 'problemsbeen': 5861, 'problemsds': 5862, 'problemsi': 5863, 'problemsin': 5864, 'problemsit': 5865, 'problemsthis': 5866, 'problemsuse': 5867, 'problemsvery': 5868, 'problemthis': 5869, 'problemtoday': 5870, 'procedure': 5871, 'procedures': 5872, 'proceduresoh': 5873, 'proceeded': 5874, 'process': 5875, 'processed': 5876, 'processing': 5877, 'processor': 5878, 'processors': 5879, 'proclaim': 5880, 'procrastinate': 5881, 'proctologist': 5882, 'produce': 5883, 'producer': 5884, 'produces': 5885, 'product': 5886, 'productable': 5887, 'productand': 5888, 'productcame': 5889, 'productdid': 5890, 'productenjoyjb': 5891, 'productgreat': 5892, 'producthas': 5893, 'production': 5894, 'productjust': 5895, 'productmaybe': 5896, 'productnext': 5897, 'producto': 5898, 'productos': 5899, 'productp': 5900, 'productprompt': 5901, 'productreliableown': 5902, 'products': 5903, 'productsalso': 5904, 'productscard': 5905, 'productsit': 5906, 'productsmooth': 5907, 'productthe': 5908, 'productthis': 5909, 'producttranscend': 5910, 'productupdate': 5911, 'professional': 5912, 'professionals': 5913, 'profile': 5914, 'profit': 5915, 'program': 5916, 'programing': 5917, 'programmany': 5918, 'programs': 5919, 'progreat': 5920, 'progress': 5921, 'progressing': 5922, 'prohibitive': 5923, 'project': 5924, 'projects': 5925, 'prolific': 5926, 'promise': 5927, 'promised': 5928, 'promisedaniel': 5929, 'promiseddaniel': 5930, 'promises': 5931, 'promo': 5932, 'promotion': 5933, 'prompt': 5934, 'prompted': 5935, 'promptingboot': 5936, 'promptly': 5937, 'promptness': 5938, 'prompts': 5939, 'prone': 5940, 'pronow': 5941, 'proof': 5942, 'proofing': 5943, 'proper': 5944, 'properly': 5945, 'properties': 5946, 'proprietary': 5947, 'props': 5948, 'proredirected': 5949, 'pros': 5950, 'prosbigest': 5951, 'prosit': 5952, 'prossmallcompact': 5953, 'prosumer': 5954, 'protect': 5955, 'protected': 5956, 'protection': 5957, 'protective': 5958, 'protectors': 5959, 'protocol': 5960, 'protocols': 5961, 'protoo': 5962, 'protrudes': 5963, 'protune': 5964, 'prou': 5965, 'proud': 5966, 'prove': 5967, 'proved': 5968, 'proven': 5969, 'proves': 5970, 'provide': 5971, 'provided': 5972, 'provider': 5973, 'provides': 5974, 'providing': 5975, 'prowas': 5976, 'pry': 5977, 'ps': 5978, 'psdhcgachieved': 5979, 'psdugefsclaims': 5980, 'psh': 5981, 'pshbut': 5982, 'psp': 5983, 'psps': 5984, 'psure': 5985, 'public': 5986, 'publicacioacuten': 5987, 'published': 5988, 'puchased': 5989, 'pull': 5990, 'pulled': 5991, 'pulling': 5992, 'pulls': 5993, 'pulltab': 5994, 'pumped': 5995, 'pun': 5996, 'punchwhen': 5997, 'punishmentill': 5998, 'punked': 5999, 'puny': 6000, 'puppy': 6001, 'purchase': 6002, 'purchased': 6003, 'purchasedo': 6004, 'purchasedthe': 6005, 'purchaseneeded': 6006, 'purchaseordered': 6007, 'purchases': 6008, 'purchasing': 6009, 'purchasingaustin': 6010, 'pure': 6011, 'pureview': 6012, 'purging': 6013, 'purhased': 6014, 'purhcased': 6015, 'purpose': 6016, 'purposely': 6017, 'purposes': 6018, 'purse': 6019, 'pus': 6020, 'push': 6021, 'pushed': 6022, 'pushing': 6023, 'put': 6024, 'puts': 6025, 'putting': 6026, 'pv': 6027, 'pvery': 6028, 'pyramid': 6029, 'pyvs': 6030, 'q': 6031, 'qa': 6032, 'qc': 6033, 'qd': 6034, 'qny': 6035, 'quad': 6036, 'quadband': 6037, 'quadcore': 6038, 'quadrant': 6039, 'quadrupled': 6040, 'quadruples': 6041, 'quadrupling': 6042, 'quads': 6043, 'qualcomm': 6044, 'qualify': 6045, 'qualitty': 6046, 'quality': 6047, 'qualitymany': 6048, 'qualitypretty': 6049, 'qualityseems': 6050, 'qualitythanks': 6051, 'qualityworks': 6052, 'qualityyes': 6053, 'quarter': 6054, 'quck': 6055, 'que': 6056, 'question': 6057, 'questionable': 6058, 'questioned': 6059, 'questionfer': 6060, 'questionhope': 6061, 'questions': 6062, 'quiality': 6063, 'quick': 6064, 'quicker': 6065, 'quickest': 6066, 'quickly': 6067, 'quicklyi': 6068, 'quicklythanks': 6069, 'quickness': 6070, 'quit': 6071, 'quite': 6072, 'quote': 6073, 'qvery': 6074, 'qwerty': 6075, 'r': 6076, 'race': 6077, 'racesnot': 6078, 'rack': 6079, 'radio': 6080, 'rafting': 6081, 'raid': 6082, 'raised': 6083, 'ram': 6084, 'rami': 6085, 'ran': 6086, 'random': 6087, 'randomly': 6088, 'range': 6089, 'ranged': 6090, 'ranging': 6091, 'ranks': 6092, 'rant': 6093, 'rapid': 6094, 'rapido': 6095, 'raramente': 6096, 'rare': 6097, 'rarely': 6098, 'raspberry': 6099, 'raspberrypi': 6100, 'rate': 6101, 'rated': 6102, 'raterespond': 6103, 'rates': 6104, 'rather': 6105, 'rating': 6106, 'ratings': 6107, 'ratio': 6108, 'rave': 6109, 'raw': 6110, 'rays': 6111, 'razor': 6112, 'razr': 6113, 'razrm': 6114, 'razrxthdmaxxmaxxhd': 6115, 'rd': 6116, 'rdf': 6117, 'reach': 6118, 'reached': 6119, 'reaches': 6120, 'reachup': 6121, 'reacutecord': 6122, 'read': 6123, 'readable': 6124, 'readaccess': 6125, 'reader': 6126, 'readerconnected': 6127, 'readerfer': 6128, 'readeri': 6129, 'readers': 6130, 'readersselect': 6131, 'readerwriter': 6132, 'readgeneric': 6133, 'readi': 6134, 'readily': 6135, 'reading': 6136, 'readingwriting': 6137, 'readit': 6138, 'readonly': 6139, 'readright': 6140, 'reads': 6141, 'readsandisk': 6142, 'readswrites': 6143, 'readthat': 6144, 'readthis': 6145, 'readwhat': 6146, 'readwrite': 6147, 'readwrites': 6148, 'readwritethe': 6149, 'ready': 6150, 'real': 6151, 'realised': 6152, 'realistically': 6153, 'reality': 6154, 'realize': 6155, 'realized': 6156, 'reallife': 6157, 'really': 6158, 'realm': 6159, 'realmente': 6160, 'realmoh': 6161, 'realtek': 6162, 'realtime': 6163, 'reappeared': 6164, 'reason': 6165, 'reasonable': 6166, 'reasonablei': 6167, 'reasonably': 6168, 'reasonalble': 6169, 'reasonedit': 6170, 'reasoning': 6171, 'reasonit': 6172, 'reasons': 6173, 'reasonsthese': 6174, 'reassemble': 6175, 'reboot': 6176, 'rebooted': 6177, 'rebooting': 6178, 'reboots': 6179, 'rec': 6180, 'recall': 6181, 'recalls': 6182, 'reccomend': 6183, 'reccomended': 6184, 'receipt': 6185, 'receive': 6186, 'received': 6187, 'receiving': 6188, 'recent': 6189, 'recently': 6190, 'reception': 6191, 'recieved': 6192, 'recognise': 6193, 'recognition': 6194, 'recognizable': 6195, 'recognize': 6196, 'recognized': 6197, 'recognizedmaybe': 6198, 'recognizes': 6199, 'recognizing': 6200, 'recomend': 6201, 'recomendadait': 6202, 'recomended': 6203, 'recomiendo': 6204, 'recommand': 6205, 'recommanded': 6206, 'recommemd': 6207, 'recommend': 6208, 'recommendation': 6209, 'recommendations': 6210, 'recommended': 6211, 'recommendedas': 6212, 'recommendedcheers': 6213, 'recommendedtry': 6214, 'recommendfor': 6215, 'recommending': 6216, 'recommendit': 6217, 'recommends': 6218, 'recommendthis': 6219, 'recommened': 6220, 'recomment': 6221, 'recommmend': 6222, 'recomnended': 6223, 'recompile': 6224, 'recongnize': 6225, 'reconnect': 6226, 'reconnected': 6227, 'reconocida': 6228, 'reconsider': 6229, 'record': 6230, 'recorded': 6231, 'recorder': 6232, 'recorderafter': 6233, 'recording': 6234, 'recordingcould': 6235, 'recordingdowning': 6236, 'recordings': 6237, 'recordingupdate': 6238, 'records': 6239, 'recordswrites': 6240, 'recourse': 6241, 'recover': 6242, 'recoverable': 6243, 'recoverablethis': 6244, 'recoveries': 6245, 'recovering': 6246, 'recoverlesson': 6247, 'recoverx': 6248, 'recovery': 6249, 'recurrent': 6250, 'recyclable': 6251, 'red': 6252, 'redgray': 6253, 'redgrey': 6254, 'redirect': 6255, 'redirected': 6256, 'reduced': 6257, 'reduces': 6258, 'reducing': 6259, 'redundancy': 6260, 'redundant': 6261, 'reemail': 6262, 'reference': 6263, 'referencesothat': 6264, 'referencing': 6265, 'refers': 6266, 'reflect': 6267, 'reflection': 6268, 'reformat': 6269, 'reformated': 6270, 'reformats': 6271, 'reformatsince': 6272, 'reformatted': 6273, 'reformattedi': 6274, 'reformatting': 6275, 'refresh': 6276, 'refund': 6277, 'refundbought': 6278, 'refunded': 6279, 'refundout': 6280, 'refundstay': 6281, 'refundthen': 6282, 'refuse': 6283, 'refused': 6284, 'refuses': 6285, 'refusing': 6286, 'reg': 6287, 'regard': 6288, 'regarding': 6289, 'regardless': 6290, 'regards': 6291, 'region': 6292, 'regional': 6293, 'register': 6294, 'regressive': 6295, 'regret': 6296, 'regrets': 6297, 'regretsyoure': 6298, 'regretted': 6299, 'regretting': 6300, 'regular': 6301, 'regularity': 6302, 'regularly': 6303, 'reinsert': 6304, 'reinserted': 6305, 'reinserting': 6306, 'reinstall': 6307, 'reinstalled': 6308, 'related': 6309, 'relative': 6310, 'relatively': 6311, 'relay': 6312, 'release': 6313, 'released': 6314, 'relevant': 6315, 'reliability': 6316, 'reliabilitycompatibilityavailability': 6317, 'reliable': 6318, 'reliablea': 6319, 'reliabledurable': 6320, 'reliably': 6321, 'relied': 6322, 'relief': 6323, 'relieved': 6324, 'relive': 6325, 'reloaded': 6326, 'reluctant': 6327, 'rely': 6328, 'remain': 6329, 'remained': 6330, 'remaining': 6331, 'remains': 6332, 'remap': 6333, 'remark': 6334, 'remarkable': 6335, 'remarks': 6336, 'remember': 6337, 'remembered': 6338, 'remembering': 6339, 'remembers': 6340, 'remind': 6341, 'reminded': 6342, 'remomend': 6343, 'remote': 6344, 'remount': 6345, 'remounted': 6346, 'remounting': 6347, 'remounts': 6348, 'remountwhile': 6349, 'removable': 6350, 'removablereplaceable': 6351, 'removal': 6352, 'remove': 6353, 'removeable': 6354, 'removed': 6355, 'removedthis': 6356, 'removes': 6357, 'removing': 6358, 'rendition': 6359, 'rent': 6360, 'renting': 6361, 'reoccurs': 6362, 'reordered': 6363, 'rep': 6364, 'repack': 6365, 'repair': 6366, 'repairing': 6367, 'repartition': 6368, 'repeat': 6369, 'repeated': 6370, 'repeatedly': 6371, 'repeats': 6372, 'replace': 6373, 'replaced': 6374, 'replacedi': 6375, 'replacement': 6376, 'replacementif': 6377, 'replacements': 6378, 'replacementthe': 6379, 'replaces': 6380, 'replacing': 6381, 'replay': 6382, 'reply': 6383, 'report': 6384, 'reported': 6385, 'reportedly': 6386, 'reporting': 6387, 'reports': 6388, 'representation': 6389, 'representative': 6390, 'representing': 6391, 'republic': 6392, 'repurchase': 6393, 'repurchased': 6394, 'reputable': 6395, 'reputation': 6396, 'reputationfor': 6397, 'reputationi': 6398, 'reputed': 6399, 'requested': 6400, 'requesting': 6401, 'require': 6402, 'required': 6403, 'requiredif': 6404, 'requirement': 6405, 'requirements': 6406, 'requires': 6407, 'requiring': 6408, 'rerated': 6409, 'rerecord': 6410, 'res': 6411, 'rescan': 6412, 'reschedule': 6413, 'rescue': 6414, 'reseached': 6415, 'research': 6416, 'researched': 6417, 'researching': 6418, 'reseat': 6419, 'reseated': 6420, 'reservations': 6421, 'reserve': 6422, 'reserved': 6423, 'reset': 6424, 'resets': 6425, 'resetting': 6426, 'reshootand': 6427, 'resided': 6428, 'resides': 6429, 'resilient': 6430, 'resist': 6431, 'resistanceorder': 6432, 'resistant': 6433, 'resize': 6434, 'resolution': 6435, 'resolutions': 6436, 'resolve': 6437, 'resolved': 6438, 'resolves': 6439, 'resolving': 6440, 'resort': 6441, 'resourceprosits': 6442, 'respectable': 6443, 'respective': 6444, 'respectively': 6445, 'respectswavey': 6446, 'respond': 6447, 'responded': 6448, 'responding': 6449, 'responds': 6450, 'response': 6451, 'responsibility': 6452, 'responsible': 6453, 'responsive': 6454, 'responsiveness': 6455, 'ress': 6456, 'rest': 6457, 'restaring': 6458, 'restart': 6459, 'restarted': 6460, 'restarting': 6461, 'restarts': 6462, 'restore': 6463, 'result': 6464, 'resulted': 6465, 'resulting': 6466, 'results': 6467, 'resultshave': 6468, 'resume': 6469, 'retail': 6470, 'retailer': 6471, 'retailers': 6472, 'retarded': 6473, 'retched': 6474, 'retested': 6475, 'retina': 6476, 'retreive': 6477, 'retried': 6478, 'retrieval': 6479, 'retrieve': 6480, 'retrieved': 6481, 'retrieves': 6482, 'retro': 6483, 'return': 6484, 'returned': 6485, 'returning': 6486, 'returns': 6487, 'reusable': 6488, 'reused': 6489, 'revealed': 6490, 'reverb': 6491, 'reversed': 6492, 'revert': 6493, 'reverts': 6494, 'review': 6495, 'reviewed': 6496, 'reviewer': 6497, 'reviewercontacted': 6498, 'reviewers': 6499, 'reviewi': 6500, 'reviewing': 6501, 'reviewjust': 6502, 'reviewmy': 6503, 'reviews': 6504, 'reviewthanks': 6505, 'reviewthis': 6506, 'reviewupdate': 6507, 'revise': 6508, 'revision': 6509, 'revisit': 6510, 'rewarded': 6511, 'rewrites': 6512, 'rez': 6513, 'rezound': 6514, 'rf': 6515, 'richer': 6516, 'riconosce': 6517, 'rid': 6518, 'ride': 6519, 'riderz': 6520, 'ridgecrop': 6521, 'ridiculous': 6522, 'ridiculousdo': 6523, 'ridiculously': 6524, 'riding': 6525, 'rig': 6526, 'right': 6527, 'rightand': 6528, 'rightok': 6529, 'rights': 6530, 'rightthis': 6531, 'rightworks': 6532, 'rightyou': 6533, 'rikomagic': 6534, 'rimetterla': 6535, 'ringtones': 6536, 'rip': 6537, 'ripeto': 6538, 'ripi': 6539, 'ripped': 6540, 'rips': 6541, 'rise': 6542, 'risk': 6543, 'riskwhat': 6544, 'risky': 6545, 'rite': 6546, 'rjb': 6547, 'rma': 6548, 'rmad': 6549, 'rmaed': 6550, 'rmaing': 6551, 'ro': 6552, 'road': 6553, 'roads': 6554, 'roam': 6555, 'rob': 6556, 'robbery': 6557, 'rock': 6558, 'rockbox': 6559, 'rocket': 6560, 'rocking': 6561, 'rocks': 6562, 'rocksi': 6563, 'rocksolid': 6564, 'roi': 6565, 'roku': 6566, 'rokuim': 6567, 'rokuyou': 6568, 'role': 6569, 'rolled': 6570, 'rolling': 6571, 'rollingi': 6572, 'rom': 6573, 'roms': 6574, 'romso': 6575, 'room': 6576, 'roomdont': 6577, 'roomi': 6578, 'roomstorage': 6579, 'roomy': 6580, 'root': 6581, 'rooted': 6582, 'rootexplorer': 6583, 'rooting': 6584, 'rotate': 6585, 'roughly': 6586, 'round': 6587, 'route': 6588, 'routes': 6589, 'routinely': 6590, 'row': 6591, 'rpi': 6592, 'rpm': 6593, 'rt': 6594, 'rtbelkin': 6595, 'rubbish': 6596, 'rubwindows': 6597, 'ruin': 6598, 'ruined': 6599, 'ruining': 6600, 'ruins': 6601, 'rule': 6602, 'ruled': 6603, 'rules': 6604, 'run': 6605, 'runing': 6606, 'running': 6607, 'runs': 6608, 'rush': 6609, 'rw': 6610, 'rx': 6611, 'sa': 6612, 'saavy': 6613, 'sabortooth': 6614, 'sacd': 6615, 'sacrificing': 6616, 'sad': 6617, 'saddisk': 6618, 'sadly': 6619, 'safe': 6620, 'safely': 6621, 'safety': 6622, 'said': 6623, 'saidmy': 6624, 'saidthis': 6625, 'sailing': 6626, 'sale': 6627, 'salepro': 6628, 'sales': 6629, 'salethe': 6630, 'salt': 6631, 'salvage': 6632, 'salvageable': 6633, 'sam': 6634, 'samasun': 6635, 'samdisk': 6636, 'samelive': 6637, 'sammy': 6638, 'sample': 6639, 'samsong': 6640, 'samsug': 6641, 'samsumg': 6642, 'samsun': 6643, 'samsunb': 6644, 'samsung': 6645, 'samsungandroid': 6646, 'samsungexcellent': 6647, 'samsungkingston': 6648, 'samsungs': 6649, 'samung': 6650, 'san': 6651, 'sand': 6652, 'sanded': 6653, 'sandick': 6654, 'sandisc': 6655, 'sandisk': 6656, 'sandiskand': 6657, 'sandiskcom': 6658, 'sandiskconsnone': 6659, 'sandiskgood': 6660, 'sandiskhaving': 6661, 'sandiski': 6662, 'sandiskis': 6663, 'sandiskit': 6664, 'sandiskrecommended': 6665, 'sandisks': 6666, 'sandisksequential': 6667, 'sandiskthe': 6668, 'sandiskthey': 6669, 'sandiskupdate': 6670, 'sandiskyou': 6671, 'sandwich': 6672, 'sansa': 6673, 'sansdisk': 6674, 'sansun': 6675, 'sansung': 6676, 'sarebbe': 6677, 'sat': 6678, 'sata': 6679, 'satisfaction': 6680, 'satisfactory': 6681, 'satisfeito': 6682, 'satisfied': 6683, 'satisfiededit': 6684, 'satisfy': 6685, 'satisfying': 6686, 'satisified': 6687, 'saturday': 6688, 'save': 6689, 'saveby': 6690, 'saved': 6691, 'saver': 6692, 'saves': 6693, 'saving': 6694, 'savings': 6695, 'savvy': 6696, 'saw': 6697, 'say': 6698, 'saybought': 6699, 'sayim': 6700, 'saying': 6701, 'sayits': 6702, 'saylike': 6703, 'says': 6704, 'sayspeed': 6705, 'sayyou': 6706, 'sc': 6707, 'scads': 6708, 'scalpers': 6709, 'scam': 6710, 'scan': 6711, 'scandisk': 6712, 'scandiskdont': 6713, 'scandiskgreat': 6714, 'scandiski': 6715, 'scandiskthey': 6716, 'scanner': 6717, 'scanners': 6718, 'scanning': 6719, 'scans': 6720, 'scared': 6721, 'scary': 6722, 'scenario': 6723, 'sceptical': 6724, 'schedule': 6725, 'scheduled': 6726, 'schi': 6727, 'schlep': 6728, 'school': 6729, 'schoolkid': 6730, 'science': 6731, 'scientifically': 6732, 'scissors': 6733, 'scoffed': 6734, 'scores': 6735, 'scotch': 6736, 'scouting': 6737, 'scratch': 6738, 'scratched': 6739, 'scream': 6740, 'screen': 6741, 'screened': 6742, 'screens': 6743, 'screw': 6744, 'screwed': 6745, 'scripts': 6746, 'scroll': 6747, 'scuba': 6748, 'sd': 6749, 'sdcard': 6750, 'sdcardbased': 6751, 'sdcardorg': 6752, 'sdcards': 6753, 'sdcgbhas': 6754, 'sdcgblast': 6755, 'sddram': 6756, 'sderri': 6757, 'sdgo': 6758, 'sdhc': 6759, 'sdhcs': 6760, 'sdhcvery': 6761, 'sdhcworks': 6762, 'sdhcxc': 6763, 'sdhd': 6764, 'sdis': 6765, 'sdmicrosd': 6766, 'sdmicrosdmmc': 6767, 'sdon': 6768, 'sdorgs': 6769, 'sdprime': 6770, 'sds': 6771, 'sdsdqgaffp': 6772, 'sdsdqgaffpand': 6773, 'sdsdqmgb': 6774, 'sdsdquag': 6775, 'sdsdquagaffpa': 6776, 'sdsdquagas': 6777, 'sdsdquagua': 6778, 'sdsdqugaffpa': 6779, 'sdsdqugaffparating': 6780, 'sdsdqugaffpathis': 6781, 'sdsdqugaffpaupdate': 6782, 'sdsdquig': 6783, 'sdsdqxguais': 6784, 'sdsdqygua': 6785, 'sdsdugaffp': 6786, 'sdtf': 6787, 'sdusb': 6788, 'sdxc': 6789, 'sdxccompatible': 6790, 'sdxcsdhc': 6791, 'se': 6792, 'sealed': 6793, 'seamless': 6794, 'seamlessly': 6795, 'seamlesslyperhaps': 6796, 'search': 6797, 'searched': 6798, 'searches': 6799, 'searching': 6800, 'season': 6801, 'seasons': 6802, 'seatedi': 6803, 'sec': 6804, 'second': 6805, 'secondary': 6806, 'secondly': 6807, 'seconds': 6808, 'secondsafter': 6809, 'secondsthis': 6810, 'secondupdateokay': 6811, 'secret': 6812, 'secs': 6813, 'section': 6814, 'sectors': 6815, 'sectorsanother': 6816, 'sectorsi': 6817, 'sectorsthe': 6818, 'secure': 6819, 'securehighly': 6820, 'securely': 6821, 'security': 6822, 'sed': 6823, 'see': 6824, 'seeedit': 6825, 'seeing': 6826, 'seek': 6827, 'seem': 6828, 'seemed': 6829, 'seemingly': 6830, 'seemless': 6831, 'seemlessly': 6832, 'seems': 6833, 'seemsto': 6834, 'seen': 6835, 'sees': 6836, 'segment': 6837, 'seinfeld': 6838, 'select': 6839, 'selected': 6840, 'selecting': 6841, 'selection': 6842, 'selections': 6843, 'seles': 6844, 'self': 6845, 'selfies': 6846, 'sell': 6847, 'seller': 6848, 'sellers': 6849, 'selling': 6850, 'sells': 6851, 'sellthe': 6852, 'semi': 6853, 'send': 6854, 'sending': 6855, 'sensation': 6856, 'sense': 6857, 'sensewell': 6858, 'sensible': 6859, 'sensitive': 6860, 'sent': 6861, 'sentence': 6862, 'separate': 6863, 'separately': 6864, 'separates': 6865, 'seperately': 6866, 'september': 6867, 'sequence': 6868, 'sequences': 6869, 'sequencetoo': 6870, 'sequental': 6871, 'sequential': 6872, 'ser': 6873, 'serial': 6874, 'serialsdsdquagaa': 6875, 'series': 6876, 'serious': 6877, 'seriously': 6878, 'sermons': 6879, 'sero': 6880, 'serve': 6881, 'served': 6882, 'server': 6883, 'serves': 6884, 'service': 6885, 'serviceas': 6886, 'servicesame': 6887, 'servicesdurable': 6888, 'serviceupdate': 6889, 'servicewell': 6890, 'session': 6891, 'sessions': 6892, 'set': 6893, 'setitandforgetit': 6894, 'sets': 6895, 'setspeeds': 6896, 'setting': 6897, 'settings': 6898, 'settingsfat': 6899, 'settingsonce': 6900, 'settingswill': 6901, 'settle': 6902, 'settled': 6903, 'settling': 6904, 'setup': 6905, 'seven': 6906, 'severail': 6907, 'several': 6908, 'severalhundreddollarsworth': 6909, 'severalyearold': 6910, 'severend': 6911, 'severs': 6912, 'sez': 6913, 'sfirst': 6914, 'sformatting': 6915, 'sg': 6916, 'sgh': 6917, 'sghi': 6918, 'sghim': 6919, 'sghm': 6920, 'sgiii': 6921, 'sgiven': 6922, 'sgs': 6923, 'sgss': 6924, 'shack': 6925, 'shacks': 6926, 'shake': 6927, 'shaking': 6928, 'shall': 6929, 'shallow': 6930, 'shame': 6931, 'shampoo': 6932, 'shape': 6933, 'share': 6934, 'shared': 6935, 'sharing': 6936, 'sharkk': 6937, 'sharp': 6938, 'sharper': 6939, 'sharpest': 6940, 'shatterproof': 6941, 'shed': 6942, 'sheds': 6943, 'sheer': 6944, 'sheet': 6945, 'sheets': 6946, 'shell': 6947, 'shelves': 6948, 'shenanigans': 6949, 'shes': 6950, 'shield': 6951, 'shiftn': 6952, 'shines': 6953, 'shiny': 6954, 'ship': 6955, 'shipment': 6956, 'shipments': 6957, 'shipong': 6958, 'shipped': 6959, 'shippedoverall': 6960, 'shipping': 6961, 'shippingamazon': 6962, 'shippingand': 6963, 'shippingi': 6964, 'shippingits': 6965, 'shippingorder': 6966, 'shippment': 6967, 'ships': 6968, 'shock': 6969, 'shocker': 6970, 'shockproof': 6971, 'sholes': 6972, 'shoot': 6973, 'shooting': 6974, 'shootingrecording': 6975, 'shoots': 6976, 'shootsspeed': 6977, 'shop': 6978, 'shopped': 6979, 'shopper': 6980, 'shopping': 6981, 'shops': 6982, 'short': 6983, 'shortcoming': 6984, 'shorten': 6985, 'shortest': 6986, 'shortly': 6987, 'shot': 6988, 'shotmy': 6989, 'shots': 6990, 'shoulda': 6991, 'shoulder': 6992, 'shouldnt': 6993, 'shouldntwouldnt': 6994, 'shouldve': 6995, 'shove': 6996, 'shoved': 6997, 'show': 6998, 'showed': 6999, 'showing': 7000, 'shown': 7001, 'shows': 7002, 'showsits': 7003, 'shrink': 7004, 'shrinks': 7005, 'shuffling': 7006, 'shut': 7007, 'shutdown': 7008, 'shutdowns': 7009, 'shuts': 7010, 'shutter': 7011, 'shutteri': 7012, 'shuttle': 7013, 'shy': 7014, 'si': 7015, 'side': 7016, 'sidei': 7017, 'sidenote': 7018, 'sides': 7019, 'sido': 7020, 'sidways': 7021, 'sie': 7022, 'sigh': 7023, 'sign': 7024, 'signal': 7025, 'significant': 7026, 'significantly': 7027, 'signs': 7028, 'sii': 7029, 'siii': 7030, 'siiiwould': 7031, 'siilooking': 7032, 'siimple': 7033, 'silicon': 7034, 'silk': 7035, 'silly': 7036, 'silver': 7037, 'sim': 7038, 'simcard': 7039, 'similar': 7040, 'similarly': 7041, 'simple': 7042, 'simpleerrors': 7043, 'simplenot': 7044, 'simpler': 7045, 'simplethere': 7046, 'simplethis': 7047, 'simpliest': 7048, 'simplifies': 7049, 'simply': 7050, 'simultaneous': 7051, 'simultaneously': 7052, 'since': 7053, 'sinceim': 7054, 'sincewrite': 7055, 'single': 7056, 'sip': 7057, 'sipsip': 7058, 'sis': 7059, 'sister': 7060, 'sit': 7061, 'site': 7062, 'sites': 7063, 'sits': 7064, 'sitting': 7065, 'situation': 7066, 'situationother': 7067, 'situations': 7068, 'six': 7069, 'sixits': 7070, 'sixmonths': 7071, 'sizable': 7072, 'size': 7073, 'sizeand': 7074, 'sized': 7075, 'sizeformat': 7076, 'sizes': 7077, 'sizesdeb': 7078, 'sizethe': 7079, 'sizeupdate': 7080, 'sk': 7081, 'skeptial': 7082, 'skeptical': 7083, 'skepticism': 7084, 'sketchy': 7085, 'ski': 7086, 'skiing': 7087, 'skill': 7088, 'skimp': 7089, 'skimpy': 7090, 'skip': 7091, 'skipping': 7092, 'skips': 7093, 'skydive': 7094, 'skydrive': 7095, 'skyrocket': 7096, 'skyrocketed': 7097, 'skyrockets': 7098, 'slack': 7099, 'slacking': 7100, 'slam': 7101, 'slammed': 7102, 'slate': 7103, 'slatest': 7104, 'sleeve': 7105, 'sliced': 7106, 'slick': 7107, 'slid': 7108, 'slide': 7109, 'slider': 7110, 'slides': 7111, 'slideshows': 7112, 'slight': 7113, 'slightest': 7114, 'slightly': 7115, 'sliminess': 7116, 'slimy': 7117, 'slingbox': 7118, 'slip': 7119, 'slipped': 7120, 'slips': 7121, 'slot': 7122, 'slots': 7123, 'slotsbuy': 7124, 'slotso': 7125, 'slotsthe': 7126, 'slotyou': 7127, 'slouch': 7128, 'slow': 7129, 'slowdown': 7130, 'slowed': 7131, 'slower': 7132, 'slowest': 7133, 'slowi': 7134, 'slowing': 7135, 'slowly': 7136, 'slowness': 7137, 'slows': 7138, 'slr': 7139, 'sluggishness': 7140, 'slvr': 7141, 'small': 7142, 'smalland': 7143, 'smaller': 7144, 'smallest': 7145, 'smallupdate': 7146, 'smart': 7147, 'smartdevice': 7148, 'smartphone': 7149, 'smartphoneconnone': 7150, 'smartphonei': 7151, 'smartphonepopped': 7152, 'smartphones': 7153, 'smartphonesamsung': 7154, 'smartphoneshighly': 7155, 'smartphonethe': 7156, 'smashed': 7157, 'smashing': 7158, 'smasung': 7159, 'smile': 7160, 'smmoth': 7161, 'smoking': 7162, 'smooth': 7163, 'smoother': 7164, 'smoothly': 7165, 'smoothlyoverall': 7166, 'smoothlythis': 7167, 'smt': 7168, 'smy': 7169, 'snadisk': 7170, 'snagged': 7171, 'snags': 7172, 'snap': 7173, 'snapin': 7174, 'snapped': 7175, 'snapping': 7176, 'snappy': 7177, 'snaps': 7178, 'snapshot': 7179, 'snapshots': 7180, 'snatched': 7181, 'snatchng': 7182, 'sndisk': 7183, 'sneakernet': 7184, 'sneaky': 7185, 'sneeze': 7186, 'snorkeling': 7187, 'snot': 7188, 'snow': 7189, 'snowboarding': 7190, 'snugly': 7191, 'soaked': 7192, 'soaps': 7193, 'softpedia': 7194, 'software': 7195, 'softwares': 7196, 'solana': 7197, 'solar': 7198, 'sold': 7199, 'soldoriginal': 7200, 'sole': 7201, 'solid': 7202, 'solidcheers': 7203, 'solidthere': 7204, 'sollution': 7205, 'solo': 7206, 'solution': 7207, 'solutions': 7208, 'solve': 7209, 'solved': 7210, 'solvedtherefore': 7211, 'solves': 7212, 'somebody': 7213, 'someday': 7214, 'somehow': 7215, 'someone': 7216, 'something': 7217, 'somethingi': 7218, 'somethings': 7219, 'sometime': 7220, 'sometimes': 7221, 'somewhat': 7222, 'somewhere': 7223, 'son': 7224, 'song': 7225, 'songs': 7226, 'songsminute': 7227, 'songspicsor': 7228, 'sons': 7229, 'sonsidering': 7230, 'sonswifes': 7231, 'sony': 7232, 'sonys': 7233, 'soon': 7234, 'sooner': 7235, 'sooo': 7236, 'soooo': 7237, 'sooooo': 7238, 'soooooo': 7239, 'sorage': 7240, 'sorcery': 7241, 'sorely': 7242, 'sorry': 7243, 'sort': 7244, 'sorts': 7245, 'sought': 7246, 'sound': 7247, 'sounds': 7248, 'source': 7249, 'sources': 7250, 'south': 7251, 'southern': 7252, 'sovery': 7253, 'sp': 7254, 'space': 7255, 'spaceadding': 7256, 'spacealso': 7257, 'spacecant': 7258, 'spacegot': 7259, 'spacehave': 7260, 'spacei': 7261, 'spaceit': 7262, 'spaceits': 7263, 'spacejust': 7264, 'spaceno': 7265, 'spaceprice': 7266, 'spacequick': 7267, 'spaces': 7268, 'spacesandisk': 7269, 'spaceworks': 7270, 'spacious': 7271, 'spades': 7272, 'spare': 7273, 'spares': 7274, 'sparethe': 7275, 'spark': 7276, 'spceddie': 7277, 'spead': 7278, 'speak': 7279, 'speaker': 7280, 'speaking': 7281, 'speaks': 7282, 'spear': 7283, 'spec': 7284, 'special': 7285, 'specialized': 7286, 'specially': 7287, 'specific': 7288, 'specifically': 7289, 'specification': 7290, 'specifications': 7291, 'specifics': 7292, 'specified': 7293, 'specify': 7294, 'specim': 7295, 'specs': 7296, 'spect': 7297, 'spectacular': 7298, 'spectested': 7299, 'sped': 7300, 'speed': 7301, 'speedand': 7302, 'speedcomes': 7303, 'speedgreat': 7304, 'speedi': 7305, 'speedoverall': 7306, 'speedread': 7307, 'speeds': 7308, 'speedsfer': 7309, 'speedsi': 7310, 'speedsin': 7311, 'speedsnext': 7312, 'speedso': 7313, 'speedson': 7314, 'speedstipright': 7315, 'speedsworks': 7316, 'speedthe': 7317, 'speeduhs': 7318, 'speedup': 7319, 'speedupdate': 7320, 'speedy': 7321, 'speedyi': 7322, 'speedyit': 7323, 'speedyou': 7324, 'speeeds': 7325, 'spell': 7326, 'speller': 7327, 'spend': 7328, 'spending': 7329, 'spent': 7330, 'spesh': 7331, 'spesso': 7332, 'spicey': 7333, 'spikes': 7334, 'spin': 7335, 'spitting': 7336, 'splendidly': 7337, 'splurge': 7338, 'spoke': 7339, 'spoken': 7340, 'spontaneously': 7341, 'sport': 7342, 'sports': 7343, 'sportsvue': 7344, 'spot': 7345, 'spotify': 7346, 'spots': 7347, 'spotty': 7348, 'spread': 7349, 'spreads': 7350, 'spreadsheet': 7351, 'spreadsheets': 7352, 'spring': 7353, 'sprint': 7354, 'spros': 7355, 'sprosspeedcomes': 7356, 'sprung': 7357, 'sputtering': 7358, 'spy': 7359, 'sq': 7360, 'sql': 7361, 'sqn': 7362, 'squad': 7363, 'square': 7364, 'squeaks': 7365, 'squeeze': 7366, 'sruyatqmn': 7367, 'ss': 7368, 'sscameraspcectworks': 7369, 'ssd': 7370, 'ssg': 7371, 'sshd': 7372, 'sso': 7373, 'sss': 7374, 'ssuch': 7375, 'st': 7376, 'stability': 7377, 'stable': 7378, 'stage': 7379, 'stall': 7380, 'stalling': 7381, 'stallinghere': 7382, 'stamp': 7383, 'stanard': 7384, 'stand': 7385, 'standard': 7386, 'standardizing': 7387, 'standards': 7388, 'standing': 7389, 'stands': 7390, 'stanza': 7391, 'staples': 7392, 'star': 7393, 'stari': 7394, 'starnegative': 7395, 'stars': 7396, 'starsadditionally': 7397, 'starsi': 7398, 'starsjust': 7399, 'starsplus': 7400, 'starsto': 7401, 'starsupdate': 7402, 'start': 7403, 'started': 7404, 'starting': 7405, 'starts': 7406, 'staryed': 7407, 'stash': 7408, 'state': 7409, 'stated': 7410, 'statedblazing': 7411, 'states': 7412, 'static': 7413, 'stating': 7414, 'station': 7415, 'stats': 7416, 'status': 7417, 'stay': 7418, 'stayed': 7419, 'staying': 7420, 'stays': 7421, 'steadily': 7422, 'steady': 7423, 'steal': 7424, 'stealing': 7425, 'stealthcamwith': 7426, 'stealwould': 7427, 'steam': 7428, 'steamit': 7429, 'steel': 7430, 'steep': 7431, 'steer': 7432, 'stellar': 7433, 'stench': 7434, 'step': 7435, 'stepdaughter': 7436, 'steps': 7437, 'stereo': 7438, 'stereocolor': 7439, 'sthese': 7440, 'stick': 7441, 'sticker': 7442, 'sticking': 7443, 'sticks': 7444, 'stil': 7445, 'still': 7446, 'stillbottom': 7447, 'stilldont': 7448, 'stillno': 7449, 'stills': 7450, 'stirree': 7451, 'stock': 7452, 'stocking': 7453, 'stockings': 7454, 'stockingstuffer': 7455, 'stockupdated': 7456, 'stolen': 7457, 'stone': 7458, 'stop': 7459, 'stoppage': 7460, 'stopped': 7461, 'stopping': 7462, 'stops': 7463, 'storage': 7464, 'storageafter': 7465, 'storagearrived': 7466, 'storagecapacityput': 7467, 'storagechers': 7468, 'storagefrees': 7469, 'storagefyi': 7470, 'storagegb': 7471, 'storagegreat': 7472, 'storagei': 7473, 'storageit': 7474, 'storageits': 7475, 'storagelow': 7476, 'storagenice': 7477, 'storagenormal': 7478, 'storageplus': 7479, 'storageso': 7480, 'storagethe': 7481, 'store': 7482, 'stored': 7483, 'stores': 7484, 'stories': 7485, 'storing': 7486, 'storingcapturing': 7487, 'storm': 7488, 'story': 7489, 'storyi': 7490, 'stotage': 7491, 'straight': 7492, 'straightened': 7493, 'straightforward': 7494, 'strange': 7495, 'strap': 7496, 'stratosphere': 7497, 'stream': 7498, 'streamer': 7499, 'streaming': 7500, 'streamingplaying': 7501, 'streamsdownloadsuploads': 7502, 'streamthis': 7503, 'strenghts': 7504, 'stress': 7505, 'stressing': 7506, 'stretch': 7507, 'stretches': 7508, 'strict': 7509, 'strictly': 7510, 'strikes': 7511, 'stripe': 7512, 'strips': 7513, 'strong': 7514, 'strongly': 7515, 'structure': 7516, 'stuck': 7517, 'studders': 7518, 'studio': 7519, 'studiowould': 7520, 'stuff': 7521, 'stuffaddenda': 7522, 'stuffi': 7523, 'stuffs': 7524, 'stuffsamsung': 7525, 'stunt': 7526, 'stupid': 7527, 'sturdy': 7528, 'stutter': 7529, 'stuttered': 7530, 'stuttering': 7531, 'stutterpausing': 7532, 'stutters': 7533, 'style': 7534, 'stylish': 7535, 'subdivision': 7536, 'subfolders': 7537, 'subject': 7538, 'sublimental': 7539, 'submitted': 7540, 'subscribe': 7541, 'substandard': 7542, 'substantial': 7543, 'substantially': 7544, 'substitute': 7545, 'substitutes': 7546, 'subtract': 7547, 'subzero': 7548, 'succede': 7549, 'succeed': 7550, 'success': 7551, 'successful': 7552, 'successfully': 7553, 'suck': 7554, 'sucked': 7555, 'suckered': 7556, 'sucks': 7557, 'sucksi': 7558, 'sucksthis': 7559, 'suckswasted': 7560, 'sudden': 7561, 'suddenly': 7562, 'suffer': 7563, 'suffered': 7564, 'suffice': 7565, 'sufficient': 7566, 'sufficientthe': 7567, 'sugarsync': 7568, 'suggest': 7569, 'suggested': 7570, 'suggesting': 7571, 'suggestion': 7572, 'suggestions': 7573, 'suicidal': 7574, 'suing': 7575, 'suit': 7576, 'suitable': 7577, 'suite': 7578, 'suits': 7579, 'sul': 7580, 'sum': 7581, 'summary': 7582, 'summer': 7583, 'summers': 7584, 'summery': 7585, 'sums': 7586, 'sun': 7587, 'sundisk': 7588, 'sunwe': 7589, 'super': 7590, 'superb': 7591, 'superbly': 7592, 'supercheap': 7593, 'superfast': 7594, 'superior': 7595, 'supermarket': 7596, 'superslow': 7597, 'superspeed': 7598, 'superspeedy': 7599, 'supertalent': 7600, 'supot': 7601, 'supplement': 7602, 'supplemental': 7603, 'supplied': 7604, 'supplier': 7605, 'supplies': 7606, 'supply': 7607, 'support': 7608, 'supported': 7609, 'supporti': 7610, 'supporting': 7611, 'supports': 7612, 'suppose': 7613, 'supposed': 7614, 'supposedly': 7615, 'supposeplugged': 7616, 'supreme': 7617, 'sure': 7618, 'surely': 7619, 'surf': 7620, 'surface': 7621, 'surfacepro': 7622, 'surfaceprostrue': 7623, 'surfaces': 7624, 'surfing': 7625, 'surgery': 7626, 'surpass': 7627, 'surprise': 7628, 'surprised': 7629, 'surprises': 7630, 'surprising': 7631, 'surprisingly': 7632, 'surveillance': 7633, 'survive': 7634, 'survived': 7635, 'surviving': 7636, 'sus': 7637, 'susceptible': 7638, 'suspect': 7639, 'suspected': 7640, 'suspicion': 7641, 'suspicions': 7642, 'suspicious': 7643, 'sustain': 7644, 'sustained': 7645, 'sux': 7646, 'sv': 7647, 'sw': 7648, 'swamped': 7649, 'swap': 7650, 'swapped': 7651, 'swapping': 7652, 'sway': 7653, 'swayed': 7654, 'sweat': 7655, 'sweet': 7656, 'sweetie': 7657, 'sweetspot': 7658, 'swell': 7659, 'swim': 7660, 'swipe': 7661, 'switch': 7662, 'switched': 7663, 'switching': 7664, 'swith': 7665, 'swore': 7666, 'swould': 7667, 'sx': 7668, 'sxs': 7669, 'syba': 7670, 'synced': 7671, 'synched': 7672, 'syncing': 7673, 'syncs': 7674, 'synonym': 7675, 'syslog': 7676, 'system': 7677, 'systemdependenti': 7678, 'systems': 7679, 'ta': 7680, 'tab': 7681, 'table': 7682, 'tables': 7683, 'tablet': 7684, 'tabletam': 7685, 'tabletan': 7686, 'tabletboth': 7687, 'tabletconsnone': 7688, 'tablete': 7689, 'tabletfyi': 7690, 'tablethave': 7691, 'tableti': 7692, 'tabletim': 7693, 'tabletit': 7694, 'tabletlaptop': 7695, 'tabletmy': 7696, 'tabletnotebook': 7697, 'tabletprices': 7698, 'tablets': 7699, 'tabletsince': 7700, 'tabletsjust': 7701, 'tabletso': 7702, 'tabletssamsung': 7703, 'tabletswith': 7704, 'tabletupdate': 7705, 'tabsthis': 7706, 'tactical': 7707, 'taduhnow': 7708, 'tag': 7709, 'take': 7710, 'taken': 7711, 'takes': 7712, 'taking': 7713, 'takingsending': 7714, 'talbet': 7715, 'talet': 7716, 'talk': 7717, 'talking': 7718, 'tambieacuten': 7719, 'tampered': 7720, 'tape': 7721, 'tapeare': 7722, 'taped': 7723, 'tapped': 7724, 'tapping': 7725, 'tardis': 7726, 'target': 7727, 'targeted': 7728, 'tarjeta': 7729, 'task': 7730, 'taskbar': 7731, 'tasks': 7732, 'tax': 7733, 'taxi': 7734, 'tb': 7735, 'team': 7736, 'tech': 7737, 'techie': 7738, 'techmoan': 7739, 'technical': 7740, 'technically': 7741, 'technique': 7742, 'techniquesso': 7743, 'techno': 7744, 'technological': 7745, 'technologies': 7746, 'technology': 7747, 'technologyfer': 7748, 'technologyno': 7749, 'technologyprice': 7750, 'techy': 7751, 'tel': 7752, 'telefono': 7753, 'telephone': 7754, 'telephones': 7755, 'tell': 7756, 'telling': 7757, 'tells': 7758, 'temp': 7759, 'temper': 7760, 'temperature': 7761, 'temperatureproof': 7762, 'temperatures': 7763, 'temperaturevibrations': 7764, 'temporary': 7765, 'tempted': 7766, 'ten': 7767, 'tend': 7768, 'tends': 7769, 'tengo': 7770, 'teniacutea': 7771, 'tenido': 7772, 'terabtye': 7773, 'terabyte': 7774, 'terabytes': 7775, 'term': 7776, 'terminal': 7777, 'terms': 7778, 'terrible': 7779, 'terribly': 7780, 'terrific': 7781, 'terrificso': 7782, 'territory': 7783, 'test': 7784, 'tested': 7785, 'testedtest': 7786, 'testers': 7787, 'testerwrite': 7788, 'testing': 7789, 'testphone': 7790, 'tests': 7791, 'testscard': 7792, 'testso': 7793, 'testvery': 7794, 'texas': 7795, 'text': 7796, 'textbooks': 7797, 'texts': 7798, 'tf': 7799, 'tft': 7800, 'tfthe': 7801, 'tfx': 7802, 'tge': 7803, 'th': 7804, 'tha': 7805, 'thank': 7806, 'thankfully': 7807, 'thanks': 7808, 'thanksdedit': 7809, 'thanksgiving': 7810, 'thankyou': 7811, 'thanroot': 7812, 'thatas': 7813, 'thatgreat': 7814, 'thati': 7815, 'thatit': 7816, 'thatll': 7817, 'thats': 7818, 'thatupdate': 7819, 'thatwas': 7820, 'theasus': 7821, 'thecustomer': 7822, 'theft': 7823, 'theirandroid': 7824, 'thekingston': 7825, 'themcons': 7826, 'themhey': 7827, 'themi': 7828, 'themselvesformatting': 7829, 'themso': 7830, 'themthe': 7831, 'themthis': 7832, 'theoretical': 7833, 'theoretically': 7834, 'thepny': 7835, 'thereafter': 7836, 'therebuy': 7837, 'therefore': 7838, 'thereguess': 7839, 'therei': 7840, 'thereif': 7841, 'thereill': 7842, 'thereon': 7843, 'theres': 7844, 'therethis': 7845, 'therewith': 7846, 'thesandisk': 7847, 'thesei': 7848, 'theseone': 7849, 'thesmaller': 7850, 'thetab': 7851, 'thetranscend': 7852, 'theyll': 7853, 'theyre': 7854, 'theyve': 7855, 'thick': 7856, 'thicker': 7857, 'thin': 7858, 'thing': 7859, 'thingafter': 7860, 'thingi': 7861, 'things': 7862, 'thingsi': 7863, 'thingsive': 7864, 'thingsother': 7865, 'thinig': 7866, 'think': 7867, 'thinking': 7868, 'thinkpad': 7869, 'thinks': 7870, 'thinner': 7871, 'third': 7872, 'thirdparty': 7873, 'thisallinall': 7874, 'thisbut': 7875, 'thisi': 7876, 'thisit': 7877, 'thisone': 7878, 'thisrunning': 7879, 'thissamsung': 7880, 'thisthe': 7881, 'thisthis': 7882, 'thisto': 7883, 'thisupdate': 7884, 'thisworks': 7885, 'tho': 7886, 'thorough': 7887, 'thoroughly': 7888, 'thoses': 7889, 'though': 7890, 'thoughafter': 7891, 'thoughalso': 7892, 'thoughi': 7893, 'thought': 7894, 'thoughts': 7895, 'thouhgt': 7896, 'thousand': 7897, 'thousands': 7898, 'three': 7899, 'threeyearold': 7900, 'threshold': 7901, 'threw': 7902, 'thrilled': 7903, 'thrive': 7904, 'throughconsnone': 7905, 'throughout': 7906, 'throughput': 7907, 'throughputso': 7908, 'throw': 7909, 'throwing': 7910, 'thrown': 7911, 'throws': 7912, 'thru': 7913, 'ths': 7914, 'tht': 7915, 'thth': 7916, 'thumb': 7917, 'thumbdrives': 7918, 'thumbnail': 7919, 'thumbnailif': 7920, 'thumbs': 7921, 'thunderbolt': 7922, 'thunk': 7923, 'thursday': 7924, 'thus': 7925, 'ti': 7926, 'ticket': 7927, 'tickets': 7928, 'ticking': 7929, 'tidy': 7930, 'tiempo': 7931, 'tierone': 7932, 'ties': 7933, 'tiger': 7934, 'tight': 7935, 'tightly': 7936, 'tightwhen': 7937, 'tile': 7938, 'till': 7939, 'tilt': 7940, 'time': 7941, 'timea': 7942, 'timeas': 7943, 'timedaniel': 7944, 'timeeven': 7945, 'timei': 7946, 'timeitem': 7947, 'timelapse': 7948, 'timelove': 7949, 'timely': 7950, 'timemachine': 7951, 'timeminus': 7952, 'timeotherwise': 7953, 'times': 7954, 'timeso': 7955, 'timesyoud': 7956, 'timethe': 7957, 'timeupdate': 7958, 'timeyour': 7959, 'timing': 7960, 'tiny': 7961, 'tip': 7962, 'tips': 7963, 'tiptop': 7964, 'tired': 7965, 'tires': 7966, 'title': 7967, 'tl': 7968, 'tmobile': 7969, 'toa': 7970, 'toast': 7971, 'todas': 7972, 'today': 7973, 'todayrecommend': 7974, 'todays': 7975, 'todayupdate': 7976, 'todetect': 7977, 'todo': 7978, 'together': 7979, 'togetherdecember': 7980, 'togetherthe': 7981, 'toilet': 7982, 'told': 7983, 'tolerable': 7984, 'tomorrow': 7985, 'tomorrowsame': 7986, 'ton': 7987, 'tonight': 7988, 'tons': 7989, 'tonsoroom': 7990, 'tony': 7991, 'tooheres': 7992, 'tooi': 7993, 'tooif': 7994, 'tooin': 7995, 'took': 7996, 'tool': 7997, 'toolive': 7998, 'toolkit': 7999, 'tools': 8000, 'toolthe': 8001, 'toono': 8002, 'top': 8003, 'topnotch': 8004, 'topo': 8005, 'topographic': 8006, 'tops': 8007, 'torch': 8008, 'tore': 8009, 'toshiba': 8010, 'tosmart': 8011, 'tospeed': 8012, 'tossed': 8013, 'totake': 8014, 'total': 8015, 'totaled': 8016, 'totaling': 8017, 'totally': 8018, 'tote': 8019, 'tothe': 8020, 'touch': 8021, 'touched': 8022, 'touching': 8023, 'touchwiz': 8024, 'touchy': 8025, 'tough': 8026, 'tour': 8027, 'toward': 8028, 'towards': 8029, 'towni': 8030, 'toy': 8031, 'toys': 8032, 'tps': 8033, 'trace': 8034, 'track': 8035, 'tracked': 8036, 'tracker': 8037, 'tracking': 8038, 'trackmy': 8039, 'trade': 8040, 'tradeoff': 8041, 'trading': 8042, 'traditional': 8043, 'traffic': 8044, 'trail': 8045, 'trailcam': 8046, 'train': 8047, 'tranfers': 8048, 'trans': 8049, 'transcend': 8050, 'transend': 8051, 'transfer': 8052, 'transferavoid': 8053, 'transfered': 8054, 'transfering': 8055, 'transferit': 8056, 'transferread': 8057, 'transferred': 8058, 'transferredthere': 8059, 'transferring': 8060, 'transfers': 8061, 'transformer': 8062, 'transistorsmicro': 8063, 'transition': 8064, 'translate': 8065, 'translates': 8066, 'translator': 8067, 'transmit': 8068, 'transport': 8069, 'transportboth': 8070, 'transported': 8071, 'transporting': 8072, 'trap': 8073, 'trascend': 8074, 'trash': 8075, 'trashed': 8076, 'travel': 8077, 'traveling': 8078, 'travelling': 8079, 'treat': 8080, 'treated': 8081, 'treats': 8082, 'tremendous': 8083, 'trend': 8084, 'trendformatted': 8085, 'trhgtr': 8086, 'trick': 8087, 'tricks': 8088, 'tried': 8089, 'tries': 8090, 'trigger': 8091, 'trillions': 8092, 'trilogy': 8093, 'trip': 8094, 'triple': 8095, 'tripled': 8096, 'trips': 8097, 'tripsholds': 8098, 'troible': 8099, 'trolling': 8100, 'trouble': 8101, 'troubles': 8102, 'troubleshoot': 8103, 'troubleshooting': 8104, 'troublesome': 8105, 'troublewill': 8106, 'trubles': 8107, 'truck': 8108, 'trucks': 8109, 'true': 8110, 'truly': 8111, 'trust': 8112, 'trusted': 8113, 'trusting': 8114, 'trustmy': 8115, 'trustworthy': 8116, 'trusty': 8117, 'truth': 8118, 'truthfully': 8119, 'try': 8120, 'tryfirst': 8121, 'trying': 8122, 'trypictures': 8123, 'tsgusdc': 8124, 'tsgusdhchas': 8125, 'tshirt': 8126, 'tsx': 8127, 'tta': 8128, 'ttacgr': 8129, 'tucked': 8130, 'tuesday': 8131, 'tuned': 8132, 'tunes': 8133, 'turn': 8134, 'turned': 8135, 'turns': 8136, 'tutto': 8137, 'tv': 8138, 'tvs': 8139, 'tweaking': 8140, 'twice': 8141, 'twist': 8142, 'two': 8143, 'twoenjoy': 8144, 'twoinone': 8145, 'twowould': 8146, 'tx': 8147, 'type': 8148, 'typer': 8149, 'types': 8150, 'typical': 8151, 'typically': 8152, 'typing': 8153, 'u': 8154, 'ubuntu': 8155, 'ughtablets': 8156, 'ugly': 8157, 'uh': 8158, 'uhc': 8159, 'uhs': 8160, 'uhsbenchmark': 8161, 'uhsi': 8162, 'uhsii': 8163, 'uhss': 8164, 'ui': 8165, 'uk': 8166, 'ultimate': 8167, 'ultimately': 8168, 'ultra': 8169, 'ultrabook': 8170, 'ultrabooks': 8171, 'ultracheap': 8172, 'ultrafer': 8173, 'ultrait': 8174, 'ultrajust': 8175, 'ultramini': 8176, 'ultras': 8177, 'ultrasandisk': 8178, 'ulttra': 8179, 'umpteen': 8180, 'un': 8181, 'una': 8182, 'unable': 8183, 'unacceptable': 8184, 'unallocated': 8185, 'unassisted': 8186, 'unaware': 8187, 'unbeatable': 8188, 'unbelievable': 8189, 'unbelievably': 8190, 'unchanged': 8191, 'unclassed': 8192, 'uncle': 8193, 'uncommon': 8194, 'unconscionable': 8195, 'uncontrollably': 8196, 'undamaged': 8197, 'understand': 8198, 'underwater': 8199, 'underwhelmed': 8200, 'undo': 8201, 'unencrypted': 8202, 'unerstand': 8203, 'unexpected': 8204, 'unexpectedly': 8205, 'unexpectedlythen': 8206, 'unfamiliar': 8207, 'unformatted': 8208, 'unformattedthey': 8209, 'unfortunately': 8210, 'unfortunatey': 8211, 'unfriendly': 8212, 'unfunctional': 8213, 'ungodly': 8214, 'unhappy': 8215, 'unhelpful': 8216, 'unibody': 8217, 'unimpressed': 8218, 'uninstall': 8219, 'uninterrupted': 8220, 'unique': 8221, 'unit': 8222, 'unitawful': 8223, 'units': 8224, 'universal': 8225, 'unix': 8226, 'unknowingly': 8227, 'unknown': 8228, 'unless': 8229, 'unlike': 8230, 'unlimited': 8231, 'unload': 8232, 'unloading': 8233, 'unlock': 8234, 'unlocked': 8235, 'unlucky': 8236, 'unmatched': 8237, 'unmodified': 8238, 'unmount': 8239, 'unmounted': 8240, 'unmountedit': 8241, 'unmounting': 8242, 'unmountremount': 8243, 'unmounts': 8244, 'unneeded': 8245, 'uno': 8246, 'unopened': 8247, 'unpackaged': 8248, 'unpacked': 8249, 'unpainted': 8250, 'unpatched': 8251, 'unplugged': 8252, 'unreadable': 8253, 'unreal': 8254, 'unrecognizable': 8255, 'unrecognized': 8256, 'unrecoverable': 8257, 'unredabletablet': 8258, 'unrelated': 8259, 'unreliable': 8260, 'unresponsive': 8261, 'unrooted': 8262, 'unsatisfied': 8263, 'unscientific': 8264, 'unscientifically': 8265, 'unspoken': 8266, 'unstable': 8267, 'unstoppable': 8268, 'unsupported': 8269, 'unsure': 8270, 'unsurpassed': 8271, 'unto': 8272, 'untouchable': 8273, 'unusable': 8274, 'unusablethe': 8275, 'unwrapped': 8276, 'unwriteable': 8277, 'unzipped': 8278, 'upcons': 8279, 'update': 8280, 'updated': 8281, 'updatei': 8282, 'updatekept': 8283, 'updates': 8284, 'updatessmashing': 8285, 'updatethis': 8286, 'updating': 8287, 'updo': 8288, 'upgradable': 8289, 'upgrade': 8290, 'upgradeable': 8291, 'upgraded': 8292, 'upgrades': 8293, 'upgradeworking': 8294, 'upgrading': 8295, 'upi': 8296, 'upif': 8297, 'upin': 8298, 'upload': 8299, 'uploaded': 8300, 'uploading': 8301, 'uploads': 8302, 'upon': 8303, 'upped': 8304, 'upper': 8305, 'upping': 8306, 'ups': 8307, 'upset': 8308, 'upsetbasically': 8309, 'upsets': 8310, 'upsetsome': 8311, 'upstore': 8312, 'upthe': 8313, 'upto': 8314, 'uptodate': 8315, 'upwards': 8316, 'upwas': 8317, 'ur': 8318, 'ure': 8319, 'url': 8320, 'urneadable': 8321, 'us': 8322, 'usa': 8323, 'usability': 8324, 'usable': 8325, 'usablearrived': 8326, 'usableinstalled': 8327, 'usage': 8328, 'usages': 8329, 'usb': 8330, 'usbclass': 8331, 'usbconnected': 8332, 'usbsd': 8333, 'usbthumbdrivedongle': 8334, 'usd': 8335, 'use': 8336, 'useability': 8337, 'useable': 8338, 'useablehighly': 8339, 'usecopying': 8340, 'used': 8341, 'usedi': 8342, 'usedonce': 8343, 'usedthat': 8344, 'useevery': 8345, 'useful': 8346, 'usefulcheers': 8347, 'usefull': 8348, 'usefulupdate': 8349, 'usei': 8350, 'useing': 8351, 'useit': 8352, 'useless': 8353, 'usenon': 8354, 'useoverall': 8355, 'user': 8356, 'useraccessible': 8357, 'userfriendliness': 8358, 'userreplaceable': 8359, 'users': 8360, 'usersi': 8361, 'uses': 8362, 'usescons': 8363, 'usgs': 8364, 'ush': 8365, 'ushi': 8366, 'ushiiwhich': 8367, 'using': 8368, 'uso': 8369, 'usps': 8370, 'usual': 8371, 'usualalthough': 8372, 'usually': 8373, 'usualspeed': 8374, 'utilities': 8375, 'utility': 8376, 'utilizado': 8377, 'utilize': 8378, 'utilized': 8379, 'utilizing': 8380, 'utttingthis': 8381, 'utube': 8382, 'v': 8383, 'va': 8384, 'vacation': 8385, 'vacations': 8386, 'vaio': 8387, 'valem': 8388, 'valey': 8389, 'validate': 8390, 'valuable': 8391, 'value': 8392, 'valuedeal': 8393, 'valuei': 8394, 'valuethe': 8395, 'vampirella': 8396, 'vanish': 8397, 'vanished': 8398, 'variant': 8399, 'variants': 8400, 'variations': 8401, 'varied': 8402, 'variety': 8403, 'various': 8404, 'vary': 8405, 'varying': 8406, 'vast': 8407, 'vbr': 8408, 'vcompared': 8409, 'vedio': 8410, 'vehicle': 8411, 'velocidad': 8412, 'velocidade': 8413, 'vender': 8414, 'vendor': 8415, 'vendors': 8416, 'vendorsthey': 8417, 'venture': 8418, 'venue': 8419, 'ver': 8420, 'verdict': 8421, 'verge': 8422, 'verified': 8423, 'verify': 8424, 'verizon': 8425, 'versa': 8426, 'versatile': 8427, 'versatility': 8428, 'verse': 8429, 'version': 8430, 'versions': 8431, 'verytough': 8432, 'vez': 8433, 'vhs': 8434, 'via': 8435, 'vibrant': 8436, 'vibration': 8437, 'vice': 8438, 'vid': 8439, 'video': 8440, 'videocapturing': 8441, 'videoflawless': 8442, 'videogame': 8443, 'videogreat': 8444, 'videohere': 8445, 'videoi': 8446, 'videoin': 8447, 'videoing': 8448, 'videoit': 8449, 'videopicture': 8450, 'videos': 8451, 'videosetc': 8452, 'videoshipping': 8453, 'videoshowever': 8454, 'videosi': 8455, 'videosjust': 8456, 'videosmovies': 8457, 'videosmusic': 8458, 'videoso': 8459, 'videostransfer': 8460, 'videothe': 8461, 'vids': 8462, 'view': 8463, 'viewable': 8464, 'viewed': 8465, 'viewedit': 8466, 'viewer': 8467, 'viewing': 8468, 'viewingediting': 8469, 'viewshooting': 8470, 'virb': 8471, 'virgin': 8472, 'virtual': 8473, 'virtually': 8474, 'virtues': 8475, 'virus': 8476, 'visible': 8477, 'visiblei': 8478, 'vision': 8479, 'vista': 8480, 'visual': 8481, 'visually': 8482, 'vital': 8483, 'vivid': 8484, 'vividi': 8485, 'vivo': 8486, 'vivotab': 8487, 'vixia': 8488, 'vl': 8489, 'vmware': 8490, 'voice': 8491, 'void': 8492, 'voids': 8493, 'voila': 8494, 'voltage': 8495, 'voltagesit': 8496, 'volume': 8497, 'volumn': 8498, 'vote': 8499, 'vouch': 8500, 'voyage': 8501, 'vs': 8502, 'vthissandisk': 8503, 'w': 8504, 'wa': 8505, 'waaaaaaay': 8506, 'wadapter': 8507, 'wait': 8508, 'waited': 8509, 'waiting': 8510, 'waitsno': 8511, 'waittheres': 8512, 'walk': 8513, 'walked': 8514, 'walkthroughs': 8515, 'wall': 8516, 'walla': 8517, 'wallet': 8518, 'walmart': 8519, 'wan': 8520, 'wand': 8521, 'wandboard': 8522, 'want': 8523, 'wantandroid': 8524, 'wanted': 8525, 'wantedloaded': 8526, 'wantedneeded': 8527, 'wanting': 8528, 'wantnever': 8529, 'wants': 8530, 'warehouse': 8531, 'warehouses': 8532, 'warm': 8533, 'warmalso': 8534, 'warned': 8535, 'warning': 8536, 'warnings': 8537, 'warningwith': 8538, 'warrant': 8539, 'warranties': 8540, 'warrantiesvery': 8541, 'warranty': 8542, 'warrantyconsnone': 8543, 'warrantyfree': 8544, 'warrantyi': 8545, 'warrantyoh': 8546, 'warrantyreplacement': 8547, 'warrantythe': 8548, 'warrenty': 8549, 'wars': 8550, 'wary': 8551, 'wasabi': 8552, 'wash': 8553, 'washed': 8554, 'washer': 8555, 'washing': 8556, 'wasis': 8557, 'wasnt': 8558, 'waste': 8559, 'wasted': 8560, 'wastedsandisk': 8561, 'wasteful': 8562, 'wasting': 8563, 'waswhile': 8564, 'watch': 8565, 'watchdog': 8566, 'watched': 8567, 'watcher': 8568, 'watches': 8569, 'watching': 8570, 'water': 8571, 'waterproof': 8572, 'wav': 8573, 'way': 8574, 'wayi': 8575, 'wayin': 8576, 'wayit': 8577, 'waylittle': 8578, 'ways': 8579, 'waywhats': 8580, 'wayyy': 8581, 'wayyyy': 8582, 'wbf': 8583, 'wd': 8584, 'weak': 8585, 'wearing': 8586, 'weary': 8587, 'weather': 8588, 'web': 8589, 'webpage': 8590, 'website': 8591, 'websitelolso': 8592, 'websites': 8593, 'wed': 8594, 'wedding': 8595, 'wednesday': 8596, 'wednesdays': 8597, 'week': 8598, 'weekend': 8599, 'weekened': 8600, 'weekother': 8601, 'weeks': 8602, 'weekscrystaldiskmark': 8603, 'weeksi': 8604, 'weeksso': 8605, 'weeksthe': 8606, 'weekthis': 8607, 'weekweekend': 8608, 'weighed': 8609, 'weighing': 8610, 'weight': 8611, 'weird': 8612, 'weirdwhy': 8613, 'welcome': 8614, 'welcomed': 8615, 'welcomeso': 8616, 'well': 8617, 'wellas': 8618, 'wellbuilt': 8619, 'wellexcellent': 8620, 'welli': 8621, 'wellid': 8622, 'welljohn': 8623, 'wellknown': 8624, 'welllove': 8625, 'wellthis': 8626, 'welltoday': 8627, 'welluntil': 8628, 'wellupdate': 8629, 'wellv': 8630, 'wellwith': 8631, 'wellwould': 8632, 'went': 8633, 'weorks': 8634, 'werent': 8635, 'werer': 8636, 'wet': 8637, 'wetrued': 8638, 'weve': 8639, 'wgb': 8640, 'whacha': 8641, 'whalla': 8642, 'whatever': 8643, 'whatnot': 8644, 'whats': 8645, 'whatsoever': 8646, 'whatsoeveri': 8647, 'whatsoeverworks': 8648, 'whenever': 8649, 'whereas': 8650, 'wherever': 8651, 'whet': 8652, 'whether': 8653, 'whilst': 8654, 'whim': 8655, 'whined': 8656, 'whit': 8657, 'white': 8658, 'whiteand': 8659, 'whitepros': 8660, 'whitewater': 8661, 'whoda': 8662, 'whoever': 8663, 'whole': 8664, 'whos': 8665, 'whose': 8666, 'whove': 8667, 'whyi': 8668, 'wide': 8669, 'widespread': 8670, 'wife': 8671, 'wifes': 8672, 'wifi': 8673, 'wiggle': 8674, 'wiggles': 8675, 'wii': 8676, 'wiith': 8677, 'wild': 8678, 'wildly': 8679, 'willi': 8680, 'willing': 8681, 'willingly': 8682, 'win': 8683, 'winand': 8684, 'wince': 8685, 'wind': 8686, 'window': 8687, 'windows': 8688, 'windshield': 8689, 'winner': 8690, 'winnertechnically': 8691, 'winter': 8692, 'winters': 8693, 'winvista': 8694, 'winwods': 8695, 'winxp': 8696, 'winzip': 8697, 'wipe': 8698, 'wiped': 8699, 'wipedword': 8700, 'wiping': 8701, 'wire': 8702, 'wired': 8703, 'wireless': 8704, 'wirelessly': 8705, 'wirting': 8706, 'wise': 8707, 'wish': 8708, 'wished': 8709, 'wishing': 8710, 'wishjust': 8711, 'wit': 8712, 'within': 8713, 'withing': 8714, 'withingb': 8715, 'without': 8716, 'withremoved': 8717, 'withsandisk': 8718, 'withthis': 8719, 'wiz': 8720, 'wizard': 8721, 'wizbang': 8722, 'wmvs': 8723, 'wnat': 8724, 'wo': 8725, 'woke': 8726, 'woks': 8727, 'wolf': 8728, 'woman': 8729, 'women': 8730, 'wonder': 8731, 'wonderful': 8732, 'wonderfully': 8733, 'wonderfullyand': 8734, 'wonderfullyi': 8735, 'wondering': 8736, 'wonders': 8737, 'wont': 8738, 'wood': 8739, 'woodbottom': 8740, 'woods': 8741, 'woodthe': 8742, 'woohoo': 8743, 'woohoodisclaimer': 8744, 'word': 8745, 'words': 8746, 'wordsi': 8747, 'wore': 8748, 'work': 8749, 'workable': 8750, 'workalthough': 8751, 'workaround': 8752, 'workas': 8753, 'worked': 8754, 'workeddell': 8755, 'workedi': 8756, 'worker': 8757, 'workflow': 8758, 'worki': 8759, 'workif': 8760, 'working': 8761, 'workingfast': 8762, 'workingno': 8763, 'workingso': 8764, 'workingthe': 8765, 'workloadhalf': 8766, 'workloads': 8767, 'workout': 8768, 'workput': 8769, 'works': 8770, 'worksabout': 8771, 'worksat': 8772, 'worksbest': 8773, 'worksdisk': 8774, 'worksplus': 8775, 'worksthank': 8776, 'worksthat': 8777, 'worksubsequently': 8778, 'workswrites': 8779, 'workthey': 8780, 'workvery': 8781, 'world': 8782, 'worlds': 8783, 'worldthese': 8784, 'worn': 8785, 'worried': 8786, 'worries': 8787, 'worry': 8788, 'worryfree': 8789, 'worrying': 8790, 'worrythe': 8791, 'worse': 8792, 'worst': 8793, 'worth': 8794, 'worthfulspeed': 8795, 'worthhowever': 8796, 'worthless': 8797, 'worthsempre': 8798, 'worthwhile': 8799, 'worthy': 8800, 'would': 8801, 'wouldnt': 8802, 'wouldve': 8803, 'wound': 8804, 'wow': 8805, 'wp': 8806, 'wprth': 8807, 'wrap': 8808, 'wrapped': 8809, 'wrapper': 8810, 'wrestle': 8811, 'wright': 8812, 'writable': 8813, 'write': 8814, 'writeprotect': 8815, 'writer': 8816, 'writeread': 8817, 'writereadback': 8818, 'writes': 8819, 'writespeed': 8820, 'writeusb': 8821, 'writewith': 8822, 'writing': 8823, 'writr': 8824, 'writs': 8825, 'written': 8826, 'wrock': 8827, 'wrong': 8828, 'wrongthe': 8829, 'wrongvery': 8830, 'wrote': 8831, 'wrting': 8832, 'wtf': 8833, 'wuslity': 8834, 'www': 8835, 'x': 8836, 'xac': 8837, 'xacti': 8838, 'xc': 8839, 'xcrystaldiskmark': 8840, 'xd': 8841, 'xda': 8842, 'xdadeveloper': 8843, 'xdate': 8844, 'xfer': 8845, 'xformatted': 8846, 'xian': 8847, 'xmas': 8848, 'xoom': 8849, 'xotherwise': 8850, 'xp': 8851, 'xperia': 8852, 'xps': 8853, 'xray': 8854, 'xrayproof': 8855, 'xs': 8856, 'xt': 8857, 'xthe': 8858, 'xvid': 8859, 'xx': 8860, 'ya': 8861, 'yaddayadda': 8862, 'yall': 8863, 'yap': 8864, 'yarn': 8865, 'yay': 8866, 'yeah': 8867, 'yeap': 8868, 'year': 8869, 'yearill': 8870, 'years': 8871, 'yearsfor': 8872, 'yearsi': 8873, 'yee': 8874, 'yellow': 8875, 'yellowstone': 8876, 'yep': 8877, 'yes': 8878, 'yesim': 8879, 'yesitem': 8880, 'yeslocal': 8881, 'yesno': 8882, 'yesterday': 8883, 'yet': 8884, 'yetdecember': 8885, 'yetfive': 8886, 'yethighly': 8887, 'yeti': 8888, 'yetit': 8889, 'yetits': 8890, 'yield': 8891, 'yielded': 8892, 'ymmv': 8893, 'yoga': 8894, 'youd': 8895, 'youfer': 8896, 'youimho': 8897, 'youll': 8898, 'youneed': 8899, 'young': 8900, 'youprosvery': 8901, 'youraul': 8902, 'youre': 8903, 'yoursthe': 8904, 'youtube': 8905, 'youtuber': 8906, 'youv': 8907, 'youve': 8908, 'youwant': 8909, 'youwow': 8910, 'yr': 8911, 'yrmv': 8912, 'yrs': 8913, 'yup': 8914, 'z': 8915, 'zar': 8916, 'zeepad': 8917, 'zenfolio': 8918, 'zero': 8919, 'zeroes': 8920, 'zerogb': 8921, 'zeros': 8922, 'zillion': 8923, 'zip': 8924, 'zippy': 8925, 'zips': 8926, 'zl': 8927, 'zone': 8928, 'zoning': 8929, 'zoom': 8930, 'zs': 8931, 'zte': 8932, 'ztpad': 8933, 'zumo': 8934, 'zune': 8935, 'zunehd': 8936}\n"
          ]
        }
      ]
    },
    {
      "cell_type": "markdown",
      "source": [
        "**Explanation**: To build a matrix of word co-occurrences, I first iterate over the corpus to extract all of the words. Then, for each word in the corpus, I assign the four context words on either side of it to the matrix. It is important to check if the center word and each context word are present in the word-to-index dictionary before assigning them to the matrix. Finally, I iterate over the matrix positions and increment their values by the number of times each pair of words occurs together."
      ],
      "metadata": {
        "id": "qsWLF0Mv49FJ"
      }
    },
    {
      "cell_type": "markdown",
      "source": [
        "### iii) Dimensionality reduction on the matrix M to produce k-dimensional embeddings"
      ],
      "metadata": {
        "id": "2Pcy1UtO4rTx"
      }
    },
    {
      "cell_type": "code",
      "source": [
        "def reduce_to_k_dim(M, k):\n",
        "  n_iters = 10\n",
        "  M_reduced = None\n",
        "  print(\"Running Truncated SVD over %i words...\" % (M.shape[0]))\n",
        "  svd = TruncatedSVD(n_components=k, n_iter=n_iters)\n",
        "  M_reduced = svd.fit_transform(M)\n",
        "  print(\"Done.\")\n",
        "  return M_reduced"
      ],
      "metadata": {
        "id": "VqW9alxmgW8R"
      },
      "execution_count": 29,
      "outputs": []
    },
    {
      "cell_type": "code",
      "source": [
        "M_reduced = reduce_to_k_dim(M, k=400)\n",
        "print(f'The new matrix shape is: \\n{M_reduced.shape}')"
      ],
      "metadata": {
        "id": "QJtwial7hLXU",
        "colab": {
          "base_uri": "https://localhost:8080/"
        },
        "outputId": "12f4b3d6-6d1e-4c2d-d0a0-f2d80be46826"
      },
      "execution_count": 30,
      "outputs": [
        {
          "output_type": "stream",
          "name": "stdout",
          "text": [
            "Running Truncated SVD over 8937 words...\n",
            "Done.\n",
            "The new matrix shape is: \n",
            "(8937, 400)\n"
          ]
        }
      ]
    },
    {
      "cell_type": "markdown",
      "source": [
        "**Explanation** : I used Truncated Singular Value Decomposition (SVD) to reduce the number of features in the word embedding matrix. SVD is a technique that can be used to decompose a matrix into a set of orthogonal vectors, where the first few vectors capture most of the variance in the data. I used a random number of k values to get different clusterings and visualizations of the word similarities."
      ],
      "metadata": {
        "id": "2-sioJfc5DOS"
      }
    },
    {
      "cell_type": "markdown",
      "source": [
        "### iv) Plotting the embeddings of few words."
      ],
      "metadata": {
        "id": "FiUKJGeH59Nz"
      }
    },
    {
      "cell_type": "code",
      "source": [
        "def plot_embeddings(M_reduced, word2ind, words_to_plot):\n",
        "    for word in words_to_plot:\n",
        "        idx = word2ind[word]\n",
        "        x = M_reduced[idx][0]\n",
        "        y = M_reduced[idx][1]\n",
        "        plt.scatter(x, y, marker='o',color='blue')\n",
        "        plt.text(x, y, word)\n",
        "    plt.show()"
      ],
      "metadata": {
        "id": "cVlejgxHh5sO"
      },
      "execution_count": 31,
      "outputs": []
    },
    {
      "cell_type": "code",
      "source": [
        "words_to_plot=['purchase', 'buy', 'work', 'got', 'ordered', 'received', 'product', 'item', 'deal', 'use']\n",
        "plot_embeddings(M_reduced, word2ind, words_to_plot)"
      ],
      "metadata": {
        "id": "loZvr-WDoSmu",
        "colab": {
          "base_uri": "https://localhost:8080/",
          "height": 430
        },
        "outputId": "bbc3d895-cf00-4268-9687-3c469f84cdb0"
      },
      "execution_count": 32,
      "outputs": [
        {
          "output_type": "display_data",
          "data": {
            "text/plain": [
              "<Figure size 640x480 with 1 Axes>"
            ],
            "image/png": "[encoded data removed]"
          },
          "metadata": {}
        }
      ]
    },
    {
      "cell_type": "markdown",
      "source": [
        "**Explanation**: The plot is easy to understand because words like \"item\", \"deal\", \"ordered\", \"purchase\", \"received\", and \"buy\" are commonly used in reviews and are similar to each other. However, words like \"work\", \"got\", and \"use\" are less common and not as frequently paired/used by reviewers. Finally, I believe that the word \"product\" could have been in the cluster of embedding plots, but it is not highly correlated due to the truncated version that was applied."
      ],
      "metadata": {
        "id": "YPyV4W-m-Z5S"
      }
    },
    {
      "cell_type": "markdown",
      "source": [
        "## **ii) Prediction-based word vectors from Glove**"
      ],
      "metadata": {
        "id": "Hv-A0BxikizO"
      }
    },
    {
      "cell_type": "code",
      "source": [
        "def load_embedding_model():\n",
        "  \"\"\" Load GloVe Vectors\n",
        "  Return:\n",
        "  wv_from_bin: All 400000 embeddings, each lengh 200\n",
        "  \"\"\"\n",
        "  import gensim.downloader as api\n",
        "  wv_from_bin = api.load(\"glove-wiki-gigaword-200\")\n",
        "  print(\"Loaded vocab size %i\" % len(list(wv_from_bin.index_to_key)))\n",
        "  return wv_from_bin\n",
        "wv_from_bin = load_embedding_model()"
      ],
      "metadata": {
        "id": "K5Dn_fRRrDl4",
        "colab": {
          "base_uri": "https://localhost:8080/"
        },
        "outputId": "d5693620-fbd4-457d-fd08-24a21196e920"
      },
      "execution_count": 33,
      "outputs": [
        {
          "output_type": "stream",
          "name": "stdout",
          "text": [
            "Loaded vocab size 400000\n"
          ]
        }
      ]
    },
    {
      "cell_type": "code",
      "source": [
        "def get_matrix_of_vectors(wv_from_bin, required_words):\n",
        "  \"\"\" Put the GloVe vectors into a matrix M.\n",
        "  Param:\n",
        "  wv_from_bin: KeyedVectors object; the 400000 GloVe vectors loaded from file\n",
        "  Return:\n",
        "  M: numpy matrix shape (num words, 200) containing the vectors word2ind: dictionary mapping each word to its row number in M\n",
        "  \"\"\"\n",
        "  import random\n",
        "  words = list(wv_from_bin.index_to_key)\n",
        "  print(\"Shuffling words ...\")\n",
        "  random.seed(225)\n",
        "  random.shuffle(words)\n",
        "  words = words[:10000]\n",
        "  print(\"Putting %i words into word2ind and matrix M...\" % len(words))\n",
        "  word2ind = {}\n",
        "  M = []\n",
        "  curInd = 0\n",
        "  for w in words:\n",
        "    try:\n",
        "      M.append(wv_from_bin.get_vector(w))\n",
        "      word2ind[w] = curInd\n",
        "      curInd += 1\n",
        "    except KeyError:\n",
        "      continue\n",
        "  for w in required_words:\n",
        "    if w in words:\n",
        "      continue\n",
        "    try:\n",
        "      M.append(wv_from_bin.get_vector(w))\n",
        "      word2ind[w] = curInd\n",
        "      curInd += 1\n",
        "    except KeyError: continue\n",
        "  M = np.stack(M)\n",
        "  print(\"Done.\")\n",
        "  return M, word2ind"
      ],
      "metadata": {
        "id": "nHK6IWiFmGq9"
      },
      "execution_count": 34,
      "outputs": []
    },
    {
      "cell_type": "code",
      "source": [
        "M_glove, word2Ind_glove = get_matrix_of_vectors(wv_from_bin, word_dict)\n",
        "M_reduced_glove = reduce_to_k_dim(M_glove, k=2)\n",
        "print(f'M reduced GLOVE shape: \\n{M_reduced_glove.shape} \\n')"
      ],
      "metadata": {
        "id": "az-SULVMr_S2",
        "colab": {
          "base_uri": "https://localhost:8080/"
        },
        "outputId": "58e84031-b71b-43d0-c8a9-c228c979e37d"
      },
      "execution_count": 35,
      "outputs": [
        {
          "output_type": "stream",
          "name": "stdout",
          "text": [
            "Shuffling words ...\n",
            "Putting 10000 words into word2ind and matrix M...\n",
            "Done.\n",
            "Running Truncated SVD over 15959 words...\n",
            "Done.\n",
            "M reduced GLOVE shape: \n",
            "(15959, 2) \n",
            "\n"
          ]
        }
      ]
    },
    {
      "cell_type": "code",
      "source": [
        "plot_embeddings(M_reduced_glove, word2Ind_glove, words_to_plot)"
      ],
      "metadata": {
        "id": "2VnhunW4slLr",
        "colab": {
          "base_uri": "https://localhost:8080/",
          "height": 430
        },
        "outputId": "759c6009-1337-4ca7-b289-a2ba11acd893"
      },
      "execution_count": 36,
      "outputs": [
        {
          "output_type": "display_data",
          "data": {
            "text/plain": [
              "<Figure size 640x480 with 1 Axes>"
            ],
            "image/png": "[encoded data removed]"
          },
          "metadata": {}
        }
      ]
    },
    {
      "cell_type": "markdown",
      "source": [
        "**Explanation**: Truncated SVD with k=2 does not capture enough information for Glove M=(16232, 2), but k=400 captures highly correlated information for M=(9466, 9466). This is because the explained variance ratio is higher for k=400."
      ],
      "metadata": {
        "id": "is86E49k1PY5"
      }
    },
    {
      "cell_type": "markdown",
      "source": [
        "# 3) Sentiment Classification Algorithms"
      ],
      "metadata": {
        "id": "HH5oX_2r5frO"
      }
    },
    {
      "cell_type": "markdown",
      "source": [
        "### Review embeddings"
      ],
      "metadata": {
        "id": "27dKhnz19N_Q"
      }
    },
    {
      "cell_type": "code",
      "source": [
        "M_reduced_ = reduce_to_k_dim(M, k=128)\n",
        "print(f'M reduced shape: {M_reduced_.shape} \\n')"
      ],
      "metadata": {
        "colab": {
          "base_uri": "https://localhost:8080/"
        },
        "id": "zbPh2NijaB9F",
        "outputId": "ca8024aa-98a5-43b6-d43d-a0ac9633a005"
      },
      "execution_count": 37,
      "outputs": [
        {
          "output_type": "stream",
          "name": "stdout",
          "text": [
            "Running Truncated SVD over 8937 words...\n",
            "Done.\n",
            "M reduced shape: (8937, 128) \n",
            "\n"
          ]
        }
      ]
    },
    {
      "cell_type": "code",
      "source": [
        "def review_embeddings(review, M, word2ind):\n",
        "  review_embeddings = []\n",
        "  for lst in review:\n",
        "    word_embedding = []\n",
        "    for token in lst:\n",
        "      if token in word2ind:\n",
        "        word_embedding.append(np.array(M[word2ind[token]]))\n",
        "    if len(lst) > 0:\n",
        "      review_embed = np.mean(word_embedding, axis=0)\n",
        "      review_embeddings.append(review_embed)\n",
        "  return np.array(review_embeddings)\n",
        "\n",
        "train_review_embedded = review_embeddings(x_train['reviewText'], M_reduced_, word2ind)\n",
        "val_review_embedded = review_embeddings(x_val['reviewText'], M_reduced_, word2ind)\n",
        "test_review_embedded = review_embeddings(x_test['reviewText'], M_reduced_, word2ind)\n",
        "\n",
        "print(f'The shape of review embedding for the train set is: {train_review_embedded.shape}')\n",
        "print(f'The shape of review embedding for the val set is: {val_review_embedded.shape}')\n",
        "print(f'The shape of review embedding for the test set is: {test_review_embedded.shape}')"
      ],
      "metadata": {
        "colab": {
          "base_uri": "https://localhost:8080/"
        },
        "id": "ckKQWKUpoW5K",
        "outputId": "25e17ce7-f110-42fe-ef41-6d71c820defb"
      },
      "execution_count": 38,
      "outputs": [
        {
          "output_type": "stream",
          "name": "stdout",
          "text": [
            "The shape of review embedding for the train set is: (3817, 128)\n",
            "The shape of review embedding for the val set is: (477, 128)\n",
            "The shape of review embedding for the test set is: (478, 128)\n"
          ]
        }
      ]
    },
    {
      "cell_type": "markdown",
      "source": [
        "**Explanation**\n",
        "- To get the review embeddings, I first iterated over each token in each review and built a word embedding array for each word, with a shape of (128, ). I did this because the reduced word embedding matrix, M_reduced_, has a shape of (8937, 128).\n",
        "\n",
        "- Next, to build the review embeddings, I averaged the word embedding arrays for each review. Finally, I appended all of the review embeddings to form a single review embedding matrix.\n",
        "\n",
        "- For example, if a review has 3 tokens, then the word embedding for each token will have a shape of (128, ), and the word embeddings will have a shape of (3, 128). To get the review embedding, I would apply the np.mean() function to the word embeddings, which would result in a shape of (128,).\n",
        "\n",
        "- Since there are 3817 reviews for train set, the shape of the review embedding matrix will be (3817, 128)."
      ],
      "metadata": {
        "id": "NCo6eiY69R-o"
      }
    },
    {
      "cell_type": "markdown",
      "source": [
        "### Model Implementation"
      ],
      "metadata": {
        "id": "OT0E1FcwEYLV"
      }
    },
    {
      "cell_type": "markdown",
      "source": [
        "#### i) Logistic Regression (L2 Regularization)"
      ],
      "metadata": {
        "id": "c--vwTooF3Ea"
      }
    },
    {
      "cell_type": "markdown",
      "source": [
        "The training review embedding data has values that are not scaled to the same range. This could cause the classification model to be biased towards certain values. To address this, I used a standard scaler to scale the data so that all of the values are on the same scale. This will help the classification model to make more accurate predictions."
      ],
      "metadata": {
        "id": "7svOI-GsEu5z"
      }
    },
    {
      "cell_type": "code",
      "source": [
        "from sklearn.preprocessing import StandardScaler\n",
        "from sklearn.linear_model import LogisticRegression\n",
        "from sklearn.metrics import accuracy_score, f1_score, classification_report, confusion_matrix, roc_curve, auc, roc_auc_score\n",
        "\n",
        "#standard scaling\n",
        "scaler = StandardScaler()\n",
        "train_review_embedded_scaled = scaler.fit_transform(train_review_embedded)\n",
        "\n",
        "clf = LogisticRegression(penalty='l2', max_iter=500)\n",
        "clf.fit(train_review_embedded_scaled, y_train)\n",
        "\n",
        "#scaled val and test data\n",
        "val_review_embedded_scaled = scaler.transform(val_review_embedded)\n",
        "test_review_embedded_scaled = scaler.transform(test_review_embedded)\n",
        "val_pred_lr = clf.predict(val_review_embedded_scaled)\n",
        "test_pred_lr = clf.predict(test_review_embedded_scaled)\n",
        "test_pred_probs_lr = clf.predict_proba(test_review_embedded_scaled)"
      ],
      "metadata": {
        "id": "OU7dm4-TpED_"
      },
      "execution_count": 39,
      "outputs": []
    },
    {
      "cell_type": "markdown",
      "source": [
        "#### ii) Neural Network with tensorflow"
      ],
      "metadata": {
        "id": "0YRN44HWF7TN"
      }
    },
    {
      "cell_type": "code",
      "source": [
        "import tensorflow as tf\n",
        "model_tf = tf.keras.models.Sequential([\n",
        "    tf.keras.layers.Dense(64, activation='relu', input_shape=(train_review_embedded.shape[1],)),\n",
        "    tf.keras.layers.BatchNormalization(),\n",
        "    tf.keras.layers.Dense(32, activation='relu'),\n",
        "    tf.keras.layers.BatchNormalization(),\n",
        "    tf.keras.layers.Dense(1, activation='sigmoid')\n",
        "  ])\n",
        "\n",
        "model_tf.compile(optimizer='Adam', loss='binary_crossentropy', metrics=['accuracy'])\n",
        "model_tf.fit(train_review_embedded, y_train, epochs=10)"
      ],
      "metadata": {
        "colab": {
          "base_uri": "https://localhost:8080/"
        },
        "id": "8Hh5J1iIwvSA",
        "outputId": "f0de0334-e08c-4546-fcce-c9c10f3495cf"
      },
      "execution_count": 40,
      "outputs": [
        {
          "output_type": "stream",
          "name": "stdout",
          "text": [
            "Epoch 1/10\n",
            "120/120 [==============================] - 2s 3ms/step - loss: 0.5541 - accuracy: 0.7453\n",
            "Epoch 2/10\n",
            "120/120 [==============================] - 0s 3ms/step - loss: 0.2898 - accuracy: 0.9337\n",
            "Epoch 3/10\n",
            "120/120 [==============================] - 0s 2ms/step - loss: 0.1862 - accuracy: 0.9447\n",
            "Epoch 4/10\n",
            "120/120 [==============================] - 0s 3ms/step - loss: 0.1501 - accuracy: 0.9500\n",
            "Epoch 5/10\n",
            "120/120 [==============================] - 0s 3ms/step - loss: 0.1323 - accuracy: 0.9526\n",
            "Epoch 6/10\n",
            "120/120 [==============================] - 0s 3ms/step - loss: 0.1233 - accuracy: 0.9560\n",
            "Epoch 7/10\n",
            "120/120 [==============================] - 0s 3ms/step - loss: 0.1166 - accuracy: 0.9534\n",
            "Epoch 8/10\n",
            "120/120 [==============================] - 0s 3ms/step - loss: 0.1094 - accuracy: 0.9594\n",
            "Epoch 9/10\n",
            "120/120 [==============================] - 0s 3ms/step - loss: 0.1029 - accuracy: 0.9591\n",
            "Epoch 10/10\n",
            "120/120 [==============================] - 0s 2ms/step - loss: 0.1060 - accuracy: 0.9602\n"
          ]
        },
        {
          "output_type": "execute_result",
          "data": {
            "text/plain": [
              "<keras.src.callbacks.History at 0x7b2dbf502c20>"
            ]
          },
          "metadata": {},
          "execution_count": 40
        }
      ]
    },
    {
      "cell_type": "code",
      "source": [
        "# val dataset\n",
        "val_pred_probs = model_tf.predict(val_review_embedded)\n",
        "val_pred_NN = (val_pred_probs > 0.5).astype(int)\n",
        "\n",
        "\n",
        "\n",
        "# test dataset\n",
        "test_pred_probs = model_tf.predict(test_review_embedded)\n",
        "test_pred_NN = (test_pred_probs > 0.5).astype(int)"
      ],
      "metadata": {
        "colab": {
          "base_uri": "https://localhost:8080/"
        },
        "id": "D8uwHr5ZyGoA",
        "outputId": "b0abaab0-c48e-4171-a660-97d1eb94115a"
      },
      "execution_count": 41,
      "outputs": [
        {
          "output_type": "stream",
          "name": "stdout",
          "text": [
            "15/15 [==============================] - 0s 2ms/step\n",
            "15/15 [==============================] - 0s 2ms/step\n"
          ]
        }
      ]
    },
    {
      "cell_type": "markdown",
      "source": [
        "### Model Evaluation"
      ],
      "metadata": {
        "id": "3swPYoUSGjCa"
      }
    },
    {
      "cell_type": "markdown",
      "source": [
        "To evaluate the performance of the sentiment classification model:\n",
        "- Accuracy\n",
        "- F1 Score\n",
        "- AUC (Area Under Curve)\n",
        "- ROC AUC Score\n",
        "\n",
        "Visualizations to help understand the model's performance:\n",
        "- Classification report\n",
        "- confusion matrix\n",
        "- AUC curve"
      ],
      "metadata": {
        "id": "YQTskiKyGo5L"
      }
    },
    {
      "cell_type": "markdown",
      "source": [
        "#### i) Logistic Regression Evaluations"
      ],
      "metadata": {
        "id": "kscmNA1kHk0P"
      }
    },
    {
      "cell_type": "code",
      "source": [
        "# validation dataset\n",
        "val_accuracy_lr = accuracy_score(y_val, val_pred_lr)\n",
        "val_f1_lr = f1_score(y_val, val_pred_lr)\n",
        "val_class_report_lr = classification_report(y_val, val_pred_lr)\n",
        "\n",
        "# Print the confusion matrix\n",
        "print(\"Validation Metrics:\")\n",
        "print(f'The validation set accuracy for Logistic Regression: {val_accuracy_lr:.2f}')\n",
        "print(f'The validation set F1 Score for Logistic Regression: {val_f1_lr:.2f} \\n')\n",
        "print(f'Classification Report for  Logistic Regression val dataset:\\n {val_class_report_lr}')\n",
        "\n",
        "\n",
        "#test dataset\n",
        "test_accuracy_lr = accuracy_score(y_test, test_pred_lr)\n",
        "test_f1_lr = f1_score(y_test, test_pred_lr)\n",
        "test_class_report_lr = classification_report(y_test, test_pred_lr)\n",
        "\n",
        "print(\"\\nTest Metrics:\")\n",
        "print(f'The test dataset accuracy for Logistic Regression: {test_accuracy_lr:.2f}')\n",
        "print(f'The test dataset F1 Score for Logistic Regression: {test_f1_lr:.2f} \\n')\n",
        "print(f'Classification Report for Logistic Regression test dataset: \\n {test_class_report_lr}')"
      ],
      "metadata": {
        "colab": {
          "base_uri": "https://localhost:8080/"
        },
        "id": "_yRbwWQSFdCY",
        "outputId": "7cf98145-3b58-43fa-bf90-e4dcdabbe54e"
      },
      "execution_count": 42,
      "outputs": [
        {
          "output_type": "stream",
          "name": "stdout",
          "text": [
            "Validation Metrics:\n",
            "The validation set accuracy for Logistic Regression: 0.96\n",
            "The validation set F1 Score for Logistic Regression: 0.98 \n",
            "\n",
            "Classification Report for  Logistic Regression val dataset:\n",
            "               precision    recall  f1-score   support\n",
            "\n",
            "           0       0.74      0.61      0.67        33\n",
            "           1       0.97      0.98      0.98       444\n",
            "\n",
            "    accuracy                           0.96       477\n",
            "   macro avg       0.86      0.80      0.82       477\n",
            "weighted avg       0.96      0.96      0.96       477\n",
            "\n",
            "\n",
            "Test Metrics:\n",
            "The test dataset accuracy for Logistic Regression: 0.95\n",
            "The test dataset F1 Score for Logistic Regression: 0.97 \n",
            "\n",
            "Classification Report for Logistic Regression test dataset: \n",
            "               precision    recall  f1-score   support\n",
            "\n",
            "           0       0.66      0.58      0.61        33\n",
            "           1       0.97      0.98      0.97       445\n",
            "\n",
            "    accuracy                           0.95       478\n",
            "   macro avg       0.81      0.78      0.79       478\n",
            "weighted avg       0.95      0.95      0.95       478\n",
            "\n"
          ]
        }
      ]
    },
    {
      "cell_type": "markdown",
      "source": [
        "#### ii) Neural Network Model"
      ],
      "metadata": {
        "id": "XB-K5NbkVCW1"
      }
    },
    {
      "cell_type": "code",
      "source": [
        "val_accuracy_NN = accuracy_score(y_val, val_pred_NN)\n",
        "val_f1_NN = f1_score(y_val, val_pred_NN)\n",
        "val_class_report_NN = classification_report(y_val, val_pred_NN, target_names=['Class 0', 'Class 1'])\n",
        "\n",
        "print(\"Validation Metrics:\")\n",
        "print(f\"The validation set accuracy for Neural Network : {val_accuracy_NN:.2f}\")\n",
        "print(f\"The validation set F1 Score for Neural Network: {val_f1_NN:.2f}\")\n",
        "print(f\"Classification Report for  Neural Network val dataset: \\n {val_class_report_NN}\")\n",
        "\n",
        "\n",
        "test_accuracy_NN = accuracy_score(y_test, test_pred_NN)\n",
        "test_f1_NN = f1_score(y_test, test_pred_NN)\n",
        "test_class_report_NN = classification_report(y_test, test_pred_NN, target_names=['Class 0', 'Class 1'])\n",
        "\n",
        "\n",
        "print(\"\\nTest Metrics:\")\n",
        "print(f\"The test dataset accuracy for Neural Network: {test_accuracy_NN:.2f}\")\n",
        "print(f\"The test dataset F1 Score for Neural Network: {test_f1_NN:.2f}\")\n",
        "print(f\"Classification Report for Logistic Regression test dataset: \\n {test_class_report_NN}\")\n",
        "\n"
      ],
      "metadata": {
        "colab": {
          "base_uri": "https://localhost:8080/"
        },
        "id": "6UjymPZoFybq",
        "outputId": "a9e31974-2dd5-4ded-e6ad-09d12bca26b2"
      },
      "execution_count": 43,
      "outputs": [
        {
          "output_type": "stream",
          "name": "stdout",
          "text": [
            "Validation Metrics:\n",
            "The validation set accuracy for Neural Network : 0.95\n",
            "The validation set F1 Score for Neural Network: 0.98\n",
            "Classification Report for  Neural Network val dataset: \n",
            "               precision    recall  f1-score   support\n",
            "\n",
            "     Class 0       0.74      0.52      0.61        33\n",
            "     Class 1       0.96      0.99      0.98       444\n",
            "\n",
            "    accuracy                           0.95       477\n",
            "   macro avg       0.85      0.75      0.79       477\n",
            "weighted avg       0.95      0.95      0.95       477\n",
            "\n",
            "\n",
            "Test Metrics:\n",
            "The test dataset accuracy for Neural Network: 0.96\n",
            "The test dataset F1 Score for Neural Network: 0.98\n",
            "Classification Report for Logistic Regression test dataset: \n",
            "               precision    recall  f1-score   support\n",
            "\n",
            "     Class 0       0.75      0.64      0.69        33\n",
            "     Class 1       0.97      0.98      0.98       445\n",
            "\n",
            "    accuracy                           0.96       478\n",
            "   macro avg       0.86      0.81      0.83       478\n",
            "weighted avg       0.96      0.96      0.96       478\n",
            "\n"
          ]
        }
      ]
    },
    {
      "cell_type": "markdown",
      "source": [
        "Matrix Evaluation Visuals"
      ],
      "metadata": {
        "id": "Rbk6aF9AME5K"
      }
    },
    {
      "cell_type": "code",
      "source": [
        "import seaborn as sns\n",
        "class_labels = ['Negative', 'Positive']\n",
        "\n",
        "fig, axes = plt.subplots(1, 2, figsize=(10, 3))  # Create a 1x2 grid of subplots\n",
        "\n",
        "# Confusion matrix for Logistic Regression\n",
        "confusion_mat_test_lr = confusion_matrix(y_test, test_pred_lr)\n",
        "sns.heatmap(confusion_mat_test_lr, annot=True, fmt='d', cmap='Blues', cbar=False, xticklabels=class_labels, yticklabels=class_labels, ax=axes[0])\n",
        "axes[0].set_xlabel('Predicted')\n",
        "axes[0].set_ylabel('Actual')\n",
        "axes[0].set_title('Confusion Matrix for Logistic Regression')\n",
        "\n",
        "# Confusion matrix for Neural Network\n",
        "test_confusion_mat_NN = confusion_matrix(y_test, test_pred_NN)\n",
        "sns.heatmap(test_confusion_mat_NN, annot=True, fmt='d', cmap='Blues', cbar=False, xticklabels=class_labels, yticklabels=class_labels, ax=axes[1])\n",
        "axes[1].set_xlabel('Predicted')\n",
        "axes[1].set_ylabel('Actual')\n",
        "axes[1].set_title('Confusion Matrix for Neural Network')\n",
        "\n",
        "plt.tight_layout()\n",
        "plt.show()\n"
      ],
      "metadata": {
        "colab": {
          "base_uri": "https://localhost:8080/",
          "height": 307
        },
        "id": "DVVWrrLDL92U",
        "outputId": "a97be870-3387-4b6e-b387-be2a29deb476"
      },
      "execution_count": 44,
      "outputs": [
        {
          "output_type": "display_data",
          "data": {
            "text/plain": [
              "<Figure size 1000x300 with 2 Axes>"
            ],
            "image/png": "[encoded data removed]"
          },
          "metadata": {}
        }
      ]
    },
    {
      "cell_type": "code",
      "source": [
        "# ROC Curve\n",
        "fig, axes = plt.subplots(1, 2, figsize=(10, 4))\n",
        "\n",
        "test_auc_lr = roc_auc_score(y_test, test_pred_lr)\n",
        "fpr_test, tpr_test, thresholds = roc_curve(y_test, test_pred_probs_lr[:,1])\n",
        "roc_auc_lr = auc(fpr_test, tpr_test)\n",
        "\n",
        "axes[0].plot(fpr_test, tpr_test, color='darkorange', lw=2, label=f'ROC curve (AUC = {roc_auc_lr:.2f})')\n",
        "axes[0].plot([0, 1], [0, 1], color='navy', lw=2, linestyle='--')\n",
        "axes[0].set_xlim([0.0, 1.0])\n",
        "axes[0].set_ylim([0.0, 1.05])\n",
        "axes[0].set_xlabel('False Positive Rate')\n",
        "axes[0].set_ylabel('True Positive Rate')\n",
        "axes[0].set_title('ROC Curve for Logistic Regression Model')\n",
        "axes[0].legend(loc='lower right')\n",
        "\n",
        "test_auc_NN = roc_auc_score(y_test, test_pred_NN)\n",
        "fpr_, tpr_, thresholds_ = roc_curve(y_test, test_pred_probs)\n",
        "roc_auc_NN = auc(fpr_, tpr_)\n",
        "\n",
        "axes[1].plot(fpr_, tpr_, color='darkorange', lw=2, label=f'ROC curve (area = {roc_auc_NN:.2f})')\n",
        "axes[1].plot([0, 1], [0, 1], color='navy', lw=2, linestyle='--')\n",
        "axes[1].set_xlim([0.0, 1.0])\n",
        "axes[1].set_ylim([0.0, 1.05])\n",
        "axes[1].set_xlabel('False Positive Rate')\n",
        "axes[1].set_ylabel('True Positive Rate')\n",
        "axes[1].set_title('ROC Curve for Neural Network Model')\n",
        "axes[1].legend(loc='lower right')\n",
        "\n",
        "plt.tight_layout()\n",
        "plt.show()\n"
      ],
      "metadata": {
        "colab": {
          "base_uri": "https://localhost:8080/",
          "height": 407
        },
        "id": "s3UjC42ER2jS",
        "outputId": "3581a26f-b6f1-477b-f5a6-00f4ea2d2f53"
      },
      "execution_count": 45,
      "outputs": [
        {
          "output_type": "display_data",
          "data": {
            "text/plain": [
              "<Figure size 1000x400 with 2 Axes>"
            ],
            "image/png": "[encoded data removed]"
          },
          "metadata": {}
        }
      ]
    },
    {
      "cell_type": "code",
      "source": [
        "results = pd.DataFrame({\n",
        "    'Model': ['Logistic Regression', 'Neural Network'],\n",
        "    'Accuracy': [round(test_accuracy_lr,2), round(test_accuracy_NN,2)],\n",
        "    'F1 Score': [round(test_f1_lr,2), round(test_f1_NN,2)],\n",
        "    'AUC': [round(roc_auc_lr,2), round(roc_auc_NN,2)]\n",
        "})\n",
        "print(results)"
      ],
      "metadata": {
        "colab": {
          "base_uri": "https://localhost:8080/"
        },
        "id": "wLJPeTknZw-s",
        "outputId": "11310379-e825-4e24-d4b1-52e3c24b4e9c"
      },
      "execution_count": 46,
      "outputs": [
        {
          "output_type": "stream",
          "name": "stdout",
          "text": [
            "                 Model  Accuracy  F1 Score   AUC\n",
            "0  Logistic Regression      0.95      0.97  0.95\n",
            "1       Neural Network      0.96      0.98  0.93\n"
          ]
        }
      ]
    },
    {
      "cell_type": "markdown",
      "source": [
        "**Final Results and Model Selection**:\n",
        "\n",
        "AUC is a better overall measure of model performance than F1 score, as it takes into account both precision and recall.\n",
        "\n",
        "Therefore, the logistic regression model is the better model. It is more accurate, has a higher F1 score, and has a higher AUC than the neural network model.\n",
        "\n",
        "I also believe that Logistic regression is simpler and less prone to overfitting on small datasets than neural networks.\n",
        "\n",
        "The ***logistic regression model outperforms*** the neural network model on all metrics, and is simpler, making it less prone to overfitting on small datasets\n",
        "\n",
        "**P.S: Since the results of the notebook may vary each time it is run, my explanation for selecting the better model will be helpful. This is because the model selection process is affected by the random state that is selected when splitting the datasets.**"
      ],
      "metadata": {
        "id": "DhVOszG3XOCl"
      }
    }
  ]
}